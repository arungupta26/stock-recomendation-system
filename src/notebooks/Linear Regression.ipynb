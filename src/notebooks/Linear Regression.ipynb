{
 "cells": [
  {
   "cell_type": "markdown",
   "metadata": {
    "id": "00XLtFUKwAas"
   },
   "source": [
    "# Stock linear regression analysis\n",
    "Build the linear regression models of stocks to get the coefficients representing trends (class method)"
   ]
  },
  {
   "cell_type": "markdown",
   "metadata": {
    "id": "tBq7goYvwAaw"
   },
   "source": [
    "# Part 1:  build functions and test using stock_list_test.txt"
   ]
  },
  {
   "cell_type": "code",
   "execution_count": 24,
   "metadata": {
    "id": "6VuwANcYwAaw"
   },
   "outputs": [],
   "source": [
    "import numpy as np\n",
    "from sklearn import datasets, linear_model\n",
    "import pandas as pd\n",
    "import matplotlib.pyplot as pl\n",
    "\n",
    "#!pip install yfinance\n",
    "\n",
    "import yfinance as yf\n",
    "from datetime import date\n",
    "\n",
    "stock_coefficient_file_name= './../resources/Stock_Coefficients.csv'\n",
    "\n",
    "# Considering data from 2000 to till date for latest trend\n",
    "start = '2018-01-01'\n",
    "end = date.today().strftime(\"%Y-%m-%d\")\n"
   ]
  },
  {
   "cell_type": "markdown",
   "metadata": {
    "id": "wxJsqhQMwAay"
   },
   "source": [
    "For the consistency of the whole project, read the stock list of all the symbols we needed in the text file.\n",
    "- The stock_list_test.txt is cutted from the stock_list.txt, and it should be in the same directory as this ipynb file.\n",
    "- The stock_list.txt is generated from the first part of the project"
   ]
  },
  {
   "cell_type": "code",
   "execution_count": 25,
   "metadata": {
    "id": "aE1ArCg-wAay"
   },
   "outputs": [],
   "source": [
    "# function1 to get stock list from text file\n",
    "def get_list(filename):\n",
    "    # pandas read file into data frame\n",
    "    stocks = pd.read_csv(filename, header = None)\n",
    "    stocks[0] = stocks[0].str.upper()\n",
    "    # convert the data frame to numpy array\n",
    "    stock_array = stocks.values\n",
    "    return stock_array"
   ]
  },
  {
   "cell_type": "code",
   "execution_count": 26,
   "metadata": {
    "colab": {
     "base_uri": "https://localhost:8080/"
    },
    "executionInfo": {
     "elapsed": 7,
     "status": "ok",
     "timestamp": 1642523863946,
     "user": {
      "displayName": "Arun Gupta",
      "photoUrl": "https://lh3.googleusercontent.com/a-/AOh14GjZ0r2_qavLn9AbtvMSxJwWYVFWB-x9SDaJ5tYKvw=s64",
      "userId": "11788109729769979815"
     },
     "user_tz": -330
    },
    "id": "7dc0c9AMwAaz",
    "outputId": "75d918d7-e1b2-4737-ad13-b541d2733799"
   },
   "outputs": [
    {
     "data": {
      "text/plain": [
       "array([['AARTIIND.NS'],\n",
       "       ['ABBOTINDIA.NS'],\n",
       "       ['ACC.NS'],\n",
       "       ['ADANIENT.NS'],\n",
       "       ['ADANIPORTS.NS']], dtype=object)"
      ]
     },
     "execution_count": 26,
     "metadata": {},
     "output_type": "execute_result"
    }
   ],
   "source": [
    "# function1 using example using stock_list_test.txt\n",
    "stock_array = get_list('./../resources/stock_list.txt')\n",
    "stock_array[:5]\n"
   ]
  },
  {
   "cell_type": "markdown",
   "metadata": {
    "id": "ZXGSTdFJwAa0"
   },
   "source": [
    "For fetching historical data from yahoo finance, an addtional package pandas_datareader are used here, which can be installed with pip from the command line:\n",
    "\n",
    "pip install pandas-datareader\n",
    "\n",
    "We can specify the stock symbol, start date, end date and also the data source.\n",
    "\n",
    "There are three exceptions defined for handling error while fetching data using datareader:\n",
    "- error RemoteDataError: when the symbol is not valid and can't be find in the dataset\n",
    "- error KeyError: when there isn't full data for the input data range(start, end)"
   ]
  },
  {
   "cell_type": "code",
   "execution_count": 27,
   "metadata": {
    "id": "gLvGbPhiwAa1"
   },
   "outputs": [],
   "source": [
    "import pandas_datareader.data as web\n",
    "from pandas_datareader._utils import RemoteDataError\n",
    "\n",
    "# Considering data from 2018 to 2019 for latest trend\n",
    "start = '2018-01-01'\n",
    "end = date.today().strftime(\"%Y-%m-%d\")\n",
    "\n",
    "# function2: get historical data for a specific stock, using symbol as the parameter\n",
    "def load_stock_data(symbol):\n",
    "    try:\n",
    "        df = yf.download(symbol , start , end )\n",
    "        #web.DataReader(symbol, 'yahoo', start, end)\n",
    "    except RemoteDataError:\n",
    "        print(\"No search result : '\" + symbol + \"'\")\n",
    "        return float('NaN')\n",
    "    except KeyError:\n",
    "        print(\"Date range not supported : '\" + symbol + \"'\")\n",
    "        return float('NaN')\n",
    "    close = df[['Close']]\n",
    "    \n",
    "    # Normalize close value by divided by the base value (the close price of the earliest day) and multiplied by 100\n",
    "    base = close.iloc[0]['Close']\n",
    "    # neglect the stocks the initial close price < 25 USD to insure the selected stock value\n",
    "    if base > 10 :\n",
    "        close = close.assign(Close = close['Close'] / base * 100)\n",
    "    return close"
   ]
  },
  {
   "cell_type": "code",
   "execution_count": 28,
   "metadata": {
    "colab": {
     "base_uri": "https://localhost:8080/",
     "height": 255
    },
    "executionInfo": {
     "elapsed": 1960,
     "status": "ok",
     "timestamp": 1642523865902,
     "user": {
      "displayName": "Arun Gupta",
      "photoUrl": "https://lh3.googleusercontent.com/a-/AOh14GjZ0r2_qavLn9AbtvMSxJwWYVFWB-x9SDaJ5tYKvw=s64",
      "userId": "11788109729769979815"
     },
     "user_tz": -330
    },
    "id": "_6Qfe9JvwAa2",
    "outputId": "f97bfd6a-e49e-4ac3-878e-6bd799691410"
   },
   "outputs": [
    {
     "name": "stdout",
     "output_type": "stream",
     "text": [
      "[*********************100%***********************]  1 of 1 completed\n"
     ]
    },
    {
     "data": {
      "text/html": [
       "<div>\n",
       "<style scoped>\n",
       "    .dataframe tbody tr th:only-of-type {\n",
       "        vertical-align: middle;\n",
       "    }\n",
       "\n",
       "    .dataframe tbody tr th {\n",
       "        vertical-align: top;\n",
       "    }\n",
       "\n",
       "    .dataframe thead th {\n",
       "        text-align: right;\n",
       "    }\n",
       "</style>\n",
       "<table border=\"1\" class=\"dataframe\">\n",
       "  <thead>\n",
       "    <tr style=\"text-align: right;\">\n",
       "      <th></th>\n",
       "      <th>Close</th>\n",
       "    </tr>\n",
       "    <tr>\n",
       "      <th>Date</th>\n",
       "      <th></th>\n",
       "    </tr>\n",
       "  </thead>\n",
       "  <tbody>\n",
       "    <tr>\n",
       "      <th>2018-01-01</th>\n",
       "      <td>100.000000</td>\n",
       "    </tr>\n",
       "    <tr>\n",
       "      <th>2018-01-02</th>\n",
       "      <td>99.632443</td>\n",
       "    </tr>\n",
       "    <tr>\n",
       "      <th>2018-01-03</th>\n",
       "      <td>101.436014</td>\n",
       "    </tr>\n",
       "    <tr>\n",
       "      <th>2018-01-04</th>\n",
       "      <td>100.529956</td>\n",
       "    </tr>\n",
       "    <tr>\n",
       "      <th>2018-01-05</th>\n",
       "      <td>100.209415</td>\n",
       "    </tr>\n",
       "  </tbody>\n",
       "</table>\n",
       "</div>"
      ],
      "text/plain": [
       "                 Close\n",
       "Date                  \n",
       "2018-01-01  100.000000\n",
       "2018-01-02   99.632443\n",
       "2018-01-03  101.436014\n",
       "2018-01-04  100.529956\n",
       "2018-01-05  100.209415"
      ]
     },
     "execution_count": 28,
     "metadata": {},
     "output_type": "execute_result"
    }
   ],
   "source": [
    "A_close = load_stock_data('RBL.NS')\n",
    "A_close[:5]"
   ]
  },
  {
   "cell_type": "code",
   "execution_count": 29,
   "metadata": {
    "colab": {
     "base_uri": "https://localhost:8080/",
     "height": 286
    },
    "executionInfo": {
     "elapsed": 1929,
     "status": "ok",
     "timestamp": 1642523867825,
     "user": {
      "displayName": "Arun Gupta",
      "photoUrl": "https://lh3.googleusercontent.com/a-/AOh14GjZ0r2_qavLn9AbtvMSxJwWYVFWB-x9SDaJ5tYKvw=s64",
      "userId": "11788109729769979815"
     },
     "user_tz": -330
    },
    "id": "ZONJ9_1uwAa3",
    "outputId": "e45c6e0c-fb76-4c29-fc96-cbe311978189"
   },
   "outputs": [
    {
     "name": "stdout",
     "output_type": "stream",
     "text": [
      "[*********************100%***********************]  1 of 1 completed\n"
     ]
    },
    {
     "data": {
      "image/png": "[encoded data removed]",
      "text/plain": [
       "<Figure size 432x288 with 1 Axes>"
      ]
     },
     "metadata": {
      "needs_background": "light"
     },
     "output_type": "display_data"
    }
   ],
   "source": [
    "# function2 using example\n",
    "A_close = load_stock_data('SBIN.NS')\n",
    "A_close.plot()\n",
    "pl.show()"
   ]
  },
  {
   "cell_type": "code",
   "execution_count": 30,
   "metadata": {
    "id": "IddoLEpswAa4"
   },
   "outputs": [],
   "source": [
    "from sklearn.model_selection import train_test_split\n",
    "\n",
    "# function3: build linear regression model for a specific stock\n",
    "# parameter \n",
    "    # show_statistics: indicate if the statistics are printed \n",
    "    # show_dots: indicate if dots data needed\n",
    "    # show_plot: indacate if the plot is shown\n",
    "\n",
    "#The coefficient estimates for Ordinary Least Squares rely on the independence of the features. \n",
    "#When features are correlated and the columns of the design matrix  have an approximately linear dependence, \n",
    "#the design matrix becomes close to singular and as a result, the least-squares estimate becomes highly sensitive to random errors in the observed target, \n",
    "#producing a large variance. \n",
    "    \n",
    "def build_linear_regression(symbol, show_statistics = True, show_dots = True, show_plot = True):\n",
    "    close = load_stock_data(symbol)\n",
    "    # if the close is not dataframe, return NaN\n",
    "    if not isinstance(close, pd.DataFrame) :\n",
    "        return float('NaN')\n",
    "    \n",
    "    # normalize datatime datatype to integer\n",
    "    # simply converting datetime's to # of days since 2018-04-01 divided by 100\n",
    "    close.index = (close.index - pd.to_datetime('2018-04-01')).days / 100\n",
    "    close = close.reset_index()\n",
    "    train, test= train_test_split(close)\n",
    "    \n",
    "    train_x = train.drop('Close', axis = 1)\n",
    "    train_y = train[['Close']]\n",
    "    test_x = test.drop('Close', axis = 1)\n",
    "    test_y = test[['Close']]\n",
    "    \n",
    "    #call linear regression model\n",
    "    regr = linear_model.LinearRegression()\n",
    "    regr.fit(train_x,train_y)\n",
    "    \n",
    "    if show_statistics :\n",
    "        # The coefficients\n",
    "        print('Coefficients         ->', regr.coef_[0])\n",
    "        # The mean squared error\n",
    "        print(\"Mean squared error   -> %.2f\"\n",
    "        % np.mean((regr.predict(test_x) - test_y) ** 2))\n",
    "        # Explained variance score: 1 is perfect prediction\n",
    "        print('Variance score       -> %.2f' % regr.score(test_x, test_y))\n",
    "        print('features             ->', 'Date', 'Stock Close Price')\n",
    "    \n",
    "    if show_plot :\n",
    "        pl.plot(test_x, regr.predict(test_x), label = symbol)\n",
    "        pl.legend()\n",
    "        \n",
    "        # Plot outputs\n",
    "        pl.xlabel('Date')\n",
    "        pl.ylabel('Close Price')\n",
    "        pl.title('Overall Linear Regression Model')\n",
    "\n",
    "        if show_dots :\n",
    "            #pl.title(symbol + ' Linear Regression Model')\n",
    "            pl.plot(test['Date'], test['Close'], linestyle='none', marker='o')\n",
    "    \n",
    "        pl.xticks(())\n",
    "        pl.yticks(())\n",
    "    # return the coefficient representing trend\n",
    "    return regr.coef_[0][0]"
   ]
  },
  {
   "cell_type": "code",
   "execution_count": 31,
   "metadata": {
    "colab": {
     "base_uri": "https://localhost:8080/",
     "height": 346
    },
    "executionInfo": {
     "elapsed": 1498,
     "status": "error",
     "timestamp": 1642523869319,
     "user": {
      "displayName": "Arun Gupta",
      "photoUrl": "https://lh3.googleusercontent.com/a-/AOh14GjZ0r2_qavLn9AbtvMSxJwWYVFWB-x9SDaJ5tYKvw=s64",
      "userId": "11788109729769979815"
     },
     "user_tz": -330
    },
    "id": "jKpkp512wAa5",
    "outputId": "dc104f3f-c8cf-492b-c31e-c8c772965777"
   },
   "outputs": [
    {
     "name": "stdout",
     "output_type": "stream",
     "text": [
      "[*********************100%***********************]  1 of 1 completed\n",
      "Coefficients         -> [3.30060777]\n",
      "Mean squared error   -> 545.29\n",
      "Variance score       -> 0.25\n",
      "features             -> Date Stock Close Price\n"
     ]
    },
    {
     "data": {
      "text/plain": [
       "3.300607768299936"
      ]
     },
     "execution_count": 31,
     "metadata": {},
     "output_type": "execute_result"
    },
    {
     "data": {
      "image/png": "[encoded data removed]",
      "text/plain": [
       "<Figure size 432x288 with 1 Axes>"
      ]
     },
     "metadata": {},
     "output_type": "display_data"
    }
   ],
   "source": [
    "build_linear_regression('SBIN.NS')"
   ]
  },
  {
   "cell_type": "code",
   "execution_count": 19,
   "metadata": {
    "id": "sMQKT3XSwAa5"
   },
   "outputs": [],
   "source": [
    "# function4: for each symbol in the text file, caculate the coefficents and record in the original text file\n",
    "def get_coefficient_dataset(filename, show_statistics = False, show_dots = False, show_plot = False) :\n",
    "    # load stock list data from text file\n",
    "    stock_array = get_list(filename)\n",
    "    # extend the 2D array from N * 1 to N * 2 to make place for putting corresponding coefficient\n",
    "    stock_array = np.insert(stock_array, 1, values=0, axis=1) \n",
    "    \n",
    "    # caculate coefficient for each symbol and store in the stock_array\n",
    "    for symbol in stock_array:\n",
    "        print(symbol)\n",
    "        coefficient = build_linear_regression(symbol[0], show_statistics, show_dots, show_plot)\n",
    "        symbol[1] = coefficient\n",
    "    \n",
    "    # transfer stock_array to dataframe with two columns 'Stock' and 'Coefficient'\n",
    "    coefficient_data = pd.DataFrame(stock_array)\n",
    "    coefficient_data.columns = ['Stock', 'Coefficient']\n",
    "    \n",
    "    # store the dataframe to csv file for future using\n",
    "    coefficient_data.to_csv(stock_coefficient_file_name)\n",
    "    return coefficient_data"
   ]
  },
  {
   "cell_type": "code",
   "execution_count": 20,
   "metadata": {
    "colab": {
     "base_uri": "https://localhost:8080/",
     "height": 1000
    },
    "executionInfo": {
     "elapsed": 99749,
     "status": "ok",
     "timestamp": 1642523862434,
     "user": {
      "displayName": "Arun Gupta",
      "photoUrl": "https://lh3.googleusercontent.com/a-/AOh14GjZ0r2_qavLn9AbtvMSxJwWYVFWB-x9SDaJ5tYKvw=s64",
      "userId": "11788109729769979815"
     },
     "user_tz": -330
    },
    "id": "3HGvl3eAwAa5",
    "outputId": "aaae8aed-a9f6-4fb8-bde7-041e5583c87a"
   },
   "outputs": [
    {
     "name": "stdout",
     "output_type": "stream",
     "text": [
      "['AARTIIND.NS' 0]\n",
      "[*********************100%***********************]  1 of 1 completed\n",
      "['ABBOTINDIA.NS' 0]\n",
      "[*********************100%***********************]  1 of 1 completed\n",
      "['ACC.NS' 0]\n",
      "[*********************100%***********************]  1 of 1 completed\n",
      "['ADANIENT.NS' 0]\n",
      "[*********************100%***********************]  1 of 1 completed\n",
      "['ADANIPORTS.NS' 0]\n",
      "[*********************100%***********************]  1 of 1 completed\n",
      "['ABFRL.NS' 0]\n",
      "[*********************100%***********************]  1 of 1 completed\n",
      "['APLLTD.NS' 0]\n",
      "[*********************100%***********************]  1 of 1 completed\n",
      "['ALKEM.NS' 0]\n",
      "[*********************100%***********************]  1 of 1 completed\n",
      "['AMARAJABAT.NS' 0]\n",
      "[*********************100%***********************]  1 of 1 completed\n",
      "['AMBUJACEM.NS' 0]\n",
      "[*********************100%***********************]  1 of 1 completed\n",
      "['APOLLOHOSP.NS' 0]\n",
      "[*********************100%***********************]  1 of 1 completed\n",
      "['APOLLOTYRE.NS' 0]\n",
      "[*********************100%***********************]  1 of 1 completed\n",
      "['ASHOKLEY.NS' 0]\n",
      "[*********************100%***********************]  1 of 1 completed\n",
      "['ASIANPAINT.NS' 0]\n",
      "[*********************100%***********************]  1 of 1 completed\n",
      "['ASTRAL.NS' 0]\n",
      "[*********************100%***********************]  1 of 1 completed\n",
      "['AUBANK.NS' 0]\n",
      "[*********************100%***********************]  1 of 1 completed\n",
      "['AUROPHARMA.NS' 0]\n",
      "[*********************100%***********************]  1 of 1 completed\n",
      "['AXISBANK.NS' 0]\n",
      "[*********************100%***********************]  1 of 1 completed\n",
      "['BAJAJ-AUTO.NS' 0]\n",
      "[*********************100%***********************]  1 of 1 completed\n",
      "['BAJFINANCE.NS' 0]\n",
      "[*********************100%***********************]  1 of 1 completed\n",
      "['BAJAJFINSV.NS' 0]\n",
      "[*********************100%***********************]  1 of 1 completed\n",
      "['BALKRISIND.NS' 0]\n",
      "[*********************100%***********************]  1 of 1 completed\n",
      "['BANDHANBNK.NS' 0]\n",
      "[*********************100%***********************]  1 of 1 completed\n",
      "['BANKBARODA.NS' 0]\n",
      "[*********************100%***********************]  1 of 1 completed\n",
      "['BATAINDIA.NS' 0]\n",
      "[*********************100%***********************]  1 of 1 completed\n",
      "['BERGEPAINT.NS' 0]\n",
      "[*********************100%***********************]  1 of 1 completed\n",
      "['BEL.NS' 0]\n",
      "[*********************100%***********************]  1 of 1 completed\n",
      "['BHARATFORG.NS' 0]\n",
      "[*********************100%***********************]  1 of 1 completed\n",
      "['BPCL.NS' 0]\n",
      "[*********************100%***********************]  1 of 1 completed\n",
      "['BHARTIARTL.NS' 0]\n",
      "[*********************100%***********************]  1 of 1 completed\n",
      "['BHEL.NS' 0]\n",
      "[*********************100%***********************]  1 of 1 completed\n",
      "['BIOCON.NS' 0]\n",
      "[*********************100%***********************]  1 of 1 completed\n",
      "['BOSCHLTD.NS' 0]\n",
      "[*********************100%***********************]  1 of 1 completed\n",
      "['BRITANNIA.NS' 0]\n",
      "[*********************100%***********************]  1 of 1 completed\n",
      "['CADILAHC.NS' 0]\n",
      "[*********************100%***********************]  1 of 1 completed\n",
      "['CANFINHOME.NS' 0]\n",
      "[*********************100%***********************]  1 of 1 completed\n",
      "['CANBK.NS' 0]\n",
      "[*********************100%***********************]  1 of 1 completed\n",
      "['CHOLAFIN.NS' 0]\n",
      "[*********************100%***********************]  1 of 1 completed\n",
      "['CIPLA.NS' 0]\n",
      "[*********************100%***********************]  1 of 1 completed\n",
      "['CUB.NS' 0]\n",
      "[*********************100%***********************]  1 of 1 completed\n",
      "['COALINDIA.NS' 0]\n",
      "[*********************100%***********************]  1 of 1 completed\n",
      "['COFORGE.NS' 0]\n",
      "[*********************100%***********************]  1 of 1 completed\n",
      "['COLPAL.NS' 0]\n",
      "[*********************100%***********************]  1 of 1 completed\n",
      "['CONCOR.NS' 0]\n",
      "[*********************100%***********************]  1 of 1 completed\n",
      "['COROMANDEL.NS' 0]\n",
      "[*********************100%***********************]  1 of 1 completed\n",
      "['CROMPTON.NS' 0]\n",
      "[*********************100%***********************]  1 of 1 completed\n",
      "['CUMMINSIND.NS' 0]\n",
      "[*********************100%***********************]  1 of 1 completed\n",
      "['DABUR.NS' 0]\n",
      "[*********************100%***********************]  1 of 1 completed\n",
      "['DALBHARAT.NS' 0]\n",
      "[*********************100%***********************]  1 of 1 completed\n",
      "['DEEPAKNTR.NS' 0]\n",
      "[*********************100%***********************]  1 of 1 completed\n",
      "['DELTACORP.NS' 0]\n",
      "[*********************100%***********************]  1 of 1 completed\n",
      "['DIVISLAB.NS' 0]\n",
      "[*********************100%***********************]  1 of 1 completed\n",
      "['DIXON.NS' 0]\n",
      "[*********************100%***********************]  1 of 1 completed\n",
      "['DLF.NS' 0]\n",
      "[*********************100%***********************]  1 of 1 completed\n",
      "['LALPATHLAB.NS' 0]\n",
      "[*********************100%***********************]  1 of 1 completed\n",
      "['DRREDDY.NS' 0]\n",
      "[*********************100%***********************]  1 of 1 completed\n",
      "['EICHERMOT.NS' 0]\n",
      "[*********************100%***********************]  1 of 1 completed\n",
      "['ESCORTS.NS' 0]\n",
      "[*********************100%***********************]  1 of 1 completed\n",
      "['EXIDEIND.NS' 0]\n",
      "[*********************100%***********************]  1 of 1 completed\n",
      "['FEDERALBNK.NS' 0]\n",
      "[*********************100%***********************]  1 of 1 completed\n",
      "['GAIL.NS' 0]\n",
      "[*********************100%***********************]  1 of 1 completed\n",
      "['GLENMARK.NS' 0]\n",
      "[*********************100%***********************]  1 of 1 completed\n",
      "['GMRINFRA.NS' 0]\n",
      "[*********************100%***********************]  1 of 1 completed\n",
      "['GODREJCP.NS' 0]\n",
      "[*********************100%***********************]  1 of 1 completed\n",
      "['GODREJPROP.NS' 0]\n",
      "[*********************100%***********************]  1 of 1 completed\n",
      "['GRANULES.NS' 0]\n",
      "[*********************100%***********************]  1 of 1 completed\n",
      "['GRASIM.NS' 0]\n",
      "[*********************100%***********************]  1 of 1 completed\n",
      "['GUJGASLTD.NS' 0]\n",
      "[*********************100%***********************]  1 of 1 completed\n",
      "['HAVELLS.NS' 0]\n",
      "[*********************100%***********************]  1 of 1 completed\n",
      "['HCLTECH.NS' 0]\n",
      "[*********************100%***********************]  1 of 1 completed\n",
      "['HDFCAMC.NS' 0]\n",
      "[*********************100%***********************]  1 of 1 completed\n",
      "['HDFCBANK.NS' 0]\n",
      "[*********************100%***********************]  1 of 1 completed\n",
      "['HDFCLIFE.NS' 0]\n",
      "[*********************100%***********************]  1 of 1 completed\n",
      "['HDFC.NS' 0]\n",
      "[*********************100%***********************]  1 of 1 completed\n",
      "['HEROMOTOCO.NS' 0]\n",
      "[*********************100%***********************]  1 of 1 completed\n",
      "['HINDALCO.NS' 0]\n",
      "[*********************100%***********************]  1 of 1 completed\n",
      "['HAL.NS' 0]\n",
      "[*********************100%***********************]  1 of 1 completed\n",
      "['HINDPETRO.NS' 0]\n",
      "[*********************100%***********************]  1 of 1 completed\n",
      "['HINDUNILVR.NS' 0]\n",
      "[*********************100%***********************]  1 of 1 completed\n",
      "['ICICIBANK.NS' 0]\n",
      "[*********************100%***********************]  1 of 1 completed\n",
      "['ICICIGI.NS' 0]\n",
      "[*********************100%***********************]  1 of 1 completed\n",
      "['ICICIPRULI.NS' 0]\n",
      "[*********************100%***********************]  1 of 1 completed\n",
      "['IDFCFIRSTB.NS' 0]\n",
      "[*********************100%***********************]  1 of 1 completed\n",
      "['IBULHSGFIN.NS' 0]\n",
      "[*********************100%***********************]  1 of 1 completed\n",
      "['INDIAMART.NS' 0]\n",
      "[*********************100%***********************]  1 of 1 completed\n",
      "['IEX.NS' 0]\n",
      "[*********************100%***********************]  1 of 1 completed\n",
      "['IOC.NS' 0]\n",
      "[*********************100%***********************]  1 of 1 completed\n",
      "['IRCTC.NS' 0]\n",
      "[*********************100%***********************]  1 of 1 completed\n",
      "['IGL.NS' 0]\n",
      "[*********************100%***********************]  1 of 1 completed\n",
      "['INDUSTOWER.NS' 0]\n",
      "[*********************100%***********************]  1 of 1 completed\n",
      "['INDUSINDBK.NS' 0]\n",
      "[*********************100%***********************]  1 of 1 completed\n",
      "['NAUKRI.NS' 0]\n",
      "[*********************100%***********************]  1 of 1 completed\n",
      "['INFY.NS' 0]\n",
      "[*********************100%***********************]  1 of 1 completed\n",
      "['INDIGO.NS' 0]\n",
      "[*********************100%***********************]  1 of 1 completed\n",
      "['IPCALAB.NS' 0]\n",
      "[*********************100%***********************]  1 of 1 completed\n",
      "['ITC.NS' 0]\n",
      "[*********************100%***********************]  1 of 1 completed\n",
      "['JINDALSTEL.NS' 0]\n",
      "[*********************100%***********************]  1 of 1 completed\n",
      "['JKCEMENT.NS' 0]\n",
      "[*********************100%***********************]  1 of 1 completed\n",
      "['JSWSTEEL.NS' 0]\n",
      "[*********************100%***********************]  1 of 1 completed\n",
      "['JUBLFOOD.NS' 0]\n",
      "[*********************100%***********************]  1 of 1 completed\n",
      "['KOTAKBANK.NS' 0]\n",
      "[*********************100%***********************]  1 of 1 completed\n",
      "['L&TFH.NS' 0]\n",
      "[*********************100%***********************]  1 of 1 completed\n",
      "['LTI.NS' 0]\n",
      "[*********************100%***********************]  1 of 1 completed\n",
      "['LTTS.NS' 0]\n",
      "[*********************100%***********************]  1 of 1 completed\n",
      "['LT.NS' 0]\n",
      "[*********************100%***********************]  1 of 1 completed\n",
      "['LICHSGFIN.NS' 0]\n",
      "[*********************100%***********************]  1 of 1 completed\n",
      "['LUPIN.NS' 0]\n",
      "[*********************100%***********************]  1 of 1 completed\n",
      "['M&MFIN.NS' 0]\n",
      "[*********************100%***********************]  1 of 1 completed\n",
      "['MGL.NS' 0]\n",
      "[*********************100%***********************]  1 of 1 completed\n",
      "['M&M.NS' 0]\n",
      "[*********************100%***********************]  1 of 1 completed\n",
      "['MANAPPURAM.NS' 0]\n",
      "[*********************100%***********************]  1 of 1 completed\n",
      "['MARICO.NS' 0]\n",
      "[*********************100%***********************]  1 of 1 completed\n",
      "['MARUTI.NS' 0]\n",
      "[*********************100%***********************]  1 of 1 completed\n",
      "['MFSL.NS' 0]\n",
      "[*********************100%***********************]  1 of 1 completed\n",
      "['METROPOLIS.NS' 0]\n",
      "[*********************100%***********************]  1 of 1 completed\n",
      "['MINDTREE.NS' 0]\n",
      "[*********************100%***********************]  1 of 1 completed\n",
      "['MOTHERSUMI.NS' 0]\n",
      "[*********************100%***********************]  1 of 1 completed\n",
      "['MPHASIS.NS' 0]\n",
      "[*********************100%***********************]  1 of 1 completed\n",
      "['MRF.NS' 0]\n",
      "[*********************100%***********************]  1 of 1 completed\n",
      "['MCX.NS' 0]\n",
      "[*********************100%***********************]  1 of 1 completed\n",
      "['MUTHOOTFIN.NS' 0]\n",
      "[*********************100%***********************]  1 of 1 completed\n",
      "['NATIONALUM.NS' 0]\n",
      "[*********************100%***********************]  1 of 1 completed\n",
      "['NAVINFLUOR.NS' 0]\n",
      "[*********************100%***********************]  1 of 1 completed\n",
      "['NESTLEIND.NS' 0]\n",
      "[*********************100%***********************]  1 of 1 completed\n",
      "['NMDC.NS' 0]\n",
      "[*********************100%***********************]  1 of 1 completed\n",
      "['NTPC.NS' 0]\n",
      "[*********************100%***********************]  1 of 1 completed\n",
      "['OBEROIRLTY.NS' 0]\n",
      "[*********************100%***********************]  1 of 1 completed\n",
      "['ONGC.NS' 0]\n",
      "[*********************100%***********************]  1 of 1 completed\n",
      "['OFSS.NS' 0]\n",
      "[*********************100%***********************]  1 of 1 completed\n",
      "['PAGEIND.NS' 0]\n",
      "[*********************100%***********************]  1 of 1 completed\n",
      "['PERSISTENT.NS' 0]\n",
      "[*********************100%***********************]  1 of 1 completed\n",
      "['PETRONET.NS' 0]\n",
      "[*********************100%***********************]  1 of 1 completed\n",
      "['PFIZER.NS' 0]\n",
      "[*********************100%***********************]  1 of 1 completed\n",
      "['PIIND.NS' 0]\n",
      "[*********************100%***********************]  1 of 1 completed\n",
      "['PIDILITIND.NS' 0]\n",
      "[*********************100%***********************]  1 of 1 completed\n",
      "['PEL.NS' 0]\n",
      "[*********************100%***********************]  1 of 1 completed\n",
      "['POLYCAB.NS' 0]\n",
      "[*********************100%***********************]  1 of 1 completed\n",
      "['PFC.NS' 0]\n",
      "[*********************100%***********************]  1 of 1 completed\n",
      "['POWERGRID.NS' 0]\n",
      "[*********************100%***********************]  1 of 1 completed\n",
      "['PNB.NS' 0]\n",
      "[*********************100%***********************]  1 of 1 completed\n",
      "['PVR.NS' 0]\n",
      "[*********************100%***********************]  1 of 1 completed\n",
      "['RBLBANK.NS' 0]\n",
      "[*********************100%***********************]  1 of 1 completed\n",
      "['RECLTD.NS' 0]\n",
      "[*********************100%***********************]  1 of 1 completed\n",
      "['RELIANCE.NS' 0]\n",
      "[*********************100%***********************]  1 of 1 completed\n",
      "['SBILIFE.NS' 0]\n",
      "[*********************100%***********************]  1 of 1 completed\n",
      "['SHREECEM.NS' 0]\n",
      "[*********************100%***********************]  1 of 1 completed\n",
      "['SIEMENS.NS' 0]\n",
      "[*********************100%***********************]  1 of 1 completed\n",
      "['SRF.NS' 0]\n",
      "[*********************100%***********************]  1 of 1 completed\n",
      "['SBIN.NS' 0]\n",
      "[*********************100%***********************]  1 of 1 completed\n",
      "['SAIL.NS' 0]\n",
      "[*********************100%***********************]  1 of 1 completed\n",
      "['STAR.NS' 0]\n",
      "[*********************100%***********************]  1 of 1 completed\n",
      "['SUNPHARMA.NS' 0]\n",
      "[*********************100%***********************]  1 of 1 completed\n",
      "['SUNTV.NS' 0]\n",
      "[*********************100%***********************]  1 of 1 completed\n",
      "['SYNGENE.NS' 0]\n",
      "[*********************100%***********************]  1 of 1 completed\n",
      "['TATACHEM.NS' 0]\n",
      "[*********************100%***********************]  1 of 1 completed\n",
      "['TCS.NS' 0]\n",
      "[*********************100%***********************]  1 of 1 completed\n",
      "['TATACONSUM.NS' 0]\n",
      "[*********************100%***********************]  1 of 1 completed\n",
      "['TATAMOTORS.NS' 0]\n",
      "[*********************100%***********************]  1 of 1 completed\n",
      "['TATAPOWER.NS' 0]\n",
      "[*********************100%***********************]  1 of 1 completed\n",
      "['TATASTEEL.NS' 0]\n",
      "[*********************100%***********************]  1 of 1 completed\n",
      "['TECHM.NS' 0]\n",
      "[*********************100%***********************]  1 of 1 completed\n",
      "['INDIACEM.NS' 0]\n",
      "[*********************100%***********************]  1 of 1 completed\n",
      "['INDHOTEL.NS' 0]\n",
      "[*********************100%***********************]  1 of 1 completed\n",
      "['RAMCOCEM.NS' 0]\n",
      "[*********************100%***********************]  1 of 1 completed\n",
      "['TITAN.NS' 0]\n",
      "[*********************100%***********************]  1 of 1 completed\n",
      "['TORNTPHARM.NS' 0]\n",
      "[*********************100%***********************]  1 of 1 completed\n",
      "['TORNTPOWER.NS' 0]\n",
      "[*********************100%***********************]  1 of 1 completed\n",
      "['TRENT.NS' 0]\n",
      "[*********************100%***********************]  1 of 1 completed\n",
      "['TVSMOTOR.NS' 0]\n",
      "[*********************100%***********************]  1 of 1 completed\n",
      "['ULTRACEMCO.NS' 0]\n",
      "[*********************100%***********************]  1 of 1 completed\n",
      "['UBL.NS' 0]\n",
      "[*********************100%***********************]  1 of 1 completed\n",
      "['MCDOWELL-N.NS' 0]\n",
      "[*********************100%***********************]  1 of 1 completed\n",
      "['UPL.NS' 0]\n",
      "[*********************100%***********************]  1 of 1 completed\n",
      "['VEDL.NS' 0]\n",
      "[*********************100%***********************]  1 of 1 completed\n",
      "['IDEA.NS' 0]\n",
      "[*********************100%***********************]  1 of 1 completed\n",
      "['VOLTAS.NS' 0]\n",
      "[*********************100%***********************]  1 of 1 completed\n",
      "['WIPRO.NS' 0]\n",
      "[*********************100%***********************]  1 of 1 completed\n",
      "['ZEEL.NS' 0]\n",
      "[*********************100%***********************]  1 of 1 completed\n"
     ]
    },
    {
     "data": {
      "text/html": [
       "<div>\n",
       "<style scoped>\n",
       "    .dataframe tbody tr th:only-of-type {\n",
       "        vertical-align: middle;\n",
       "    }\n",
       "\n",
       "    .dataframe tbody tr th {\n",
       "        vertical-align: top;\n",
       "    }\n",
       "\n",
       "    .dataframe thead th {\n",
       "        text-align: right;\n",
       "    }\n",
       "</style>\n",
       "<table border=\"1\" class=\"dataframe\">\n",
       "  <thead>\n",
       "    <tr style=\"text-align: right;\">\n",
       "      <th></th>\n",
       "      <th>Stock</th>\n",
       "      <th>Coefficient</th>\n",
       "    </tr>\n",
       "  </thead>\n",
       "  <tbody>\n",
       "    <tr>\n",
       "      <th>0</th>\n",
       "      <td>AARTIIND.NS</td>\n",
       "      <td>17.481336</td>\n",
       "    </tr>\n",
       "    <tr>\n",
       "      <th>1</th>\n",
       "      <td>ABBOTINDIA.NS</td>\n",
       "      <td>18.657994</td>\n",
       "    </tr>\n",
       "    <tr>\n",
       "      <th>2</th>\n",
       "      <td>ACC.NS</td>\n",
       "      <td>2.688692</td>\n",
       "    </tr>\n",
       "    <tr>\n",
       "      <th>3</th>\n",
       "      <td>ADANIENT.NS</td>\n",
       "      <td>113.13193</td>\n",
       "    </tr>\n",
       "    <tr>\n",
       "      <th>4</th>\n",
       "      <td>ADANIPORTS.NS</td>\n",
       "      <td>6.289794</td>\n",
       "    </tr>\n",
       "    <tr>\n",
       "      <th>...</th>\n",
       "      <td>...</td>\n",
       "      <td>...</td>\n",
       "    </tr>\n",
       "    <tr>\n",
       "      <th>173</th>\n",
       "      <td>VEDL.NS</td>\n",
       "      <td>0.312545</td>\n",
       "    </tr>\n",
       "    <tr>\n",
       "      <th>174</th>\n",
       "      <td>IDEA.NS</td>\n",
       "      <td>-3.575363</td>\n",
       "    </tr>\n",
       "    <tr>\n",
       "      <th>175</th>\n",
       "      <td>VOLTAS.NS</td>\n",
       "      <td>6.662756</td>\n",
       "    </tr>\n",
       "    <tr>\n",
       "      <th>176</th>\n",
       "      <td>WIPRO.NS</td>\n",
       "      <td>11.990094</td>\n",
       "    </tr>\n",
       "    <tr>\n",
       "      <th>177</th>\n",
       "      <td>ZEEL.NS</td>\n",
       "      <td>-4.483875</td>\n",
       "    </tr>\n",
       "  </tbody>\n",
       "</table>\n",
       "<p>178 rows × 2 columns</p>\n",
       "</div>"
      ],
      "text/plain": [
       "             Stock Coefficient\n",
       "0      AARTIIND.NS   17.481336\n",
       "1    ABBOTINDIA.NS   18.657994\n",
       "2           ACC.NS    2.688692\n",
       "3      ADANIENT.NS   113.13193\n",
       "4    ADANIPORTS.NS    6.289794\n",
       "..             ...         ...\n",
       "173        VEDL.NS    0.312545\n",
       "174        IDEA.NS   -3.575363\n",
       "175      VOLTAS.NS    6.662756\n",
       "176       WIPRO.NS   11.990094\n",
       "177        ZEEL.NS   -4.483875\n",
       "\n",
       "[178 rows x 2 columns]"
      ]
     },
     "execution_count": 20,
     "metadata": {},
     "output_type": "execute_result"
    }
   ],
   "source": [
    "# function4 using example using stock_list_test.txt\n",
    "coefficient_data_test = get_coefficient_dataset('./../resources/stock_list.txt')\n",
    "coefficient_data_test"
   ]
  },
  {
   "cell_type": "code",
   "execution_count": 32,
   "metadata": {
    "id": "7K8rk4KMwAa6"
   },
   "outputs": [],
   "source": [
    "# function5 to get top n stocks with biggest coefficients\n",
    "def get_top_stock(coefficient_data, n = 5, show_dots = False) :\n",
    "    # sort stocks by coefficients with descending order\n",
    "    top_stocks = coefficient_data.sort_values(by = ['Coefficient'], ascending = False)\n",
    "    # take top n stocks\n",
    "    top_stocks = top_stocks[:n]\n",
    "    top_stocks_list = top_stocks['Stock'].tolist()\n",
    "    # plot stocks\n",
    "    for symbol in top_stocks_list:\n",
    "        build_linear_regression(symbol, show_statistics = False, show_dots = show_dots, show_plot = True)\n",
    "    # print stock list    \n",
    "    print(\"The \" + str(n) +\" stocks with best trends are: \")\n",
    "    print(top_stocks['Stock'].tolist())\n",
    "    return top_stocks"
   ]
  },
  {
   "cell_type": "code",
   "execution_count": 33,
   "metadata": {
    "colab": {
     "base_uri": "https://localhost:8080/",
     "height": 491
    },
    "executionInfo": {
     "elapsed": 5351,
     "status": "ok",
     "timestamp": 1642523902515,
     "user": {
      "displayName": "Arun Gupta",
      "photoUrl": "https://lh3.googleusercontent.com/a-/AOh14GjZ0r2_qavLn9AbtvMSxJwWYVFWB-x9SDaJ5tYKvw=s64",
      "userId": "11788109729769979815"
     },
     "user_tz": -330
    },
    "id": "f0pnC6tXwAa6",
    "outputId": "90a74b27-ad4a-4c0c-f979-773a6eedcd93"
   },
   "outputs": [
    {
     "name": "stdout",
     "output_type": "stream",
     "text": [
      "[*********************100%***********************]  1 of 1 completed\n",
      "[*********************100%***********************]  1 of 1 completed\n",
      "[*********************100%***********************]  1 of 1 completed\n",
      "[*********************100%***********************]  1 of 1 completed\n",
      "[*********************100%***********************]  1 of 1 completed\n",
      "The 5 stocks with best trends are: \n",
      "['ADANIENT.NS', 'INDIAMART.NS', 'DEEPAKNTR.NS', 'IRCTC.NS', 'COFORGE.NS']\n"
     ]
    },
    {
     "data": {
      "text/html": [
       "<div>\n",
       "<style scoped>\n",
       "    .dataframe tbody tr th:only-of-type {\n",
       "        vertical-align: middle;\n",
       "    }\n",
       "\n",
       "    .dataframe tbody tr th {\n",
       "        vertical-align: top;\n",
       "    }\n",
       "\n",
       "    .dataframe thead th {\n",
       "        text-align: right;\n",
       "    }\n",
       "</style>\n",
       "<table border=\"1\" class=\"dataframe\">\n",
       "  <thead>\n",
       "    <tr style=\"text-align: right;\">\n",
       "      <th></th>\n",
       "      <th>Stock</th>\n",
       "      <th>Coefficient</th>\n",
       "    </tr>\n",
       "  </thead>\n",
       "  <tbody>\n",
       "    <tr>\n",
       "      <th>3</th>\n",
       "      <td>ADANIENT.NS</td>\n",
       "      <td>113.13193</td>\n",
       "    </tr>\n",
       "    <tr>\n",
       "      <th>84</th>\n",
       "      <td>INDIAMART.NS</td>\n",
       "      <td>66.54931</td>\n",
       "    </tr>\n",
       "    <tr>\n",
       "      <th>49</th>\n",
       "      <td>DEEPAKNTR.NS</td>\n",
       "      <td>64.641476</td>\n",
       "    </tr>\n",
       "    <tr>\n",
       "      <th>87</th>\n",
       "      <td>IRCTC.NS</td>\n",
       "      <td>54.489549</td>\n",
       "    </tr>\n",
       "    <tr>\n",
       "      <th>41</th>\n",
       "      <td>COFORGE.NS</td>\n",
       "      <td>43.986951</td>\n",
       "    </tr>\n",
       "  </tbody>\n",
       "</table>\n",
       "</div>"
      ],
      "text/plain": [
       "           Stock Coefficient\n",
       "3    ADANIENT.NS   113.13193\n",
       "84  INDIAMART.NS    66.54931\n",
       "49  DEEPAKNTR.NS   64.641476\n",
       "87      IRCTC.NS   54.489549\n",
       "41    COFORGE.NS   43.986951"
      ]
     },
     "execution_count": 33,
     "metadata": {},
     "output_type": "execute_result"
    },
    {
     "data": {
      "image/png": "[encoded data removed]",
      "text/plain": [
       "<Figure size 432x288 with 1 Axes>"
      ]
     },
     "metadata": {},
     "output_type": "display_data"
    }
   ],
   "source": [
    "# function5 using example with coefficient_data_test\n",
    "get_top_stock(coefficient_data_test, n = 5, show_dots = True)"
   ]
  },
  {
   "cell_type": "code",
   "execution_count": 35,
   "metadata": {
    "id": "K8Nu5498wAa6"
   },
   "outputs": [],
   "source": [
    "# Function6 to get stocks with same trends\n",
    "def get_similar_stock(coefficient_data, symbol, n = 3, show_dots = False):\n",
    "    # sort stocks by coefficients with descending order\n",
    "    top_stocks = coefficient_data.sort_values(by = ['Coefficient'], ascending = False)\n",
    "    # get the specific row of the stcok symbol\n",
    "    row = top_stocks.loc[top_stocks['Stock'] == symbol].iloc[-1]\n",
    "    # get the offset in the column of that row in the sorted table\n",
    "    offset = top_stocks.index.get_loc(row.name)\n",
    "    \n",
    "    # take similar stocks in the table from offset-3 to offset+3\n",
    "    similar_stocks = top_stocks[offset-n : offset+n]\n",
    "    similar_stocks_list = similar_stocks['Stock'].tolist()\n",
    "    # plot stocks\n",
    "    for symbol in similar_stocks_list:\n",
    "        build_linear_regression(symbol, show_statistics = False, show_dots = show_dots, show_plot = True)\n",
    "        \n",
    "    # remove the row for the input symbol\n",
    "    similar_stocks_delete = similar_stocks.drop(row.name)\n",
    "    number = n*2 - 1\n",
    "    print(\"The \" + str(number) + \" simialr stocks are: \")\n",
    "    print(similar_stocks_delete['Stock'].tolist())\n",
    "    return similar_stocks"
   ]
  },
  {
   "cell_type": "code",
   "execution_count": 40,
   "metadata": {
    "colab": {
     "base_uri": "https://localhost:8080/",
     "height": 832
    },
    "executionInfo": {
     "elapsed": 3309,
     "status": "ok",
     "timestamp": 1642524015392,
     "user": {
      "displayName": "Arun Gupta",
      "photoUrl": "https://lh3.googleusercontent.com/a-/AOh14GjZ0r2_qavLn9AbtvMSxJwWYVFWB-x9SDaJ5tYKvw=s64",
      "userId": "11788109729769979815"
     },
     "user_tz": -330
    },
    "id": "qnnLVZBEwAa7",
    "outputId": "0f93f21a-c256-4b5f-b7df-c9c2ae64c06f"
   },
   "outputs": [
    {
     "name": "stdout",
     "output_type": "stream",
     "text": [
      "[*********************100%***********************]  1 of 1 completed\n",
      "[*********************100%***********************]  1 of 1 completed\n",
      "[*********************100%***********************]  1 of 1 completed\n",
      "[*********************100%***********************]  1 of 1 completed\n",
      "[*********************100%***********************]  1 of 1 completed\n",
      "[*********************100%***********************]  1 of 1 completed\n",
      "The 5 simialr stocks are: \n",
      "['HDFC.NS', 'BRITANNIA.NS', 'GRASIM.NS', 'BIOCON.NS', 'UPL.NS']\n"
     ]
    },
    {
     "data": {
      "text/html": [
       "<div>\n",
       "<style scoped>\n",
       "    .dataframe tbody tr th:only-of-type {\n",
       "        vertical-align: middle;\n",
       "    }\n",
       "\n",
       "    .dataframe tbody tr th {\n",
       "        vertical-align: top;\n",
       "    }\n",
       "\n",
       "    .dataframe thead th {\n",
       "        text-align: right;\n",
       "    }\n",
       "</style>\n",
       "<table border=\"1\" class=\"dataframe\">\n",
       "  <thead>\n",
       "    <tr style=\"text-align: right;\">\n",
       "      <th></th>\n",
       "      <th>Stock</th>\n",
       "      <th>Coefficient</th>\n",
       "    </tr>\n",
       "  </thead>\n",
       "  <tbody>\n",
       "    <tr>\n",
       "      <th>73</th>\n",
       "      <td>HDFC.NS</td>\n",
       "      <td>3.582119</td>\n",
       "    </tr>\n",
       "    <tr>\n",
       "      <th>33</th>\n",
       "      <td>BRITANNIA.NS</td>\n",
       "      <td>3.399329</td>\n",
       "    </tr>\n",
       "    <tr>\n",
       "      <th>66</th>\n",
       "      <td>GRASIM.NS</td>\n",
       "      <td>3.240559</td>\n",
       "    </tr>\n",
       "    <tr>\n",
       "      <th>148</th>\n",
       "      <td>SBIN.NS</td>\n",
       "      <td>3.237737</td>\n",
       "    </tr>\n",
       "    <tr>\n",
       "      <th>31</th>\n",
       "      <td>BIOCON.NS</td>\n",
       "      <td>3.192006</td>\n",
       "    </tr>\n",
       "    <tr>\n",
       "      <th>172</th>\n",
       "      <td>UPL.NS</td>\n",
       "      <td>3.145499</td>\n",
       "    </tr>\n",
       "  </tbody>\n",
       "</table>\n",
       "</div>"
      ],
      "text/plain": [
       "            Stock Coefficient\n",
       "73        HDFC.NS    3.582119\n",
       "33   BRITANNIA.NS    3.399329\n",
       "66      GRASIM.NS    3.240559\n",
       "148       SBIN.NS    3.237737\n",
       "31      BIOCON.NS    3.192006\n",
       "172        UPL.NS    3.145499"
      ]
     },
     "execution_count": 40,
     "metadata": {},
     "output_type": "execute_result"
    },
    {
     "data": {
      "image/png": "[encoded data removed]",
      "text/plain": [
       "<Figure size 432x288 with 1 Axes>"
      ]
     },
     "metadata": {},
     "output_type": "display_data"
    }
   ],
   "source": [
    "# function6 using example with coefficient_data_test\n",
    "get_similar_stock(coefficient_data_test, 'SBIN.NS', n = 3, show_dots = True)"
   ]
  },
  {
   "cell_type": "markdown",
   "metadata": {
    "id": "xeF9t370wAa7"
   },
   "source": [
    "# Part 2:  Get project result from stock_list.txt\n",
    "The stock_list.txt is generated from the first part of the project, and it should be in the same directory as this ipynb file.\n",
    "\n",
    "- The input is stock_list.txt\n",
    "- The output is Stock_Coefficients.csv"
   ]
  },
  {
   "cell_type": "markdown",
   "metadata": {
    "id": "BCJ6MJ7FwAa7"
   },
   "source": [
    "# Setting: date range for fetching stock historial data\n",
    "Input: stock_list.txt"
   ]
  },
  {
   "cell_type": "code",
   "execution_count": 36,
   "metadata": {
    "id": "KpYZSYZ-wAa7"
   },
   "outputs": [],
   "source": []
  },
  {
   "cell_type": "markdown",
   "metadata": {
    "id": "Mnd0vcHfwAa7"
   },
   "source": [
    "# Result 1: Coefficient dataset and export file\n",
    "Output: Stock_Coefficients.csv"
   ]
  },
  {
   "cell_type": "code",
   "execution_count": 37,
   "metadata": {
    "id": "6IubVY8zwAa8"
   },
   "outputs": [],
   "source": [
    "# load full stock_list getting from part1 of this project(association rule)\n",
    "# error will be printed with invaild symbol name or date keys\n",
    "# generate output as file Stock_Coefficients.csv\n",
    "\n",
    "\n",
    "# coefficient_data = get_coefficient_dataset('stock_list.txt', show_plot = False)\n",
    "# coefficient_data.head()"
   ]
  },
  {
   "cell_type": "code",
   "execution_count": 38,
   "metadata": {
    "colab": {
     "base_uri": "https://localhost:8080/",
     "height": 206
    },
    "executionInfo": {
     "elapsed": 8,
     "status": "ok",
     "timestamp": 1642524178233,
     "user": {
      "displayName": "Arun Gupta",
      "photoUrl": "https://lh3.googleusercontent.com/a-/AOh14GjZ0r2_qavLn9AbtvMSxJwWYVFWB-x9SDaJ5tYKvw=s64",
      "userId": "11788109729769979815"
     },
     "user_tz": -330
    },
    "id": "-sNw9AjWEKRH",
    "outputId": "388dac28-0461-42f6-97c1-f11c2a4fbf99"
   },
   "outputs": [
    {
     "data": {
      "text/html": [
       "<div>\n",
       "<style scoped>\n",
       "    .dataframe tbody tr th:only-of-type {\n",
       "        vertical-align: middle;\n",
       "    }\n",
       "\n",
       "    .dataframe tbody tr th {\n",
       "        vertical-align: top;\n",
       "    }\n",
       "\n",
       "    .dataframe thead th {\n",
       "        text-align: right;\n",
       "    }\n",
       "</style>\n",
       "<table border=\"1\" class=\"dataframe\">\n",
       "  <thead>\n",
       "    <tr style=\"text-align: right;\">\n",
       "      <th></th>\n",
       "      <th>Unnamed: 0</th>\n",
       "      <th>Stock</th>\n",
       "      <th>Coefficient</th>\n",
       "    </tr>\n",
       "  </thead>\n",
       "  <tbody>\n",
       "    <tr>\n",
       "      <th>0</th>\n",
       "      <td>0</td>\n",
       "      <td>AARTIIND.NS</td>\n",
       "      <td>8.112586</td>\n",
       "    </tr>\n",
       "    <tr>\n",
       "      <th>1</th>\n",
       "      <td>1</td>\n",
       "      <td>ABBOTINDIA.NS</td>\n",
       "      <td>74.072826</td>\n",
       "    </tr>\n",
       "    <tr>\n",
       "      <th>2</th>\n",
       "      <td>2</td>\n",
       "      <td>ACC.NS</td>\n",
       "      <td>14.380127</td>\n",
       "    </tr>\n",
       "    <tr>\n",
       "      <th>3</th>\n",
       "      <td>3</td>\n",
       "      <td>ADANIENT.NS</td>\n",
       "      <td>7.582075</td>\n",
       "    </tr>\n",
       "    <tr>\n",
       "      <th>4</th>\n",
       "      <td>4</td>\n",
       "      <td>ADANIPORTS.NS</td>\n",
       "      <td>4.852288</td>\n",
       "    </tr>\n",
       "  </tbody>\n",
       "</table>\n",
       "</div>"
      ],
      "text/plain": [
       "   Unnamed: 0          Stock  Coefficient\n",
       "0           0    AARTIIND.NS     8.112586\n",
       "1           1  ABBOTINDIA.NS    74.072826\n",
       "2           2         ACC.NS    14.380127\n",
       "3           3    ADANIENT.NS     7.582075\n",
       "4           4  ADANIPORTS.NS     4.852288"
      ]
     },
     "execution_count": 38,
     "metadata": {},
     "output_type": "execute_result"
    }
   ],
   "source": [
    "coefficient_data = pd.read_csv(stock_coefficient_file_name)\n",
    "coefficient_data.head()"
   ]
  },
  {
   "cell_type": "markdown",
   "metadata": {
    "id": "HKBXunEBwAa8"
   },
   "source": [
    "# Result 2: Top five stocks"
   ]
  },
  {
   "cell_type": "code",
   "execution_count": 39,
   "metadata": {
    "colab": {
     "base_uri": "https://localhost:8080/",
     "height": 589
    },
    "executionInfo": {
     "elapsed": 8698,
     "status": "ok",
     "timestamp": 1642524224467,
     "user": {
      "displayName": "Arun Gupta",
      "photoUrl": "https://lh3.googleusercontent.com/a-/AOh14GjZ0r2_qavLn9AbtvMSxJwWYVFWB-x9SDaJ5tYKvw=s64",
      "userId": "11788109729769979815"
     },
     "user_tz": -330
    },
    "id": "H2MFP93mwAa8",
    "outputId": "ba0d8558-4829-4b28-cb44-a29ac53aa17e"
   },
   "outputs": [
    {
     "name": "stdout",
     "output_type": "stream",
     "text": [
      "[*********************100%***********************]  1 of 1 completed\n",
      "[*********************100%***********************]  1 of 1 completed\n",
      "[*********************100%***********************]  1 of 1 completed\n",
      "[*********************100%***********************]  1 of 1 completed\n",
      "[*********************100%***********************]  1 of 1 completed\n",
      "The 5 stocks with best trends are: \n",
      "['SHREECEM.NS', 'PAGEIND.NS', 'DEEPAKNTR.NS', 'TORNTPHARM.NS', 'ASIANPAINT.NS']\n"
     ]
    },
    {
     "data": {
      "text/html": [
       "<div>\n",
       "<style scoped>\n",
       "    .dataframe tbody tr th:only-of-type {\n",
       "        vertical-align: middle;\n",
       "    }\n",
       "\n",
       "    .dataframe tbody tr th {\n",
       "        vertical-align: top;\n",
       "    }\n",
       "\n",
       "    .dataframe thead th {\n",
       "        text-align: right;\n",
       "    }\n",
       "</style>\n",
       "<table border=\"1\" class=\"dataframe\">\n",
       "  <thead>\n",
       "    <tr style=\"text-align: right;\">\n",
       "      <th></th>\n",
       "      <th>Unnamed: 0</th>\n",
       "      <th>Stock</th>\n",
       "      <th>Coefficient</th>\n",
       "    </tr>\n",
       "  </thead>\n",
       "  <tbody>\n",
       "    <tr>\n",
       "      <th>144</th>\n",
       "      <td>144</td>\n",
       "      <td>SHREECEM.NS</td>\n",
       "      <td>1083.427186</td>\n",
       "    </tr>\n",
       "    <tr>\n",
       "      <th>128</th>\n",
       "      <td>128</td>\n",
       "      <td>PAGEIND.NS</td>\n",
       "      <td>229.693318</td>\n",
       "    </tr>\n",
       "    <tr>\n",
       "      <th>49</th>\n",
       "      <td>49</td>\n",
       "      <td>DEEPAKNTR.NS</td>\n",
       "      <td>187.835576</td>\n",
       "    </tr>\n",
       "    <tr>\n",
       "      <th>164</th>\n",
       "      <td>164</td>\n",
       "      <td>TORNTPHARM.NS</td>\n",
       "      <td>151.737599</td>\n",
       "    </tr>\n",
       "    <tr>\n",
       "      <th>13</th>\n",
       "      <td>13</td>\n",
       "      <td>ASIANPAINT.NS</td>\n",
       "      <td>148.310761</td>\n",
       "    </tr>\n",
       "  </tbody>\n",
       "</table>\n",
       "</div>"
      ],
      "text/plain": [
       "     Unnamed: 0          Stock  Coefficient\n",
       "144         144    SHREECEM.NS  1083.427186\n",
       "128         128     PAGEIND.NS   229.693318\n",
       "49           49   DEEPAKNTR.NS   187.835576\n",
       "164         164  TORNTPHARM.NS   151.737599\n",
       "13           13  ASIANPAINT.NS   148.310761"
      ]
     },
     "execution_count": 39,
     "metadata": {},
     "output_type": "execute_result"
    },
    {
     "data": {
      "image/png": "[encoded data removed]",
      "text/plain": [
       "<Figure size 432x288 with 1 Axes>"
      ]
     },
     "metadata": {},
     "output_type": "display_data"
    }
   ],
   "source": [
    "# Get top five stocks from the stock list\n",
    "get_top_stock(coefficient_data, n = 5)"
   ]
  },
  {
   "cell_type": "markdown",
   "metadata": {
    "id": "wSmbtNPJwAa8"
   },
   "source": [
    "# Result 3: Similar five stocks for input symbol 'AMZN'"
   ]
  },
  {
   "cell_type": "code",
   "execution_count": 40,
   "metadata": {
    "colab": {
     "base_uri": "https://localhost:8080/",
     "height": 637
    },
    "executionInfo": {
     "elapsed": 1836,
     "status": "ok",
     "timestamp": 1642522932852,
     "user": {
      "displayName": "Arun Gupta",
      "photoUrl": "https://lh3.googleusercontent.com/a-/AOh14GjZ0r2_qavLn9AbtvMSxJwWYVFWB-x9SDaJ5tYKvw=s64",
      "userId": "11788109729769979815"
     },
     "user_tz": -330
    },
    "id": "xEe9qhnzwAa8",
    "outputId": "a0196a74-9420-45c0-8d11-085e013780e7"
   },
   "outputs": [
    {
     "ename": "FileNotFoundError",
     "evalue": "[Errno 2] No such file or directory: 'filename.csv'",
     "output_type": "error",
     "traceback": [
      "\u001B[0;31m---------------------------------------------------------------------------\u001B[0m",
      "\u001B[0;31mFileNotFoundError\u001B[0m                         Traceback (most recent call last)",
      "\u001B[0;32m<ipython-input-40-68bafcb882dd>\u001B[0m in \u001B[0;36m<module>\u001B[0;34m\u001B[0m\n\u001B[1;32m      2\u001B[0m \u001B[0;31m# Change it to any input stock symbol\u001B[0m\u001B[0;34m\u001B[0m\u001B[0;34m\u001B[0m\u001B[0;34m\u001B[0m\u001B[0m\n\u001B[1;32m      3\u001B[0m \u001B[0msymbol_test\u001B[0m \u001B[0;34m=\u001B[0m \u001B[0;34m'GLENMARK.NS'\u001B[0m\u001B[0;34m\u001B[0m\u001B[0;34m\u001B[0m\u001B[0m\n\u001B[0;32m----> 4\u001B[0;31m \u001B[0mpd\u001B[0m\u001B[0;34m.\u001B[0m\u001B[0mread_csv\u001B[0m\u001B[0;34m(\u001B[0m\u001B[0;34m\"filename.csv\"\u001B[0m\u001B[0;34m)\u001B[0m\u001B[0;34m\u001B[0m\u001B[0;34m\u001B[0m\u001B[0m\n\u001B[0m\u001B[1;32m      5\u001B[0m \u001B[0mget_similar_stock\u001B[0m\u001B[0;34m(\u001B[0m\u001B[0mcoefficient_data\u001B[0m\u001B[0;34m,\u001B[0m \u001B[0msymbol_test\u001B[0m\u001B[0;34m,\u001B[0m \u001B[0mn\u001B[0m \u001B[0;34m=\u001B[0m \u001B[0;36m3\u001B[0m\u001B[0;34m)\u001B[0m\u001B[0;34m\u001B[0m\u001B[0;34m\u001B[0m\u001B[0m\n",
      "\u001B[0;32m~/opt/anaconda3/lib/python3.8/site-packages/pandas/io/parsers.py\u001B[0m in \u001B[0;36mread_csv\u001B[0;34m(filepath_or_buffer, sep, delimiter, header, names, index_col, usecols, squeeze, prefix, mangle_dupe_cols, dtype, engine, converters, true_values, false_values, skipinitialspace, skiprows, skipfooter, nrows, na_values, keep_default_na, na_filter, verbose, skip_blank_lines, parse_dates, infer_datetime_format, keep_date_col, date_parser, dayfirst, cache_dates, iterator, chunksize, compression, thousands, decimal, lineterminator, quotechar, quoting, doublequote, escapechar, comment, encoding, dialect, error_bad_lines, warn_bad_lines, delim_whitespace, low_memory, memory_map, float_precision, storage_options)\u001B[0m\n\u001B[1;32m    608\u001B[0m     \u001B[0mkwds\u001B[0m\u001B[0;34m.\u001B[0m\u001B[0mupdate\u001B[0m\u001B[0;34m(\u001B[0m\u001B[0mkwds_defaults\u001B[0m\u001B[0;34m)\u001B[0m\u001B[0;34m\u001B[0m\u001B[0;34m\u001B[0m\u001B[0m\n\u001B[1;32m    609\u001B[0m \u001B[0;34m\u001B[0m\u001B[0m\n\u001B[0;32m--> 610\u001B[0;31m     \u001B[0;32mreturn\u001B[0m \u001B[0m_read\u001B[0m\u001B[0;34m(\u001B[0m\u001B[0mfilepath_or_buffer\u001B[0m\u001B[0;34m,\u001B[0m \u001B[0mkwds\u001B[0m\u001B[0;34m)\u001B[0m\u001B[0;34m\u001B[0m\u001B[0;34m\u001B[0m\u001B[0m\n\u001B[0m\u001B[1;32m    611\u001B[0m \u001B[0;34m\u001B[0m\u001B[0m\n\u001B[1;32m    612\u001B[0m \u001B[0;34m\u001B[0m\u001B[0m\n",
      "\u001B[0;32m~/opt/anaconda3/lib/python3.8/site-packages/pandas/io/parsers.py\u001B[0m in \u001B[0;36m_read\u001B[0;34m(filepath_or_buffer, kwds)\u001B[0m\n\u001B[1;32m    460\u001B[0m \u001B[0;34m\u001B[0m\u001B[0m\n\u001B[1;32m    461\u001B[0m     \u001B[0;31m# Create the parser.\u001B[0m\u001B[0;34m\u001B[0m\u001B[0;34m\u001B[0m\u001B[0;34m\u001B[0m\u001B[0m\n\u001B[0;32m--> 462\u001B[0;31m     \u001B[0mparser\u001B[0m \u001B[0;34m=\u001B[0m \u001B[0mTextFileReader\u001B[0m\u001B[0;34m(\u001B[0m\u001B[0mfilepath_or_buffer\u001B[0m\u001B[0;34m,\u001B[0m \u001B[0;34m**\u001B[0m\u001B[0mkwds\u001B[0m\u001B[0;34m)\u001B[0m\u001B[0;34m\u001B[0m\u001B[0;34m\u001B[0m\u001B[0m\n\u001B[0m\u001B[1;32m    463\u001B[0m \u001B[0;34m\u001B[0m\u001B[0m\n\u001B[1;32m    464\u001B[0m     \u001B[0;32mif\u001B[0m \u001B[0mchunksize\u001B[0m \u001B[0;32mor\u001B[0m \u001B[0miterator\u001B[0m\u001B[0;34m:\u001B[0m\u001B[0;34m\u001B[0m\u001B[0;34m\u001B[0m\u001B[0m\n",
      "\u001B[0;32m~/opt/anaconda3/lib/python3.8/site-packages/pandas/io/parsers.py\u001B[0m in \u001B[0;36m__init__\u001B[0;34m(self, f, engine, **kwds)\u001B[0m\n\u001B[1;32m    817\u001B[0m             \u001B[0mself\u001B[0m\u001B[0;34m.\u001B[0m\u001B[0moptions\u001B[0m\u001B[0;34m[\u001B[0m\u001B[0;34m\"has_index_names\"\u001B[0m\u001B[0;34m]\u001B[0m \u001B[0;34m=\u001B[0m \u001B[0mkwds\u001B[0m\u001B[0;34m[\u001B[0m\u001B[0;34m\"has_index_names\"\u001B[0m\u001B[0;34m]\u001B[0m\u001B[0;34m\u001B[0m\u001B[0;34m\u001B[0m\u001B[0m\n\u001B[1;32m    818\u001B[0m \u001B[0;34m\u001B[0m\u001B[0m\n\u001B[0;32m--> 819\u001B[0;31m         \u001B[0mself\u001B[0m\u001B[0;34m.\u001B[0m\u001B[0m_engine\u001B[0m \u001B[0;34m=\u001B[0m \u001B[0mself\u001B[0m\u001B[0;34m.\u001B[0m\u001B[0m_make_engine\u001B[0m\u001B[0;34m(\u001B[0m\u001B[0mself\u001B[0m\u001B[0;34m.\u001B[0m\u001B[0mengine\u001B[0m\u001B[0;34m)\u001B[0m\u001B[0;34m\u001B[0m\u001B[0;34m\u001B[0m\u001B[0m\n\u001B[0m\u001B[1;32m    820\u001B[0m \u001B[0;34m\u001B[0m\u001B[0m\n\u001B[1;32m    821\u001B[0m     \u001B[0;32mdef\u001B[0m \u001B[0mclose\u001B[0m\u001B[0;34m(\u001B[0m\u001B[0mself\u001B[0m\u001B[0;34m)\u001B[0m\u001B[0;34m:\u001B[0m\u001B[0;34m\u001B[0m\u001B[0;34m\u001B[0m\u001B[0m\n",
      "\u001B[0;32m~/opt/anaconda3/lib/python3.8/site-packages/pandas/io/parsers.py\u001B[0m in \u001B[0;36m_make_engine\u001B[0;34m(self, engine)\u001B[0m\n\u001B[1;32m   1048\u001B[0m             )\n\u001B[1;32m   1049\u001B[0m         \u001B[0;31m# error: Too many arguments for \"ParserBase\"\u001B[0m\u001B[0;34m\u001B[0m\u001B[0;34m\u001B[0m\u001B[0;34m\u001B[0m\u001B[0m\n\u001B[0;32m-> 1050\u001B[0;31m         \u001B[0;32mreturn\u001B[0m \u001B[0mmapping\u001B[0m\u001B[0;34m[\u001B[0m\u001B[0mengine\u001B[0m\u001B[0;34m]\u001B[0m\u001B[0;34m(\u001B[0m\u001B[0mself\u001B[0m\u001B[0;34m.\u001B[0m\u001B[0mf\u001B[0m\u001B[0;34m,\u001B[0m \u001B[0;34m**\u001B[0m\u001B[0mself\u001B[0m\u001B[0;34m.\u001B[0m\u001B[0moptions\u001B[0m\u001B[0;34m)\u001B[0m  \u001B[0;31m# type: ignore[call-arg]\u001B[0m\u001B[0;34m\u001B[0m\u001B[0;34m\u001B[0m\u001B[0m\n\u001B[0m\u001B[1;32m   1051\u001B[0m \u001B[0;34m\u001B[0m\u001B[0m\n\u001B[1;32m   1052\u001B[0m     \u001B[0;32mdef\u001B[0m \u001B[0m_failover_to_python\u001B[0m\u001B[0;34m(\u001B[0m\u001B[0mself\u001B[0m\u001B[0;34m)\u001B[0m\u001B[0;34m:\u001B[0m\u001B[0;34m\u001B[0m\u001B[0;34m\u001B[0m\u001B[0m\n",
      "\u001B[0;32m~/opt/anaconda3/lib/python3.8/site-packages/pandas/io/parsers.py\u001B[0m in \u001B[0;36m__init__\u001B[0;34m(self, src, **kwds)\u001B[0m\n\u001B[1;32m   1865\u001B[0m \u001B[0;34m\u001B[0m\u001B[0m\n\u001B[1;32m   1866\u001B[0m         \u001B[0;31m# open handles\u001B[0m\u001B[0;34m\u001B[0m\u001B[0;34m\u001B[0m\u001B[0;34m\u001B[0m\u001B[0m\n\u001B[0;32m-> 1867\u001B[0;31m         \u001B[0mself\u001B[0m\u001B[0;34m.\u001B[0m\u001B[0m_open_handles\u001B[0m\u001B[0;34m(\u001B[0m\u001B[0msrc\u001B[0m\u001B[0;34m,\u001B[0m \u001B[0mkwds\u001B[0m\u001B[0;34m)\u001B[0m\u001B[0;34m\u001B[0m\u001B[0;34m\u001B[0m\u001B[0m\n\u001B[0m\u001B[1;32m   1868\u001B[0m         \u001B[0;32massert\u001B[0m \u001B[0mself\u001B[0m\u001B[0;34m.\u001B[0m\u001B[0mhandles\u001B[0m \u001B[0;32mis\u001B[0m \u001B[0;32mnot\u001B[0m \u001B[0;32mNone\u001B[0m\u001B[0;34m\u001B[0m\u001B[0;34m\u001B[0m\u001B[0m\n\u001B[1;32m   1869\u001B[0m         \u001B[0;32mfor\u001B[0m \u001B[0mkey\u001B[0m \u001B[0;32min\u001B[0m \u001B[0;34m(\u001B[0m\u001B[0;34m\"storage_options\"\u001B[0m\u001B[0;34m,\u001B[0m \u001B[0;34m\"encoding\"\u001B[0m\u001B[0;34m,\u001B[0m \u001B[0;34m\"memory_map\"\u001B[0m\u001B[0;34m,\u001B[0m \u001B[0;34m\"compression\"\u001B[0m\u001B[0;34m)\u001B[0m\u001B[0;34m:\u001B[0m\u001B[0;34m\u001B[0m\u001B[0;34m\u001B[0m\u001B[0m\n",
      "\u001B[0;32m~/opt/anaconda3/lib/python3.8/site-packages/pandas/io/parsers.py\u001B[0m in \u001B[0;36m_open_handles\u001B[0;34m(self, src, kwds)\u001B[0m\n\u001B[1;32m   1360\u001B[0m         \u001B[0mLet\u001B[0m \u001B[0mthe\u001B[0m \u001B[0mreaders\u001B[0m \u001B[0mopen\u001B[0m \u001B[0mIOHanldes\u001B[0m \u001B[0mafter\u001B[0m \u001B[0mthey\u001B[0m \u001B[0mare\u001B[0m \u001B[0mdone\u001B[0m \u001B[0;32mwith\u001B[0m \u001B[0mtheir\u001B[0m \u001B[0mpotential\u001B[0m \u001B[0mraises\u001B[0m\u001B[0;34m.\u001B[0m\u001B[0;34m\u001B[0m\u001B[0;34m\u001B[0m\u001B[0m\n\u001B[1;32m   1361\u001B[0m         \"\"\"\n\u001B[0;32m-> 1362\u001B[0;31m         self.handles = get_handle(\n\u001B[0m\u001B[1;32m   1363\u001B[0m             \u001B[0msrc\u001B[0m\u001B[0;34m,\u001B[0m\u001B[0;34m\u001B[0m\u001B[0;34m\u001B[0m\u001B[0m\n\u001B[1;32m   1364\u001B[0m             \u001B[0;34m\"r\"\u001B[0m\u001B[0;34m,\u001B[0m\u001B[0;34m\u001B[0m\u001B[0;34m\u001B[0m\u001B[0m\n",
      "\u001B[0;32m~/opt/anaconda3/lib/python3.8/site-packages/pandas/io/common.py\u001B[0m in \u001B[0;36mget_handle\u001B[0;34m(path_or_buf, mode, encoding, compression, memory_map, is_text, errors, storage_options)\u001B[0m\n\u001B[1;32m    640\u001B[0m                 \u001B[0merrors\u001B[0m \u001B[0;34m=\u001B[0m \u001B[0;34m\"replace\"\u001B[0m\u001B[0;34m\u001B[0m\u001B[0;34m\u001B[0m\u001B[0m\n\u001B[1;32m    641\u001B[0m             \u001B[0;31m# Encoding\u001B[0m\u001B[0;34m\u001B[0m\u001B[0;34m\u001B[0m\u001B[0;34m\u001B[0m\u001B[0m\n\u001B[0;32m--> 642\u001B[0;31m             handle = open(\n\u001B[0m\u001B[1;32m    643\u001B[0m                 \u001B[0mhandle\u001B[0m\u001B[0;34m,\u001B[0m\u001B[0;34m\u001B[0m\u001B[0;34m\u001B[0m\u001B[0m\n\u001B[1;32m    644\u001B[0m                 \u001B[0mioargs\u001B[0m\u001B[0;34m.\u001B[0m\u001B[0mmode\u001B[0m\u001B[0;34m,\u001B[0m\u001B[0;34m\u001B[0m\u001B[0;34m\u001B[0m\u001B[0m\n",
      "\u001B[0;31mFileNotFoundError\u001B[0m: [Errno 2] No such file or directory: 'filename.csv'"
     ]
    }
   ],
   "source": [
    "# Get similar five stocks from the stock list, using 'AMZN' as example\n",
    "# Change it to any input stock symbol\n",
    "symbol_test = 'GLENMARK.NS'\n",
    "pd.read_csv(\"filename.csv\")\n",
    "get_similar_stock(coefficient_data, symbol_test, n = 3)"
   ]
  },
  {
   "cell_type": "code",
   "execution_count": null,
   "metadata": {
    "colab": {
     "base_uri": "https://localhost:8080/",
     "height": 382
    },
    "executionInfo": {
     "elapsed": 518,
     "status": "ok",
     "timestamp": 1642352390142,
     "user": {
      "displayName": "Arun Gupta",
      "photoUrl": "https://lh3.googleusercontent.com/a-/AOh14GjZ0r2_qavLn9AbtvMSxJwWYVFWB-x9SDaJ5tYKvw=s64",
      "userId": "11788109729769979815"
     },
     "user_tz": -330
    },
    "id": "iXAY-tFHwAa9",
    "outputId": "fa932dea-0b1c-4eb2-b6f0-f21e4aaee161"
   },
   "outputs": [],
   "source": [
    "build_linear_regression('SBIN.NS')"
   ]
  },
  {
   "cell_type": "code",
   "execution_count": null,
   "metadata": {
    "id": "G5wmmwxj1H_U"
   },
   "outputs": [],
   "source": []
  },
  {
   "cell_type": "code",
   "execution_count": null,
   "metadata": {
    "pycharm": {
     "name": "#%%\n"
    }
   },
   "outputs": [],
   "source": []
  }
 ],
 "metadata": {
  "colab": {
   "collapsed_sections": [],
   "name": "Linear Regression.ipynb",
   "provenance": []
  },
  "kernelspec": {
   "display_name": "Python 3 (ipykernel)",
   "language": "python",
   "name": "python3"
  },
  "language_info": {
   "codemirror_mode": {
    "name": "ipython",
    "version": 3
   },
   "file_extension": ".py",
   "mimetype": "text/x-python",
   "name": "python",
   "nbconvert_exporter": "python",
   "pygments_lexer": "ipython3",
   "version": "3.9.7"
  }
 },
 "nbformat": 4,
 "nbformat_minor": 1
}
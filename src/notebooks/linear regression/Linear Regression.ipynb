{
 "cells": [
  {
   "cell_type": "markdown",
   "metadata": {
    "id": "00XLtFUKwAas"
   },
   "source": [
    "# Stock linear regression analysis\n",
    "Build the linear regression models of stocks to get the coefficients representing trends (class method)"
   ]
  },
  {
   "cell_type": "markdown",
   "metadata": {
    "id": "tBq7goYvwAaw"
   },
   "source": [
    "# Part 1:  build functions and test using stock_list_test.txt"
   ]
  },
  {
   "cell_type": "code",
   "execution_count": 44,
   "metadata": {
    "id": "6VuwANcYwAaw"
   },
   "outputs": [],
   "source": [
    "import numpy as np\n",
    "from sklearn import datasets, linear_model\n",
    "import pandas as pd\n",
    "import matplotlib.pyplot as pl\n",
    "\n",
    "#!pip install yfinance\n",
    "\n",
    "import yfinance as yf\n",
    "from datetime import date\n",
    "\n",
    "stock_coefficient_file_name= './../../resources/Stock_Coefficients.csv'\n",
    "\n",
    "# Considering data from 2000 to till date for latest trend\n",
    "start = '2018-01-01'\n",
    "end = date.today().strftime(\"%Y-%m-%d\")\n"
   ]
  },
  {
   "cell_type": "markdown",
   "metadata": {
    "id": "wxJsqhQMwAay"
   },
   "source": [
    "For the consistency of the whole project, read the stock list of all the symbols we needed in the text file.\n",
    "- The stock_list_test.txt is cutted from the stock_list.txt, and it should be in the same directory as this ipynb file.\n",
    "- The stock_list.txt is generated from the first part of the project"
   ]
  },
  {
   "cell_type": "code",
   "execution_count": 45,
   "metadata": {
    "id": "aE1ArCg-wAay"
   },
   "outputs": [],
   "source": [
    "# function1 to get stock list from text file\n",
    "def get_list(filename):\n",
    "    # pandas read file into data frame\n",
    "    stocks = pd.read_csv(filename, header = None)\n",
    "    stocks[0] = stocks[0].str.upper()\n",
    "    # convert the data frame to numpy array\n",
    "    stock_array = stocks.values\n",
    "    return stock_array"
   ]
  },
  {
   "cell_type": "code",
   "execution_count": 46,
   "metadata": {
    "colab": {
     "base_uri": "https://localhost:8080/"
    },
    "executionInfo": {
     "elapsed": 7,
     "status": "ok",
     "timestamp": 1642523863946,
     "user": {
      "displayName": "Arun Gupta",
      "photoUrl": "https://lh3.googleusercontent.com/a-/AOh14GjZ0r2_qavLn9AbtvMSxJwWYVFWB-x9SDaJ5tYKvw=s64",
      "userId": "11788109729769979815"
     },
     "user_tz": -330
    },
    "id": "7dc0c9AMwAaz",
    "outputId": "75d918d7-e1b2-4737-ad13-b541d2733799"
   },
   "outputs": [
    {
     "data": {
      "text/plain": "array([['AARTIIND.NS'],\n       ['ABBOTINDIA.NS'],\n       ['ACC.NS'],\n       ['ADANIENT.NS'],\n       ['ADANIPORTS.NS']], dtype=object)"
     },
     "execution_count": 46,
     "metadata": {},
     "output_type": "execute_result"
    }
   ],
   "source": [
    "# function1 using example using stock_list_test.txt\n",
    "stock_array = get_list('./../../resources/stock_list.txt')\n",
    "stock_array[:5]\n"
   ]
  },
  {
   "cell_type": "markdown",
   "metadata": {
    "id": "ZXGSTdFJwAa0"
   },
   "source": [
    "For fetching historical data from yahoo finance, an addtional package pandas_datareader are used here, which can be installed with pip from the command line:\n",
    "\n",
    "pip install pandas-datareader\n",
    "\n",
    "We can specify the stock symbol, start date, end date and also the data source.\n",
    "\n",
    "There are three exceptions defined for handling error while fetching data using datareader:\n",
    "- error RemoteDataError: when the symbol is not valid and can't be find in the dataset\n",
    "- error KeyError: when there isn't full data for the input data range(start, end)"
   ]
  },
  {
   "cell_type": "code",
   "execution_count": 56,
   "metadata": {
    "id": "gLvGbPhiwAa1"
   },
   "outputs": [],
   "source": [
    "import pandas_datareader.data as web\n",
    "from pandas_datareader._utils import RemoteDataError\n",
    "\n",
    "# Considering data from 2018 to 2019 for latest trend\n",
    "start = '2018-01-01'\n",
    "end = '2022-02-01' #date.today().strftime(\"%Y-%m-%d\")\n",
    "\n",
    "# function2: get historical data for a specific stock, using symbol as the parameter\n",
    "def load_stock_data(symbol):\n",
    "    try:\n",
    "\n",
    "        df = yf.download(symbol , start , end )\n",
    "        #web.DataReader(symbol, 'yahoo', start, end)\n",
    "    except RemoteDataError:\n",
    "        print(\"No search result : '\" + symbol + \"'\")\n",
    "        return float('NaN')\n",
    "    except KeyError:\n",
    "        print(\"Date range not supported : '\" + symbol + \"'\")\n",
    "        return float('NaN')\n",
    "    close = df[['Close']]\n",
    "    \n",
    "    # Normalize close value by divided by the base value (the close price of the earliest day) and multiplied by 100\n",
    "    base = close.iloc[0]['Close']\n",
    "    # neglect the stocks the initial close price < 25 USD to insure the selected stock value\n",
    "    if base > 10 :\n",
    "        close = close.assign(Close = close['Close'] / base * 100)\n",
    "    return close"
   ]
  },
  {
   "cell_type": "code",
   "execution_count": 57,
   "metadata": {
    "colab": {
     "base_uri": "https://localhost:8080/",
     "height": 255
    },
    "executionInfo": {
     "elapsed": 1960,
     "status": "ok",
     "timestamp": 1642523865902,
     "user": {
      "displayName": "Arun Gupta",
      "photoUrl": "https://lh3.googleusercontent.com/a-/AOh14GjZ0r2_qavLn9AbtvMSxJwWYVFWB-x9SDaJ5tYKvw=s64",
      "userId": "11788109729769979815"
     },
     "user_tz": -330
    },
    "id": "_6Qfe9JvwAa2",
    "outputId": "f97bfd6a-e49e-4ac3-878e-6bd799691410"
   },
   "outputs": [
    {
     "name": "stdout",
     "output_type": "stream",
     "text": [
      "[*********************100%***********************]  1 of 1 completed\n"
     ]
    },
    {
     "data": {
      "text/plain": "                 Close\nDate                  \n2018-01-01  100.000000\n2018-01-02   99.632443\n2018-01-03  101.436014\n2018-01-04  100.529956\n2018-01-05  100.209415",
      "text/html": "<div>\n<style scoped>\n    .dataframe tbody tr th:only-of-type {\n        vertical-align: middle;\n    }\n\n    .dataframe tbody tr th {\n        vertical-align: top;\n    }\n\n    .dataframe thead th {\n        text-align: right;\n    }\n</style>\n<table border=\"1\" class=\"dataframe\">\n  <thead>\n    <tr style=\"text-align: right;\">\n      <th></th>\n      <th>Close</th>\n    </tr>\n    <tr>\n      <th>Date</th>\n      <th></th>\n    </tr>\n  </thead>\n  <tbody>\n    <tr>\n      <th>2018-01-01</th>\n      <td>100.000000</td>\n    </tr>\n    <tr>\n      <th>2018-01-02</th>\n      <td>99.632443</td>\n    </tr>\n    <tr>\n      <th>2018-01-03</th>\n      <td>101.436014</td>\n    </tr>\n    <tr>\n      <th>2018-01-04</th>\n      <td>100.529956</td>\n    </tr>\n    <tr>\n      <th>2018-01-05</th>\n      <td>100.209415</td>\n    </tr>\n  </tbody>\n</table>\n</div>"
     },
     "execution_count": 57,
     "metadata": {},
     "output_type": "execute_result"
    }
   ],
   "source": [
    "A_close = load_stock_data('RBL.NS')\n",
    "A_close[:5]"
   ]
  },
  {
   "cell_type": "code",
   "execution_count": 58,
   "metadata": {
    "colab": {
     "base_uri": "https://localhost:8080/",
     "height": 286
    },
    "executionInfo": {
     "elapsed": 1929,
     "status": "ok",
     "timestamp": 1642523867825,
     "user": {
      "displayName": "Arun Gupta",
      "photoUrl": "https://lh3.googleusercontent.com/a-/AOh14GjZ0r2_qavLn9AbtvMSxJwWYVFWB-x9SDaJ5tYKvw=s64",
      "userId": "11788109729769979815"
     },
     "user_tz": -330
    },
    "id": "ZONJ9_1uwAa3",
    "outputId": "e45c6e0c-fb76-4c29-fc96-cbe311978189"
   },
   "outputs": [
    {
     "name": "stdout",
     "output_type": "stream",
     "text": [
      "[*********************100%***********************]  1 of 1 completed\n"
     ]
    },
    {
     "data": {
      "text/plain": "<Figure size 432x288 with 1 Axes>",
      "image/png": "[encoded data removed]"
     },
     "metadata": {
      "needs_background": "light"
     },
     "output_type": "display_data"
    }
   ],
   "source": [
    "# function2 using example\n",
    "A_close = load_stock_data('TORNTPOWER.NS')\n",
    "A_close.plot()\n",
    "pl.show()"
   ]
  },
  {
   "cell_type": "code",
   "execution_count": 59,
   "metadata": {
    "id": "IddoLEpswAa4"
   },
   "outputs": [],
   "source": [
    "from sklearn.model_selection import train_test_split\n",
    "\n",
    "# function3: build linear regression model for a specific stock\n",
    "# parameter \n",
    "    # show_statistics: indicate if the statistics are printed \n",
    "    # show_dots: indicate if dots data needed\n",
    "    # show_plot: indacate if the plot is shown\n",
    "\n",
    "#The coefficient estimates for Ordinary Least Squares rely on the independence of the features. \n",
    "#When features are correlated and the columns of the design matrix  have an approximately linear dependence, \n",
    "#the design matrix becomes close to singular and as a result, the least-squares estimate becomes highly sensitive to random errors in the observed target, \n",
    "#producing a large variance. \n",
    "    \n",
    "def build_linear_regression(symbol, show_statistics = True, show_dots = True, show_plot = True):\n",
    "    close = load_stock_data(symbol)\n",
    "    # if the close is not dataframe, return NaN\n",
    "    if not isinstance(close, pd.DataFrame) :\n",
    "        return float('NaN')\n",
    "    \n",
    "    # normalize datatime datatype to integer\n",
    "    # simply converting datetime's to # of days since 2018-04-01 divided by 100\n",
    "    close.index = (close.index - pd.to_datetime('2019-01-01')).days / 100\n",
    "    close = close.reset_index()\n",
    "    train, test= train_test_split(close)\n",
    "    \n",
    "    train_x = train.drop('Close', axis = 1)\n",
    "    train_y = train[['Close']]\n",
    "    test_x = test.drop('Close', axis = 1)\n",
    "    test_y = test[['Close']]\n",
    "    \n",
    "    #call linear regression model\n",
    "    regr = linear_model.LinearRegression()\n",
    "    regr.fit(train_x,train_y)\n",
    "    \n",
    "    if show_statistics :\n",
    "        # The coefficients\n",
    "        print('Coefficients         ->', regr.coef_[0])\n",
    "        # The mean squared error\n",
    "        print(\"Mean squared error   -> %.2f\"\n",
    "        % np.mean((regr.predict(test_x) - test_y) ** 2))\n",
    "        # Explained variance score: 1 is perfect prediction\n",
    "        print('Variance score       -> %.2f' % regr.score(test_x, test_y))\n",
    "        print('features             ->', 'Date', 'Stock Close Price')\n",
    "    \n",
    "    if show_plot :\n",
    "        pl.plot(test_x, regr.predict(test_x), label = symbol)\n",
    "        pl.legend()\n",
    "        \n",
    "        # Plot outputs\n",
    "        pl.xlabel('Date')\n",
    "        pl.ylabel('Close Price')\n",
    "        pl.title('Overall Linear Regression Model')\n",
    "\n",
    "        if show_dots :\n",
    "            #pl.title(symbol + ' Linear Regression Model')\n",
    "            pl.plot(test['Date'], test['Close'], linestyle='none', marker='o')\n",
    "    \n",
    "        pl.xticks(())\n",
    "        pl.yticks(())\n",
    "    # return the coefficient representing trend\n",
    "    return regr.coef_[0][0]"
   ]
  },
  {
   "cell_type": "code",
   "execution_count": 60,
   "metadata": {
    "colab": {
     "base_uri": "https://localhost:8080/",
     "height": 346
    },
    "executionInfo": {
     "elapsed": 1498,
     "status": "error",
     "timestamp": 1642523869319,
     "user": {
      "displayName": "Arun Gupta",
      "photoUrl": "https://lh3.googleusercontent.com/a-/AOh14GjZ0r2_qavLn9AbtvMSxJwWYVFWB-x9SDaJ5tYKvw=s64",
      "userId": "11788109729769979815"
     },
     "user_tz": -330
    },
    "id": "jKpkp512wAa5",
    "outputId": "dc104f3f-c8cf-492b-c31e-c8c772965777"
   },
   "outputs": [
    {
     "name": "stdout",
     "output_type": "stream",
     "text": [
      "[*********************100%***********************]  1 of 1 completed\n",
      "Coefficients         -> [1.0050665]\n",
      "Mean squared error   -> 288.93\n",
      "Variance score       -> 0.08\n",
      "features             -> Date Stock Close Price\n"
     ]
    },
    {
     "data": {
      "text/plain": "1.0050665014483393"
     },
     "execution_count": 60,
     "metadata": {},
     "output_type": "execute_result"
    },
    {
     "data": {
      "text/plain": "<Figure size 432x288 with 1 Axes>",
      "image/png": "[encoded data removed]"
     },
     "metadata": {},
     "output_type": "display_data"
    }
   ],
   "source": [
    "build_linear_regression('CONCOR.NS')"
   ]
  },
  {
   "cell_type": "code",
   "execution_count": 61,
   "metadata": {
    "id": "sMQKT3XSwAa5"
   },
   "outputs": [],
   "source": [
    "import os\n",
    "\n",
    "\n",
    "# function4: for each symbol in the text file, caculate the coefficents and record in the original text file\n",
    "def get_coefficient_dataset(filename, show_statistics = False, show_dots = False, show_plot = False) :\n",
    "    # load stock list data from text file\n",
    "    stock_array = get_list(filename)\n",
    "    # extend the 2D array from N * 1 to N * 2 to make place for putting corresponding coefficient\n",
    "    stock_array = np.insert(stock_array, 1, values=0, axis=1)\n",
    "\n",
    "    # caculate coefficient for each symbol and store in the stock_array\n",
    "    for symbol in stock_array:\n",
    "        print(symbol)\n",
    "        coefficient = build_linear_regression(symbol[0], show_statistics, show_dots, show_plot)\n",
    "        symbol[1] = coefficient\n",
    "        #break\n",
    "    \n",
    "    # transfer stock_array to dataframe with two columns 'Stock' and 'Coefficient'\n",
    "    coefficient_data = pd.DataFrame(stock_array)\n",
    "    coefficient_data.columns = ['Stock', 'Coefficient']\n",
    "    \n",
    "    # store the dataframe to csv file for future using\n",
    "    coefficient_data.to_csv(stock_coefficient_file_name)\n",
    "    return coefficient_data"
   ]
  },
  {
   "cell_type": "code",
   "execution_count": 62,
   "metadata": {
    "colab": {
     "base_uri": "https://localhost:8080/",
     "height": 1000
    },
    "executionInfo": {
     "elapsed": 99749,
     "status": "ok",
     "timestamp": 1642523862434,
     "user": {
      "displayName": "Arun Gupta",
      "photoUrl": "https://lh3.googleusercontent.com/a-/AOh14GjZ0r2_qavLn9AbtvMSxJwWYVFWB-x9SDaJ5tYKvw=s64",
      "userId": "11788109729769979815"
     },
     "user_tz": -330
    },
    "id": "3HGvl3eAwAa5",
    "outputId": "aaae8aed-a9f6-4fb8-bde7-041e5583c87a"
   },
   "outputs": [
    {
     "name": "stdout",
     "output_type": "stream",
     "text": [
      "['AARTIIND.NS' 0]\n",
      "[*********************100%***********************]  1 of 1 completed\n",
      "['ABBOTINDIA.NS' 0]\n",
      "[*********************100%***********************]  1 of 1 completed\n",
      "['ACC.NS' 0]\n",
      "[*********************100%***********************]  1 of 1 completed\n",
      "['ADANIENT.NS' 0]\n",
      "[*********************100%***********************]  1 of 1 completed\n",
      "['ADANIPORTS.NS' 0]\n",
      "[*********************100%***********************]  1 of 1 completed\n",
      "['ABFRL.NS' 0]\n",
      "[*********************100%***********************]  1 of 1 completed\n",
      "['APLLTD.NS' 0]\n",
      "[*********************100%***********************]  1 of 1 completed\n",
      "['ALKEM.NS' 0]\n",
      "[*********************100%***********************]  1 of 1 completed\n",
      "['AMARAJABAT.NS' 0]\n",
      "[*********************100%***********************]  1 of 1 completed\n",
      "['AMBUJACEM.NS' 0]\n",
      "[*********************100%***********************]  1 of 1 completed\n",
      "['APOLLOHOSP.NS' 0]\n",
      "[*********************100%***********************]  1 of 1 completed\n",
      "['APOLLOTYRE.NS' 0]\n",
      "[*********************100%***********************]  1 of 1 completed\n",
      "['ASHOKLEY.NS' 0]\n",
      "[*********************100%***********************]  1 of 1 completed\n",
      "['ASIANPAINT.NS' 0]\n",
      "[*********************100%***********************]  1 of 1 completed\n",
      "['ASTRAL.NS' 0]\n",
      "[*********************100%***********************]  1 of 1 completed\n",
      "['AUBANK.NS' 0]\n",
      "[*********************100%***********************]  1 of 1 completed\n",
      "['AUROPHARMA.NS' 0]\n",
      "[*********************100%***********************]  1 of 1 completed\n",
      "['AXISBANK.NS' 0]\n",
      "[*********************100%***********************]  1 of 1 completed\n",
      "['BAJAJ-AUTO.NS' 0]\n",
      "[*********************100%***********************]  1 of 1 completed\n",
      "['BAJFINANCE.NS' 0]\n",
      "[*********************100%***********************]  1 of 1 completed\n",
      "['BAJAJFINSV.NS' 0]\n",
      "[*********************100%***********************]  1 of 1 completed\n",
      "['BALKRISIND.NS' 0]\n",
      "[*********************100%***********************]  1 of 1 completed\n",
      "['BANDHANBNK.NS' 0]\n",
      "[*********************100%***********************]  1 of 1 completed\n",
      "['BANKBARODA.NS' 0]\n",
      "[*********************100%***********************]  1 of 1 completed\n",
      "['BATAINDIA.NS' 0]\n",
      "[*********************100%***********************]  1 of 1 completed\n",
      "['BERGEPAINT.NS' 0]\n",
      "[*********************100%***********************]  1 of 1 completed\n",
      "['BEL.NS' 0]\n",
      "[*********************100%***********************]  1 of 1 completed\n",
      "['BHARATFORG.NS' 0]\n",
      "[*********************100%***********************]  1 of 1 completed\n",
      "['BPCL.NS' 0]\n",
      "[*********************100%***********************]  1 of 1 completed\n",
      "['BHARTIARTL.NS' 0]\n",
      "[*********************100%***********************]  1 of 1 completed\n",
      "['BHEL.NS' 0]\n",
      "[*********************100%***********************]  1 of 1 completed\n",
      "['BIOCON.NS' 0]\n",
      "[*********************100%***********************]  1 of 1 completed\n",
      "['BOSCHLTD.NS' 0]\n",
      "[*********************100%***********************]  1 of 1 completed\n",
      "['BRITANNIA.NS' 0]\n",
      "[*********************100%***********************]  1 of 1 completed\n",
      "['CADILAHC.NS' 0]\n",
      "[*********************100%***********************]  1 of 1 completed\n",
      "['CANFINHOME.NS' 0]\n",
      "[*********************100%***********************]  1 of 1 completed\n",
      "['CANBK.NS' 0]\n",
      "[*********************100%***********************]  1 of 1 completed\n",
      "['CHOLAFIN.NS' 0]\n",
      "[*********************100%***********************]  1 of 1 completed\n",
      "['CIPLA.NS' 0]\n",
      "[*********************100%***********************]  1 of 1 completed\n",
      "['CUB.NS' 0]\n",
      "[*********************100%***********************]  1 of 1 completed\n",
      "['COALINDIA.NS' 0]\n",
      "[*********************100%***********************]  1 of 1 completed\n",
      "['COFORGE.NS' 0]\n",
      "[*********************100%***********************]  1 of 1 completed\n",
      "['COLPAL.NS' 0]\n",
      "[*********************100%***********************]  1 of 1 completed\n",
      "['CONCOR.NS' 0]\n",
      "[*********************100%***********************]  1 of 1 completed\n",
      "['COROMANDEL.NS' 0]\n",
      "[*********************100%***********************]  1 of 1 completed\n",
      "['CROMPTON.NS' 0]\n",
      "[*********************100%***********************]  1 of 1 completed\n",
      "['CUMMINSIND.NS' 0]\n",
      "[*********************100%***********************]  1 of 1 completed\n",
      "['DABUR.NS' 0]\n",
      "[*********************100%***********************]  1 of 1 completed\n",
      "['DALBHARAT.NS' 0]\n",
      "[*********************100%***********************]  1 of 1 completed\n",
      "['DEEPAKNTR.NS' 0]\n",
      "[*********************100%***********************]  1 of 1 completed\n",
      "['DELTACORP.NS' 0]\n",
      "[*********************100%***********************]  1 of 1 completed\n",
      "['DIVISLAB.NS' 0]\n",
      "[*********************100%***********************]  1 of 1 completed\n",
      "['DIXON.NS' 0]\n",
      "[*********************100%***********************]  1 of 1 completed\n",
      "['DLF.NS' 0]\n",
      "[*********************100%***********************]  1 of 1 completed\n",
      "['LALPATHLAB.NS' 0]\n",
      "[*********************100%***********************]  1 of 1 completed\n",
      "['DRREDDY.NS' 0]\n",
      "[*********************100%***********************]  1 of 1 completed\n",
      "['EICHERMOT.NS' 0]\n",
      "[*********************100%***********************]  1 of 1 completed\n",
      "['ESCORTS.NS' 0]\n",
      "[*********************100%***********************]  1 of 1 completed\n",
      "['EXIDEIND.NS' 0]\n",
      "[*********************100%***********************]  1 of 1 completed\n",
      "['FEDERALBNK.NS' 0]\n",
      "[*********************100%***********************]  1 of 1 completed\n",
      "['GAIL.NS' 0]\n",
      "[*********************100%***********************]  1 of 1 completed\n",
      "['GLENMARK.NS' 0]\n",
      "[*********************100%***********************]  1 of 1 completed\n",
      "['GMRINFRA.NS' 0]\n",
      "[*********************100%***********************]  1 of 1 completed\n",
      "['GODREJCP.NS' 0]\n",
      "[*********************100%***********************]  1 of 1 completed\n",
      "['GODREJPROP.NS' 0]\n",
      "[*********************100%***********************]  1 of 1 completed\n",
      "['GRANULES.NS' 0]\n",
      "[*********************100%***********************]  1 of 1 completed\n",
      "['GRASIM.NS' 0]\n",
      "[*********************100%***********************]  1 of 1 completed\n",
      "['GUJGASLTD.NS' 0]\n",
      "[*********************100%***********************]  1 of 1 completed\n",
      "['HAVELLS.NS' 0]\n",
      "[*********************100%***********************]  1 of 1 completed\n",
      "['HCLTECH.NS' 0]\n",
      "[*********************100%***********************]  1 of 1 completed\n",
      "['HDFCAMC.NS' 0]\n",
      "[*********************100%***********************]  1 of 1 completed\n",
      "['HDFCBANK.NS' 0]\n",
      "[*********************100%***********************]  1 of 1 completed\n",
      "['HDFCLIFE.NS' 0]\n",
      "[*********************100%***********************]  1 of 1 completed\n",
      "['HDFC.NS' 0]\n",
      "[*********************100%***********************]  1 of 1 completed\n",
      "['HEROMOTOCO.NS' 0]\n",
      "[*********************100%***********************]  1 of 1 completed\n",
      "['HINDALCO.NS' 0]\n",
      "[*********************100%***********************]  1 of 1 completed\n",
      "['HAL.NS' 0]\n",
      "[*********************100%***********************]  1 of 1 completed\n",
      "['HINDPETRO.NS' 0]\n",
      "[*********************100%***********************]  1 of 1 completed\n",
      "['HINDUNILVR.NS' 0]\n",
      "[*********************100%***********************]  1 of 1 completed\n",
      "['ICICIBANK.NS' 0]\n",
      "[*********************100%***********************]  1 of 1 completed\n",
      "['ICICIGI.NS' 0]\n",
      "[*********************100%***********************]  1 of 1 completed\n",
      "['ICICIPRULI.NS' 0]\n",
      "[*********************100%***********************]  1 of 1 completed\n",
      "['IDFCFIRSTB.NS' 0]\n",
      "[*********************100%***********************]  1 of 1 completed\n",
      "['IBULHSGFIN.NS' 0]\n",
      "[*********************100%***********************]  1 of 1 completed\n",
      "['INDIAMART.NS' 0]\n",
      "[*********************100%***********************]  1 of 1 completed\n",
      "['IEX.NS' 0]\n",
      "[*********************100%***********************]  1 of 1 completed\n",
      "['IOC.NS' 0]\n",
      "[*********************100%***********************]  1 of 1 completed\n",
      "['IRCTC.NS' 0]\n",
      "[*********************100%***********************]  1 of 1 completed\n",
      "['IGL.NS' 0]\n",
      "[*********************100%***********************]  1 of 1 completed\n",
      "['INDUSTOWER.NS' 0]\n",
      "[*********************100%***********************]  1 of 1 completed\n",
      "['INDUSINDBK.NS' 0]\n",
      "[*********************100%***********************]  1 of 1 completed\n",
      "['NAUKRI.NS' 0]\n",
      "[*********************100%***********************]  1 of 1 completed\n",
      "['INFY.NS' 0]\n",
      "[*********************100%***********************]  1 of 1 completed\n",
      "['INDIGO.NS' 0]\n",
      "[*********************100%***********************]  1 of 1 completed\n",
      "['IPCALAB.NS' 0]\n",
      "[*********************100%***********************]  1 of 1 completed\n",
      "['ITC.NS' 0]\n",
      "[*********************100%***********************]  1 of 1 completed\n",
      "['JINDALSTEL.NS' 0]\n",
      "[*********************100%***********************]  1 of 1 completed\n",
      "['JKCEMENT.NS' 0]\n",
      "[*********************100%***********************]  1 of 1 completed\n",
      "['JSWSTEEL.NS' 0]\n",
      "[*********************100%***********************]  1 of 1 completed\n",
      "['JUBLFOOD.NS' 0]\n",
      "[*********************100%***********************]  1 of 1 completed\n",
      "['KOTAKBANK.NS' 0]\n",
      "[*********************100%***********************]  1 of 1 completed\n",
      "['L&TFH.NS' 0]\n",
      "[*********************100%***********************]  1 of 1 completed\n",
      "['LTI.NS' 0]\n",
      "[*********************100%***********************]  1 of 1 completed\n",
      "['LTTS.NS' 0]\n",
      "[*********************100%***********************]  1 of 1 completed\n",
      "['LT.NS' 0]\n",
      "[*********************100%***********************]  1 of 1 completed\n",
      "['LICHSGFIN.NS' 0]\n",
      "[*********************100%***********************]  1 of 1 completed\n",
      "['LUPIN.NS' 0]\n",
      "[*********************100%***********************]  1 of 1 completed\n",
      "['M&MFIN.NS' 0]\n",
      "[*********************100%***********************]  1 of 1 completed\n",
      "['MGL.NS' 0]\n",
      "[*********************100%***********************]  1 of 1 completed\n",
      "['M&M.NS' 0]\n",
      "[*********************100%***********************]  1 of 1 completed\n",
      "['MANAPPURAM.NS' 0]\n",
      "[*********************100%***********************]  1 of 1 completed\n",
      "['MARICO.NS' 0]\n",
      "[*********************100%***********************]  1 of 1 completed\n",
      "['MARUTI.NS' 0]\n",
      "[*********************100%***********************]  1 of 1 completed\n",
      "['MFSL.NS' 0]\n",
      "[*********************100%***********************]  1 of 1 completed\n",
      "['METROPOLIS.NS' 0]\n",
      "[*********************100%***********************]  1 of 1 completed\n",
      "['MINDTREE.NS' 0]\n",
      "[*********************100%***********************]  1 of 1 completed\n",
      "['MOTHERSUMI.NS' 0]\n",
      "[*********************100%***********************]  1 of 1 completed\n",
      "['MPHASIS.NS' 0]\n",
      "[*********************100%***********************]  1 of 1 completed\n",
      "['MRF.NS' 0]\n",
      "[*********************100%***********************]  1 of 1 completed\n",
      "['MCX.NS' 0]\n",
      "[*********************100%***********************]  1 of 1 completed\n",
      "['MUTHOOTFIN.NS' 0]\n",
      "[*********************100%***********************]  1 of 1 completed\n",
      "['NATIONALUM.NS' 0]\n",
      "[*********************100%***********************]  1 of 1 completed\n",
      "['NAVINFLUOR.NS' 0]\n",
      "[*********************100%***********************]  1 of 1 completed\n",
      "['NESTLEIND.NS' 0]\n",
      "[*********************100%***********************]  1 of 1 completed\n",
      "['NMDC.NS' 0]\n",
      "[*********************100%***********************]  1 of 1 completed\n",
      "['NTPC.NS' 0]\n",
      "[*********************100%***********************]  1 of 1 completed\n",
      "['OBEROIRLTY.NS' 0]\n",
      "[*********************100%***********************]  1 of 1 completed\n",
      "['ONGC.NS' 0]\n",
      "[*********************100%***********************]  1 of 1 completed\n",
      "['OFSS.NS' 0]\n",
      "[*********************100%***********************]  1 of 1 completed\n",
      "['PAGEIND.NS' 0]\n",
      "[*********************100%***********************]  1 of 1 completed\n",
      "['PERSISTENT.NS' 0]\n",
      "[*********************100%***********************]  1 of 1 completed\n",
      "['PETRONET.NS' 0]\n",
      "[*********************100%***********************]  1 of 1 completed\n",
      "['PFIZER.NS' 0]\n",
      "[*********************100%***********************]  1 of 1 completed\n",
      "['PIIND.NS' 0]\n",
      "[*********************100%***********************]  1 of 1 completed\n",
      "['PIDILITIND.NS' 0]\n",
      "[*********************100%***********************]  1 of 1 completed\n",
      "['PEL.NS' 0]\n",
      "[*********************100%***********************]  1 of 1 completed\n",
      "['POLYCAB.NS' 0]\n",
      "[*********************100%***********************]  1 of 1 completed\n",
      "['PFC.NS' 0]\n",
      "[*********************100%***********************]  1 of 1 completed\n",
      "['POWERGRID.NS' 0]\n",
      "[*********************100%***********************]  1 of 1 completed\n",
      "['PNB.NS' 0]\n",
      "[*********************100%***********************]  1 of 1 completed\n",
      "['PVR.NS' 0]\n",
      "[*********************100%***********************]  1 of 1 completed\n",
      "['RBLBANK.NS' 0]\n",
      "[*********************100%***********************]  1 of 1 completed\n",
      "['RECLTD.NS' 0]\n",
      "[*********************100%***********************]  1 of 1 completed\n",
      "['RELIANCE.NS' 0]\n",
      "[*********************100%***********************]  1 of 1 completed\n",
      "['SBILIFE.NS' 0]\n",
      "[*********************100%***********************]  1 of 1 completed\n",
      "['SHREECEM.NS' 0]\n",
      "[*********************100%***********************]  1 of 1 completed\n",
      "['SIEMENS.NS' 0]\n",
      "[*********************100%***********************]  1 of 1 completed\n",
      "['SRF.NS' 0]\n",
      "[*********************100%***********************]  1 of 1 completed\n",
      "['SBIN.NS' 0]\n",
      "[*********************100%***********************]  1 of 1 completed\n",
      "['SAIL.NS' 0]\n",
      "[*********************100%***********************]  1 of 1 completed\n",
      "['STAR.NS' 0]\n",
      "[*********************100%***********************]  1 of 1 completed\n",
      "['SUNPHARMA.NS' 0]\n",
      "[*********************100%***********************]  1 of 1 completed\n",
      "['SUNTV.NS' 0]\n",
      "[*********************100%***********************]  1 of 1 completed\n",
      "['SYNGENE.NS' 0]\n",
      "[*********************100%***********************]  1 of 1 completed\n",
      "['TATACHEM.NS' 0]\n",
      "[*********************100%***********************]  1 of 1 completed\n",
      "['TCS.NS' 0]\n",
      "[*********************100%***********************]  1 of 1 completed\n",
      "['TATACONSUM.NS' 0]\n",
      "[*********************100%***********************]  1 of 1 completed\n",
      "['TATAMOTORS.NS' 0]\n",
      "[*********************100%***********************]  1 of 1 completed\n",
      "['TATAPOWER.NS' 0]\n",
      "[*********************100%***********************]  1 of 1 completed\n",
      "['TATASTEEL.NS' 0]\n",
      "[*********************100%***********************]  1 of 1 completed\n",
      "['TECHM.NS' 0]\n",
      "[*********************100%***********************]  1 of 1 completed\n",
      "['INDIACEM.NS' 0]\n",
      "[*********************100%***********************]  1 of 1 completed\n",
      "['INDHOTEL.NS' 0]\n",
      "[*********************100%***********************]  1 of 1 completed\n",
      "['RAMCOCEM.NS' 0]\n",
      "[*********************100%***********************]  1 of 1 completed\n",
      "['TITAN.NS' 0]\n",
      "[*********************100%***********************]  1 of 1 completed\n",
      "['TORNTPHARM.NS' 0]\n",
      "[*********************100%***********************]  1 of 1 completed\n",
      "['TORNTPOWER.NS' 0]\n",
      "[*********************100%***********************]  1 of 1 completed\n",
      "['TRENT.NS' 0]\n",
      "[*********************100%***********************]  1 of 1 completed\n",
      "['TVSMOTOR.NS' 0]\n",
      "[*********************100%***********************]  1 of 1 completed\n",
      "['ULTRACEMCO.NS' 0]\n",
      "[*********************100%***********************]  1 of 1 completed\n",
      "['UBL.NS' 0]\n",
      "[*********************100%***********************]  1 of 1 completed\n",
      "['MCDOWELL-N.NS' 0]\n",
      "[*********************100%***********************]  1 of 1 completed\n",
      "['UPL.NS' 0]\n",
      "[*********************100%***********************]  1 of 1 completed\n",
      "['VEDL.NS' 0]\n",
      "[*********************100%***********************]  1 of 1 completed\n",
      "['IDEA.NS' 0]\n",
      "[*********************100%***********************]  1 of 1 completed\n",
      "['VOLTAS.NS' 0]\n",
      "[*********************100%***********************]  1 of 1 completed\n",
      "['WIPRO.NS' 0]\n",
      "[*********************100%***********************]  1 of 1 completed\n",
      "['ZEEL.NS' 0]\n",
      "[*********************100%***********************]  1 of 1 completed\n"
     ]
    },
    {
     "data": {
      "text/plain": "             Stock Coefficient\n0      AARTIIND.NS   17.185311\n1    ABBOTINDIA.NS   18.740992\n2           ACC.NS    2.644753\n3      ADANIENT.NS  115.821277\n4    ADANIPORTS.NS    6.350066\n..             ...         ...\n173        VEDL.NS    0.321134\n174        IDEA.NS   -3.447122\n175      VOLTAS.NS    6.597095\n176       WIPRO.NS   11.893548\n177        ZEEL.NS   -4.424567\n\n[178 rows x 2 columns]",
      "text/html": "<div>\n<style scoped>\n    .dataframe tbody tr th:only-of-type {\n        vertical-align: middle;\n    }\n\n    .dataframe tbody tr th {\n        vertical-align: top;\n    }\n\n    .dataframe thead th {\n        text-align: right;\n    }\n</style>\n<table border=\"1\" class=\"dataframe\">\n  <thead>\n    <tr style=\"text-align: right;\">\n      <th></th>\n      <th>Stock</th>\n      <th>Coefficient</th>\n    </tr>\n  </thead>\n  <tbody>\n    <tr>\n      <th>0</th>\n      <td>AARTIIND.NS</td>\n      <td>17.185311</td>\n    </tr>\n    <tr>\n      <th>1</th>\n      <td>ABBOTINDIA.NS</td>\n      <td>18.740992</td>\n    </tr>\n    <tr>\n      <th>2</th>\n      <td>ACC.NS</td>\n      <td>2.644753</td>\n    </tr>\n    <tr>\n      <th>3</th>\n      <td>ADANIENT.NS</td>\n      <td>115.821277</td>\n    </tr>\n    <tr>\n      <th>4</th>\n      <td>ADANIPORTS.NS</td>\n      <td>6.350066</td>\n    </tr>\n    <tr>\n      <th>...</th>\n      <td>...</td>\n      <td>...</td>\n    </tr>\n    <tr>\n      <th>173</th>\n      <td>VEDL.NS</td>\n      <td>0.321134</td>\n    </tr>\n    <tr>\n      <th>174</th>\n      <td>IDEA.NS</td>\n      <td>-3.447122</td>\n    </tr>\n    <tr>\n      <th>175</th>\n      <td>VOLTAS.NS</td>\n      <td>6.597095</td>\n    </tr>\n    <tr>\n      <th>176</th>\n      <td>WIPRO.NS</td>\n      <td>11.893548</td>\n    </tr>\n    <tr>\n      <th>177</th>\n      <td>ZEEL.NS</td>\n      <td>-4.424567</td>\n    </tr>\n  </tbody>\n</table>\n<p>178 rows × 2 columns</p>\n</div>"
     },
     "execution_count": 62,
     "metadata": {},
     "output_type": "execute_result"
    }
   ],
   "source": [
    "# function4 using example using stock_list_test.txt\n",
    "coefficient_data_test = get_coefficient_dataset('./../../resources/stock_list.txt')\n",
    "coefficient_data_test"
   ]
  },
  {
   "cell_type": "code",
   "execution_count": 32,
   "metadata": {
    "id": "7K8rk4KMwAa6"
   },
   "outputs": [],
   "source": [
    "# function5 to get top n stocks with biggest coefficients\n",
    "def get_top_stock(coefficient_data, n = 5, show_dots = False) :\n",
    "    # sort stocks by coefficients with descending order\n",
    "    top_stocks = coefficient_data.sort_values(by = ['Coefficient'], ascending = False)\n",
    "    # take top n stocks\n",
    "    top_stocks = top_stocks[:n]\n",
    "    top_stocks_list = top_stocks['Stock'].tolist()\n",
    "    # plot stocks\n",
    "    for symbol in top_stocks_list:\n",
    "        build_linear_regression(symbol, show_statistics = False, show_dots = show_dots, show_plot = True)\n",
    "    # print stock list    \n",
    "    print(\"The \" + str(n) +\" stocks with best trends are: \")\n",
    "    print(top_stocks['Stock'].tolist())\n",
    "    return top_stocks"
   ]
  },
  {
   "cell_type": "code",
   "execution_count": 33,
   "metadata": {
    "colab": {
     "base_uri": "https://localhost:8080/",
     "height": 491
    },
    "executionInfo": {
     "elapsed": 5351,
     "status": "ok",
     "timestamp": 1642523902515,
     "user": {
      "displayName": "Arun Gupta",
      "photoUrl": "https://lh3.googleusercontent.com/a-/AOh14GjZ0r2_qavLn9AbtvMSxJwWYVFWB-x9SDaJ5tYKvw=s64",
      "userId": "11788109729769979815"
     },
     "user_tz": -330
    },
    "id": "f0pnC6tXwAa6",
    "outputId": "90a74b27-ad4a-4c0c-f979-773a6eedcd93"
   },
   "outputs": [
    {
     "name": "stdout",
     "output_type": "stream",
     "text": [
      "[*********************100%***********************]  1 of 1 completed\n",
      "[*********************100%***********************]  1 of 1 completed\n",
      "[*********************100%***********************]  1 of 1 completed\n",
      "[*********************100%***********************]  1 of 1 completed\n",
      "[*********************100%***********************]  1 of 1 completed\n",
      "The 5 stocks with best trends are: \n",
      "['ADANIENT.NS', 'INDIAMART.NS', 'DEEPAKNTR.NS', 'IRCTC.NS', 'COFORGE.NS']\n"
     ]
    },
    {
     "data": {
      "text/html": [
       "<div>\n",
       "<style scoped>\n",
       "    .dataframe tbody tr th:only-of-type {\n",
       "        vertical-align: middle;\n",
       "    }\n",
       "\n",
       "    .dataframe tbody tr th {\n",
       "        vertical-align: top;\n",
       "    }\n",
       "\n",
       "    .dataframe thead th {\n",
       "        text-align: right;\n",
       "    }\n",
       "</style>\n",
       "<table border=\"1\" class=\"dataframe\">\n",
       "  <thead>\n",
       "    <tr style=\"text-align: right;\">\n",
       "      <th></th>\n",
       "      <th>Stock</th>\n",
       "      <th>Coefficient</th>\n",
       "    </tr>\n",
       "  </thead>\n",
       "  <tbody>\n",
       "    <tr>\n",
       "      <th>3</th>\n",
       "      <td>ADANIENT.NS</td>\n",
       "      <td>113.13193</td>\n",
       "    </tr>\n",
       "    <tr>\n",
       "      <th>84</th>\n",
       "      <td>INDIAMART.NS</td>\n",
       "      <td>66.54931</td>\n",
       "    </tr>\n",
       "    <tr>\n",
       "      <th>49</th>\n",
       "      <td>DEEPAKNTR.NS</td>\n",
       "      <td>64.641476</td>\n",
       "    </tr>\n",
       "    <tr>\n",
       "      <th>87</th>\n",
       "      <td>IRCTC.NS</td>\n",
       "      <td>54.489549</td>\n",
       "    </tr>\n",
       "    <tr>\n",
       "      <th>41</th>\n",
       "      <td>COFORGE.NS</td>\n",
       "      <td>43.986951</td>\n",
       "    </tr>\n",
       "  </tbody>\n",
       "</table>\n",
       "</div>"
      ],
      "text/plain": [
       "           Stock Coefficient\n",
       "3    ADANIENT.NS   113.13193\n",
       "84  INDIAMART.NS    66.54931\n",
       "49  DEEPAKNTR.NS   64.641476\n",
       "87      IRCTC.NS   54.489549\n",
       "41    COFORGE.NS   43.986951"
      ]
     },
     "execution_count": 33,
     "metadata": {},
     "output_type": "execute_result"
    },
    {
     "data": {
      "image/png": "[encoded data removed]",
      "text/plain": [
       "<Figure size 432x288 with 1 Axes>"
      ]
     },
     "metadata": {},
     "output_type": "display_data"
    }
   ],
   "source": [
    "# function5 using example with coefficient_data_test\n",
    "get_top_stock(coefficient_data_test, n = 5, show_dots = True)"
   ]
  },
  {
   "cell_type": "code",
   "execution_count": 35,
   "metadata": {
    "id": "K8Nu5498wAa6"
   },
   "outputs": [],
   "source": [
    "# Function6 to get stocks with same trends\n",
    "def get_similar_stock(coefficient_data, symbol, n = 3, show_dots = False):\n",
    "    # sort stocks by coefficients with descending order\n",
    "    top_stocks = coefficient_data.sort_values(by = ['Coefficient'], ascending = False)\n",
    "    # get the specific row of the stcok symbol\n",
    "    row = top_stocks.loc[top_stocks['Stock'] == symbol].iloc[-1]\n",
    "    # get the offset in the column of that row in the sorted table\n",
    "    offset = top_stocks.index.get_loc(row.name)\n",
    "    \n",
    "    # take similar stocks in the table from offset-3 to offset+3\n",
    "    similar_stocks = top_stocks[offset-n : offset+n]\n",
    "    similar_stocks_list = similar_stocks['Stock'].tolist()\n",
    "    # plot stocks\n",
    "    for symbol in similar_stocks_list:\n",
    "        build_linear_regression(symbol, show_statistics = False, show_dots = show_dots, show_plot = True)\n",
    "        \n",
    "    # remove the row for the input symbol\n",
    "    similar_stocks_delete = similar_stocks.drop(row.name)\n",
    "    number = n*2 - 1\n",
    "    print(\"The \" + str(number) + \" simialr stocks are: \")\n",
    "    print(similar_stocks_delete['Stock'].tolist())\n",
    "    return similar_stocks"
   ]
  },
  {
   "cell_type": "code",
   "execution_count": 40,
   "metadata": {
    "colab": {
     "base_uri": "https://localhost:8080/",
     "height": 832
    },
    "executionInfo": {
     "elapsed": 3309,
     "status": "ok",
     "timestamp": 1642524015392,
     "user": {
      "displayName": "Arun Gupta",
      "photoUrl": "https://lh3.googleusercontent.com/a-/AOh14GjZ0r2_qavLn9AbtvMSxJwWYVFWB-x9SDaJ5tYKvw=s64",
      "userId": "11788109729769979815"
     },
     "user_tz": -330
    },
    "id": "qnnLVZBEwAa7",
    "outputId": "0f93f21a-c256-4b5f-b7df-c9c2ae64c06f"
   },
   "outputs": [
    {
     "name": "stdout",
     "output_type": "stream",
     "text": [
      "[*********************100%***********************]  1 of 1 completed\n",
      "[*********************100%***********************]  1 of 1 completed\n",
      "[*********************100%***********************]  1 of 1 completed\n",
      "[*********************100%***********************]  1 of 1 completed\n",
      "[*********************100%***********************]  1 of 1 completed\n",
      "[*********************100%***********************]  1 of 1 completed\n",
      "The 5 simialr stocks are: \n",
      "['HDFC.NS', 'BRITANNIA.NS', 'GRASIM.NS', 'BIOCON.NS', 'UPL.NS']\n"
     ]
    },
    {
     "data": {
      "text/html": [
       "<div>\n",
       "<style scoped>\n",
       "    .dataframe tbody tr th:only-of-type {\n",
       "        vertical-align: middle;\n",
       "    }\n",
       "\n",
       "    .dataframe tbody tr th {\n",
       "        vertical-align: top;\n",
       "    }\n",
       "\n",
       "    .dataframe thead th {\n",
       "        text-align: right;\n",
       "    }\n",
       "</style>\n",
       "<table border=\"1\" class=\"dataframe\">\n",
       "  <thead>\n",
       "    <tr style=\"text-align: right;\">\n",
       "      <th></th>\n",
       "      <th>Stock</th>\n",
       "      <th>Coefficient</th>\n",
       "    </tr>\n",
       "  </thead>\n",
       "  <tbody>\n",
       "    <tr>\n",
       "      <th>73</th>\n",
       "      <td>HDFC.NS</td>\n",
       "      <td>3.582119</td>\n",
       "    </tr>\n",
       "    <tr>\n",
       "      <th>33</th>\n",
       "      <td>BRITANNIA.NS</td>\n",
       "      <td>3.399329</td>\n",
       "    </tr>\n",
       "    <tr>\n",
       "      <th>66</th>\n",
       "      <td>GRASIM.NS</td>\n",
       "      <td>3.240559</td>\n",
       "    </tr>\n",
       "    <tr>\n",
       "      <th>148</th>\n",
       "      <td>SBIN.NS</td>\n",
       "      <td>3.237737</td>\n",
       "    </tr>\n",
       "    <tr>\n",
       "      <th>31</th>\n",
       "      <td>BIOCON.NS</td>\n",
       "      <td>3.192006</td>\n",
       "    </tr>\n",
       "    <tr>\n",
       "      <th>172</th>\n",
       "      <td>UPL.NS</td>\n",
       "      <td>3.145499</td>\n",
       "    </tr>\n",
       "  </tbody>\n",
       "</table>\n",
       "</div>"
      ],
      "text/plain": [
       "            Stock Coefficient\n",
       "73        HDFC.NS    3.582119\n",
       "33   BRITANNIA.NS    3.399329\n",
       "66      GRASIM.NS    3.240559\n",
       "148       SBIN.NS    3.237737\n",
       "31      BIOCON.NS    3.192006\n",
       "172        UPL.NS    3.145499"
      ]
     },
     "execution_count": 40,
     "metadata": {},
     "output_type": "execute_result"
    },
    {
     "data": {
      "image/png": "[encoded data removed]",
      "text/plain": [
       "<Figure size 432x288 with 1 Axes>"
      ]
     },
     "metadata": {},
     "output_type": "display_data"
    }
   ],
   "source": [
    "# function6 using example with coefficient_data_test\n",
    "get_similar_stock(coefficient_data_test, 'SBIN.NS', n = 3, show_dots = True)"
   ]
  },
  {
   "cell_type": "markdown",
   "metadata": {
    "id": "xeF9t370wAa7"
   },
   "source": [
    "# Part 2:  Get project result from stock_list.txt\n",
    "The stock_list.txt is generated from the first part of the project, and it should be in the same directory as this ipynb file.\n",
    "\n",
    "- The input is stock_list.txt\n",
    "- The output is Stock_Coefficients.csv"
   ]
  },
  {
   "cell_type": "markdown",
   "metadata": {
    "id": "BCJ6MJ7FwAa7"
   },
   "source": [
    "# Setting: date range for fetching stock historial data\n",
    "Input: stock_list.txt"
   ]
  },
  {
   "cell_type": "code",
   "execution_count": 36,
   "metadata": {
    "id": "KpYZSYZ-wAa7"
   },
   "outputs": [],
   "source": []
  },
  {
   "cell_type": "markdown",
   "metadata": {
    "id": "Mnd0vcHfwAa7"
   },
   "source": [
    "# Result 1: Coefficient dataset and export file\n",
    "Output: Stock_Coefficients.csv"
   ]
  },
  {
   "cell_type": "code",
   "execution_count": 37,
   "metadata": {
    "id": "6IubVY8zwAa8"
   },
   "outputs": [],
   "source": [
    "# load full stock_list getting from part1 of this project(association rule)\n",
    "# error will be printed with invaild symbol name or date keys\n",
    "# generate output as file Stock_Coefficients.csv\n",
    "\n",
    "\n",
    "# coefficient_data = get_coefficient_dataset('stock_list.txt', show_plot = False)\n",
    "# coefficient_data.head()"
   ]
  },
  {
   "cell_type": "code",
   "execution_count": 38,
   "metadata": {
    "colab": {
     "base_uri": "https://localhost:8080/",
     "height": 206
    },
    "executionInfo": {
     "elapsed": 8,
     "status": "ok",
     "timestamp": 1642524178233,
     "user": {
      "displayName": "Arun Gupta",
      "photoUrl": "https://lh3.googleusercontent.com/a-/AOh14GjZ0r2_qavLn9AbtvMSxJwWYVFWB-x9SDaJ5tYKvw=s64",
      "userId": "11788109729769979815"
     },
     "user_tz": -330
    },
    "id": "-sNw9AjWEKRH",
    "outputId": "388dac28-0461-42f6-97c1-f11c2a4fbf99"
   },
   "outputs": [
    {
     "data": {
      "text/html": [
       "<div>\n",
       "<style scoped>\n",
       "    .dataframe tbody tr th:only-of-type {\n",
       "        vertical-align: middle;\n",
       "    }\n",
       "\n",
       "    .dataframe tbody tr th {\n",
       "        vertical-align: top;\n",
       "    }\n",
       "\n",
       "    .dataframe thead th {\n",
       "        text-align: right;\n",
       "    }\n",
       "</style>\n",
       "<table border=\"1\" class=\"dataframe\">\n",
       "  <thead>\n",
       "    <tr style=\"text-align: right;\">\n",
       "      <th></th>\n",
       "      <th>Unnamed: 0</th>\n",
       "      <th>Stock</th>\n",
       "      <th>Coefficient</th>\n",
       "    </tr>\n",
       "  </thead>\n",
       "  <tbody>\n",
       "    <tr>\n",
       "      <th>0</th>\n",
       "      <td>0</td>\n",
       "      <td>AARTIIND.NS</td>\n",
       "      <td>8.112586</td>\n",
       "    </tr>\n",
       "    <tr>\n",
       "      <th>1</th>\n",
       "      <td>1</td>\n",
       "      <td>ABBOTINDIA.NS</td>\n",
       "      <td>74.072826</td>\n",
       "    </tr>\n",
       "    <tr>\n",
       "      <th>2</th>\n",
       "      <td>2</td>\n",
       "      <td>ACC.NS</td>\n",
       "      <td>14.380127</td>\n",
       "    </tr>\n",
       "    <tr>\n",
       "      <th>3</th>\n",
       "      <td>3</td>\n",
       "      <td>ADANIENT.NS</td>\n",
       "      <td>7.582075</td>\n",
       "    </tr>\n",
       "    <tr>\n",
       "      <th>4</th>\n",
       "      <td>4</td>\n",
       "      <td>ADANIPORTS.NS</td>\n",
       "      <td>4.852288</td>\n",
       "    </tr>\n",
       "  </tbody>\n",
       "</table>\n",
       "</div>"
      ],
      "text/plain": [
       "   Unnamed: 0          Stock  Coefficient\n",
       "0           0    AARTIIND.NS     8.112586\n",
       "1           1  ABBOTINDIA.NS    74.072826\n",
       "2           2         ACC.NS    14.380127\n",
       "3           3    ADANIENT.NS     7.582075\n",
       "4           4  ADANIPORTS.NS     4.852288"
      ]
     },
     "execution_count": 38,
     "metadata": {},
     "output_type": "execute_result"
    }
   ],
   "source": [
    "coefficient_data = pd.read_csv(stock_coefficient_file_name)\n",
    "coefficient_data.head()"
   ]
  },
  {
   "cell_type": "markdown",
   "metadata": {
    "id": "HKBXunEBwAa8"
   },
   "source": [
    "# Result 2: Top five stocks"
   ]
  },
  {
   "cell_type": "code",
   "execution_count": 39,
   "metadata": {
    "colab": {
     "base_uri": "https://localhost:8080/",
     "height": 589
    },
    "executionInfo": {
     "elapsed": 8698,
     "status": "ok",
     "timestamp": 1642524224467,
     "user": {
      "displayName": "Arun Gupta",
      "photoUrl": "https://lh3.googleusercontent.com/a-/AOh14GjZ0r2_qavLn9AbtvMSxJwWYVFWB-x9SDaJ5tYKvw=s64",
      "userId": "11788109729769979815"
     },
     "user_tz": -330
    },
    "id": "H2MFP93mwAa8",
    "outputId": "ba0d8558-4829-4b28-cb44-a29ac53aa17e"
   },
   "outputs": [
    {
     "name": "stdout",
     "output_type": "stream",
     "text": [
      "[*********************100%***********************]  1 of 1 completed\n",
      "[*********************100%***********************]  1 of 1 completed\n",
      "[*********************100%***********************]  1 of 1 completed\n",
      "[*********************100%***********************]  1 of 1 completed\n",
      "[*********************100%***********************]  1 of 1 completed\n",
      "The 5 stocks with best trends are: \n",
      "['SHREECEM.NS', 'PAGEIND.NS', 'DEEPAKNTR.NS', 'TORNTPHARM.NS', 'ASIANPAINT.NS']\n"
     ]
    },
    {
     "data": {
      "text/html": [
       "<div>\n",
       "<style scoped>\n",
       "    .dataframe tbody tr th:only-of-type {\n",
       "        vertical-align: middle;\n",
       "    }\n",
       "\n",
       "    .dataframe tbody tr th {\n",
       "        vertical-align: top;\n",
       "    }\n",
       "\n",
       "    .dataframe thead th {\n",
       "        text-align: right;\n",
       "    }\n",
       "</style>\n",
       "<table border=\"1\" class=\"dataframe\">\n",
       "  <thead>\n",
       "    <tr style=\"text-align: right;\">\n",
       "      <th></th>\n",
       "      <th>Unnamed: 0</th>\n",
       "      <th>Stock</th>\n",
       "      <th>Coefficient</th>\n",
       "    </tr>\n",
       "  </thead>\n",
       "  <tbody>\n",
       "    <tr>\n",
       "      <th>144</th>\n",
       "      <td>144</td>\n",
       "      <td>SHREECEM.NS</td>\n",
       "      <td>1083.427186</td>\n",
       "    </tr>\n",
       "    <tr>\n",
       "      <th>128</th>\n",
       "      <td>128</td>\n",
       "      <td>PAGEIND.NS</td>\n",
       "      <td>229.693318</td>\n",
       "    </tr>\n",
       "    <tr>\n",
       "      <th>49</th>\n",
       "      <td>49</td>\n",
       "      <td>DEEPAKNTR.NS</td>\n",
       "      <td>187.835576</td>\n",
       "    </tr>\n",
       "    <tr>\n",
       "      <th>164</th>\n",
       "      <td>164</td>\n",
       "      <td>TORNTPHARM.NS</td>\n",
       "      <td>151.737599</td>\n",
       "    </tr>\n",
       "    <tr>\n",
       "      <th>13</th>\n",
       "      <td>13</td>\n",
       "      <td>ASIANPAINT.NS</td>\n",
       "      <td>148.310761</td>\n",
       "    </tr>\n",
       "  </tbody>\n",
       "</table>\n",
       "</div>"
      ],
      "text/plain": [
       "     Unnamed: 0          Stock  Coefficient\n",
       "144         144    SHREECEM.NS  1083.427186\n",
       "128         128     PAGEIND.NS   229.693318\n",
       "49           49   DEEPAKNTR.NS   187.835576\n",
       "164         164  TORNTPHARM.NS   151.737599\n",
       "13           13  ASIANPAINT.NS   148.310761"
      ]
     },
     "execution_count": 39,
     "metadata": {},
     "output_type": "execute_result"
    },
    {
     "data": {
      "image/png": "[encoded data removed]",
      "text/plain": [
       "<Figure size 432x288 with 1 Axes>"
      ]
     },
     "metadata": {},
     "output_type": "display_data"
    }
   ],
   "source": [
    "# Get top five stocks from the stock list\n",
    "get_top_stock(coefficient_data, n = 5)"
   ]
  },
  {
   "cell_type": "markdown",
   "metadata": {
    "id": "wSmbtNPJwAa8"
   },
   "source": [
    "# Result 3: Similar five stocks for input symbol 'AMZN'"
   ]
  },
  {
   "cell_type": "code",
   "execution_count": 40,
   "metadata": {
    "colab": {
     "base_uri": "https://localhost:8080/",
     "height": 637
    },
    "executionInfo": {
     "elapsed": 1836,
     "status": "ok",
     "timestamp": 1642522932852,
     "user": {
      "displayName": "Arun Gupta",
      "photoUrl": "https://lh3.googleusercontent.com/a-/AOh14GjZ0r2_qavLn9AbtvMSxJwWYVFWB-x9SDaJ5tYKvw=s64",
      "userId": "11788109729769979815"
     },
     "user_tz": -330
    },
    "id": "xEe9qhnzwAa8",
    "outputId": "a0196a74-9420-45c0-8d11-085e013780e7"
   },
   "outputs": [
    {
     "ename": "FileNotFoundError",
     "evalue": "[Errno 2] No such file or directory: 'filename.csv'",
     "output_type": "error",
     "traceback": [
      "\u001B[0;31m---------------------------------------------------------------------------\u001B[0m",
      "\u001B[0;31mFileNotFoundError\u001B[0m                         Traceback (most recent call last)",
      "\u001B[0;32m<ipython-input-40-68bafcb882dd>\u001B[0m in \u001B[0;36m<module>\u001B[0;34m\u001B[0m\n\u001B[1;32m      2\u001B[0m \u001B[0;31m# Change it to any input stock symbol\u001B[0m\u001B[0;34m\u001B[0m\u001B[0;34m\u001B[0m\u001B[0;34m\u001B[0m\u001B[0m\n\u001B[1;32m      3\u001B[0m \u001B[0msymbol_test\u001B[0m \u001B[0;34m=\u001B[0m \u001B[0;34m'GLENMARK.NS'\u001B[0m\u001B[0;34m\u001B[0m\u001B[0;34m\u001B[0m\u001B[0m\n\u001B[0;32m----> 4\u001B[0;31m \u001B[0mpd\u001B[0m\u001B[0;34m.\u001B[0m\u001B[0mread_csv\u001B[0m\u001B[0;34m(\u001B[0m\u001B[0;34m\"filename.csv\"\u001B[0m\u001B[0;34m)\u001B[0m\u001B[0;34m\u001B[0m\u001B[0;34m\u001B[0m\u001B[0m\n\u001B[0m\u001B[1;32m      5\u001B[0m \u001B[0mget_similar_stock\u001B[0m\u001B[0;34m(\u001B[0m\u001B[0mcoefficient_data\u001B[0m\u001B[0;34m,\u001B[0m \u001B[0msymbol_test\u001B[0m\u001B[0;34m,\u001B[0m \u001B[0mn\u001B[0m \u001B[0;34m=\u001B[0m \u001B[0;36m3\u001B[0m\u001B[0;34m)\u001B[0m\u001B[0;34m\u001B[0m\u001B[0;34m\u001B[0m\u001B[0m\n",
      "\u001B[0;32m~/opt/anaconda3/lib/python3.8/site-packages/pandas/io/parsers.py\u001B[0m in \u001B[0;36mread_csv\u001B[0;34m(filepath_or_buffer, sep, delimiter, header, names, index_col, usecols, squeeze, prefix, mangle_dupe_cols, dtype, engine, converters, true_values, false_values, skipinitialspace, skiprows, skipfooter, nrows, na_values, keep_default_na, na_filter, verbose, skip_blank_lines, parse_dates, infer_datetime_format, keep_date_col, date_parser, dayfirst, cache_dates, iterator, chunksize, compression, thousands, decimal, lineterminator, quotechar, quoting, doublequote, escapechar, comment, encoding, dialect, error_bad_lines, warn_bad_lines, delim_whitespace, low_memory, memory_map, float_precision, storage_options)\u001B[0m\n\u001B[1;32m    608\u001B[0m     \u001B[0mkwds\u001B[0m\u001B[0;34m.\u001B[0m\u001B[0mupdate\u001B[0m\u001B[0;34m(\u001B[0m\u001B[0mkwds_defaults\u001B[0m\u001B[0;34m)\u001B[0m\u001B[0;34m\u001B[0m\u001B[0;34m\u001B[0m\u001B[0m\n\u001B[1;32m    609\u001B[0m \u001B[0;34m\u001B[0m\u001B[0m\n\u001B[0;32m--> 610\u001B[0;31m     \u001B[0;32mreturn\u001B[0m \u001B[0m_read\u001B[0m\u001B[0;34m(\u001B[0m\u001B[0mfilepath_or_buffer\u001B[0m\u001B[0;34m,\u001B[0m \u001B[0mkwds\u001B[0m\u001B[0;34m)\u001B[0m\u001B[0;34m\u001B[0m\u001B[0;34m\u001B[0m\u001B[0m\n\u001B[0m\u001B[1;32m    611\u001B[0m \u001B[0;34m\u001B[0m\u001B[0m\n\u001B[1;32m    612\u001B[0m \u001B[0;34m\u001B[0m\u001B[0m\n",
      "\u001B[0;32m~/opt/anaconda3/lib/python3.8/site-packages/pandas/io/parsers.py\u001B[0m in \u001B[0;36m_read\u001B[0;34m(filepath_or_buffer, kwds)\u001B[0m\n\u001B[1;32m    460\u001B[0m \u001B[0;34m\u001B[0m\u001B[0m\n\u001B[1;32m    461\u001B[0m     \u001B[0;31m# Create the parser.\u001B[0m\u001B[0;34m\u001B[0m\u001B[0;34m\u001B[0m\u001B[0;34m\u001B[0m\u001B[0m\n\u001B[0;32m--> 462\u001B[0;31m     \u001B[0mparser\u001B[0m \u001B[0;34m=\u001B[0m \u001B[0mTextFileReader\u001B[0m\u001B[0;34m(\u001B[0m\u001B[0mfilepath_or_buffer\u001B[0m\u001B[0;34m,\u001B[0m \u001B[0;34m**\u001B[0m\u001B[0mkwds\u001B[0m\u001B[0;34m)\u001B[0m\u001B[0;34m\u001B[0m\u001B[0;34m\u001B[0m\u001B[0m\n\u001B[0m\u001B[1;32m    463\u001B[0m \u001B[0;34m\u001B[0m\u001B[0m\n\u001B[1;32m    464\u001B[0m     \u001B[0;32mif\u001B[0m \u001B[0mchunksize\u001B[0m \u001B[0;32mor\u001B[0m \u001B[0miterator\u001B[0m\u001B[0;34m:\u001B[0m\u001B[0;34m\u001B[0m\u001B[0;34m\u001B[0m\u001B[0m\n",
      "\u001B[0;32m~/opt/anaconda3/lib/python3.8/site-packages/pandas/io/parsers.py\u001B[0m in \u001B[0;36m__init__\u001B[0;34m(self, f, engine, **kwds)\u001B[0m\n\u001B[1;32m    817\u001B[0m             \u001B[0mself\u001B[0m\u001B[0;34m.\u001B[0m\u001B[0moptions\u001B[0m\u001B[0;34m[\u001B[0m\u001B[0;34m\"has_index_names\"\u001B[0m\u001B[0;34m]\u001B[0m \u001B[0;34m=\u001B[0m \u001B[0mkwds\u001B[0m\u001B[0;34m[\u001B[0m\u001B[0;34m\"has_index_names\"\u001B[0m\u001B[0;34m]\u001B[0m\u001B[0;34m\u001B[0m\u001B[0;34m\u001B[0m\u001B[0m\n\u001B[1;32m    818\u001B[0m \u001B[0;34m\u001B[0m\u001B[0m\n\u001B[0;32m--> 819\u001B[0;31m         \u001B[0mself\u001B[0m\u001B[0;34m.\u001B[0m\u001B[0m_engine\u001B[0m \u001B[0;34m=\u001B[0m \u001B[0mself\u001B[0m\u001B[0;34m.\u001B[0m\u001B[0m_make_engine\u001B[0m\u001B[0;34m(\u001B[0m\u001B[0mself\u001B[0m\u001B[0;34m.\u001B[0m\u001B[0mengine\u001B[0m\u001B[0;34m)\u001B[0m\u001B[0;34m\u001B[0m\u001B[0;34m\u001B[0m\u001B[0m\n\u001B[0m\u001B[1;32m    820\u001B[0m \u001B[0;34m\u001B[0m\u001B[0m\n\u001B[1;32m    821\u001B[0m     \u001B[0;32mdef\u001B[0m \u001B[0mclose\u001B[0m\u001B[0;34m(\u001B[0m\u001B[0mself\u001B[0m\u001B[0;34m)\u001B[0m\u001B[0;34m:\u001B[0m\u001B[0;34m\u001B[0m\u001B[0;34m\u001B[0m\u001B[0m\n",
      "\u001B[0;32m~/opt/anaconda3/lib/python3.8/site-packages/pandas/io/parsers.py\u001B[0m in \u001B[0;36m_make_engine\u001B[0;34m(self, engine)\u001B[0m\n\u001B[1;32m   1048\u001B[0m             )\n\u001B[1;32m   1049\u001B[0m         \u001B[0;31m# error: Too many arguments for \"ParserBase\"\u001B[0m\u001B[0;34m\u001B[0m\u001B[0;34m\u001B[0m\u001B[0;34m\u001B[0m\u001B[0m\n\u001B[0;32m-> 1050\u001B[0;31m         \u001B[0;32mreturn\u001B[0m \u001B[0mmapping\u001B[0m\u001B[0;34m[\u001B[0m\u001B[0mengine\u001B[0m\u001B[0;34m]\u001B[0m\u001B[0;34m(\u001B[0m\u001B[0mself\u001B[0m\u001B[0;34m.\u001B[0m\u001B[0mf\u001B[0m\u001B[0;34m,\u001B[0m \u001B[0;34m**\u001B[0m\u001B[0mself\u001B[0m\u001B[0;34m.\u001B[0m\u001B[0moptions\u001B[0m\u001B[0;34m)\u001B[0m  \u001B[0;31m# type: ignore[call-arg]\u001B[0m\u001B[0;34m\u001B[0m\u001B[0;34m\u001B[0m\u001B[0m\n\u001B[0m\u001B[1;32m   1051\u001B[0m \u001B[0;34m\u001B[0m\u001B[0m\n\u001B[1;32m   1052\u001B[0m     \u001B[0;32mdef\u001B[0m \u001B[0m_failover_to_python\u001B[0m\u001B[0;34m(\u001B[0m\u001B[0mself\u001B[0m\u001B[0;34m)\u001B[0m\u001B[0;34m:\u001B[0m\u001B[0;34m\u001B[0m\u001B[0;34m\u001B[0m\u001B[0m\n",
      "\u001B[0;32m~/opt/anaconda3/lib/python3.8/site-packages/pandas/io/parsers.py\u001B[0m in \u001B[0;36m__init__\u001B[0;34m(self, src, **kwds)\u001B[0m\n\u001B[1;32m   1865\u001B[0m \u001B[0;34m\u001B[0m\u001B[0m\n\u001B[1;32m   1866\u001B[0m         \u001B[0;31m# open handles\u001B[0m\u001B[0;34m\u001B[0m\u001B[0;34m\u001B[0m\u001B[0;34m\u001B[0m\u001B[0m\n\u001B[0;32m-> 1867\u001B[0;31m         \u001B[0mself\u001B[0m\u001B[0;34m.\u001B[0m\u001B[0m_open_handles\u001B[0m\u001B[0;34m(\u001B[0m\u001B[0msrc\u001B[0m\u001B[0;34m,\u001B[0m \u001B[0mkwds\u001B[0m\u001B[0;34m)\u001B[0m\u001B[0;34m\u001B[0m\u001B[0;34m\u001B[0m\u001B[0m\n\u001B[0m\u001B[1;32m   1868\u001B[0m         \u001B[0;32massert\u001B[0m \u001B[0mself\u001B[0m\u001B[0;34m.\u001B[0m\u001B[0mhandles\u001B[0m \u001B[0;32mis\u001B[0m \u001B[0;32mnot\u001B[0m \u001B[0;32mNone\u001B[0m\u001B[0;34m\u001B[0m\u001B[0;34m\u001B[0m\u001B[0m\n\u001B[1;32m   1869\u001B[0m         \u001B[0;32mfor\u001B[0m \u001B[0mkey\u001B[0m \u001B[0;32min\u001B[0m \u001B[0;34m(\u001B[0m\u001B[0;34m\"storage_options\"\u001B[0m\u001B[0;34m,\u001B[0m \u001B[0;34m\"encoding\"\u001B[0m\u001B[0;34m,\u001B[0m \u001B[0;34m\"memory_map\"\u001B[0m\u001B[0;34m,\u001B[0m \u001B[0;34m\"compression\"\u001B[0m\u001B[0;34m)\u001B[0m\u001B[0;34m:\u001B[0m\u001B[0;34m\u001B[0m\u001B[0;34m\u001B[0m\u001B[0m\n",
      "\u001B[0;32m~/opt/anaconda3/lib/python3.8/site-packages/pandas/io/parsers.py\u001B[0m in \u001B[0;36m_open_handles\u001B[0;34m(self, src, kwds)\u001B[0m\n\u001B[1;32m   1360\u001B[0m         \u001B[0mLet\u001B[0m \u001B[0mthe\u001B[0m \u001B[0mreaders\u001B[0m \u001B[0mopen\u001B[0m \u001B[0mIOHanldes\u001B[0m \u001B[0mafter\u001B[0m \u001B[0mthey\u001B[0m \u001B[0mare\u001B[0m \u001B[0mdone\u001B[0m \u001B[0;32mwith\u001B[0m \u001B[0mtheir\u001B[0m \u001B[0mpotential\u001B[0m \u001B[0mraises\u001B[0m\u001B[0;34m.\u001B[0m\u001B[0;34m\u001B[0m\u001B[0;34m\u001B[0m\u001B[0m\n\u001B[1;32m   1361\u001B[0m         \"\"\"\n\u001B[0;32m-> 1362\u001B[0;31m         self.handles = get_handle(\n\u001B[0m\u001B[1;32m   1363\u001B[0m             \u001B[0msrc\u001B[0m\u001B[0;34m,\u001B[0m\u001B[0;34m\u001B[0m\u001B[0;34m\u001B[0m\u001B[0m\n\u001B[1;32m   1364\u001B[0m             \u001B[0;34m\"r\"\u001B[0m\u001B[0;34m,\u001B[0m\u001B[0;34m\u001B[0m\u001B[0;34m\u001B[0m\u001B[0m\n",
      "\u001B[0;32m~/opt/anaconda3/lib/python3.8/site-packages/pandas/io/common.py\u001B[0m in \u001B[0;36mget_handle\u001B[0;34m(path_or_buf, mode, encoding, compression, memory_map, is_text, errors, storage_options)\u001B[0m\n\u001B[1;32m    640\u001B[0m                 \u001B[0merrors\u001B[0m \u001B[0;34m=\u001B[0m \u001B[0;34m\"replace\"\u001B[0m\u001B[0;34m\u001B[0m\u001B[0;34m\u001B[0m\u001B[0m\n\u001B[1;32m    641\u001B[0m             \u001B[0;31m# Encoding\u001B[0m\u001B[0;34m\u001B[0m\u001B[0;34m\u001B[0m\u001B[0;34m\u001B[0m\u001B[0m\n\u001B[0;32m--> 642\u001B[0;31m             handle = open(\n\u001B[0m\u001B[1;32m    643\u001B[0m                 \u001B[0mhandle\u001B[0m\u001B[0;34m,\u001B[0m\u001B[0;34m\u001B[0m\u001B[0;34m\u001B[0m\u001B[0m\n\u001B[1;32m    644\u001B[0m                 \u001B[0mioargs\u001B[0m\u001B[0;34m.\u001B[0m\u001B[0mmode\u001B[0m\u001B[0;34m,\u001B[0m\u001B[0;34m\u001B[0m\u001B[0;34m\u001B[0m\u001B[0m\n",
      "\u001B[0;31mFileNotFoundError\u001B[0m: [Errno 2] No such file or directory: 'filename.csv'"
     ]
    }
   ],
   "source": [
    "# Get similar five stocks from the stock list, using 'AMZN' as example\n",
    "# Change it to any input stock symbol\n",
    "symbol_test = 'GLENMARK.NS'\n",
    "pd.read_csv(\"filename.csv\")\n",
    "get_similar_stock(coefficient_data, symbol_test, n = 3)"
   ]
  },
  {
   "cell_type": "code",
   "execution_count": null,
   "metadata": {
    "colab": {
     "base_uri": "https://localhost:8080/",
     "height": 382
    },
    "executionInfo": {
     "elapsed": 518,
     "status": "ok",
     "timestamp": 1642352390142,
     "user": {
      "displayName": "Arun Gupta",
      "photoUrl": "https://lh3.googleusercontent.com/a-/AOh14GjZ0r2_qavLn9AbtvMSxJwWYVFWB-x9SDaJ5tYKvw=s64",
      "userId": "11788109729769979815"
     },
     "user_tz": -330
    },
    "id": "iXAY-tFHwAa9",
    "outputId": "fa932dea-0b1c-4eb2-b6f0-f21e4aaee161"
   },
   "outputs": [],
   "source": [
    "build_linear_regression('SBIN.NS')"
   ]
  },
  {
   "cell_type": "code",
   "execution_count": null,
   "metadata": {
    "id": "G5wmmwxj1H_U"
   },
   "outputs": [],
   "source": []
  },
  {
   "cell_type": "code",
   "execution_count": 80,
   "metadata": {
    "pycharm": {
     "name": "#%%\n"
    }
   },
   "outputs": [
    {
     "name": "stdout",
     "output_type": "stream",
     "text": [
      "[*********************100%***********************]  1 of 1 completed\n"
     ]
    }
   ],
   "source": [
    "df = yf.download(\"SBIN.NS\" , start , end )"
   ]
  },
  {
   "cell_type": "code",
   "execution_count": 73,
   "metadata": {
    "pycharm": {
     "name": "#%%\n"
    }
   },
   "outputs": [],
   "source": [
    "df = df.reset_index()"
   ]
  },
  {
   "cell_type": "code",
   "execution_count": 74,
   "metadata": {
    "pycharm": {
     "name": "#%%\n"
    }
   },
   "outputs": [],
   "source": [
    "df['year'] = df['Date'].dt.year\n",
    "df['month'] = df['Date'].dt.month"
   ]
  },
  {
   "cell_type": "code",
   "execution_count": 79,
   "metadata": {
    "pycharm": {
     "name": "#%%\n"
    }
   },
   "outputs": [
    {
     "data": {
      "text/plain": [
       "<AxesSubplot:>"
      ]
     },
     "execution_count": 79,
     "metadata": {},
     "output_type": "execute_result"
    },
    {
     "data": {
      "image/png": "[encoded data removed]",
      "text/plain": [
       "<Figure size 432x288 with 1 Axes>"
      ]
     },
     "metadata": {
      "needs_background": "light"
     },
     "output_type": "display_data"
    }
   ],
   "source": [
    "df.plot()"
   ]
  },
  {
   "cell_type": "code",
   "execution_count": 76,
   "metadata": {
    "pycharm": {
     "name": "#%%\n"
    }
   },
   "outputs": [
    {
     "data": {
      "text/plain": [
       "<AxesSubplot:xlabel='year,month'>"
      ]
     },
     "execution_count": 76,
     "metadata": {},
     "output_type": "execute_result"
    },
    {
     "data": {
      "image/png": "[encoded data removed]",
      "text/plain": [
       "<Figure size 432x288 with 1 Axes>"
      ]
     },
     "metadata": {
      "needs_background": "light"
     },
     "output_type": "display_data"
    }
   ],
   "source": [
    "df2 = df.groupby(['year','month']).agg({'Close': ['mean', 'min', 'max']})\n",
    "df2.plot(legend=True)"
   ]
  },
  {
   "cell_type": "code",
   "execution_count": 77,
   "metadata": {},
   "outputs": [
    {
     "data": {
      "text/html": [
       "<div>\n",
       "<style scoped>\n",
       "    .dataframe tbody tr th:only-of-type {\n",
       "        vertical-align: middle;\n",
       "    }\n",
       "\n",
       "    .dataframe tbody tr th {\n",
       "        vertical-align: top;\n",
       "    }\n",
       "\n",
       "    .dataframe thead tr th {\n",
       "        text-align: left;\n",
       "    }\n",
       "\n",
       "    .dataframe thead tr:last-of-type th {\n",
       "        text-align: right;\n",
       "    }\n",
       "</style>\n",
       "<table border=\"1\" class=\"dataframe\">\n",
       "  <thead>\n",
       "    <tr>\n",
       "      <th></th>\n",
       "      <th></th>\n",
       "      <th colspan=\"3\" halign=\"left\">Close</th>\n",
       "    </tr>\n",
       "    <tr>\n",
       "      <th></th>\n",
       "      <th></th>\n",
       "      <th>mean</th>\n",
       "      <th>min</th>\n",
       "      <th>max</th>\n",
       "    </tr>\n",
       "    <tr>\n",
       "      <th>year</th>\n",
       "      <th>month</th>\n",
       "      <th></th>\n",
       "      <th></th>\n",
       "      <th></th>\n",
       "    </tr>\n",
       "  </thead>\n",
       "  <tbody>\n",
       "    <tr>\n",
       "      <th rowspan=\"12\" valign=\"top\">2018</th>\n",
       "      <th>1</th>\n",
       "      <td>307.663637</td>\n",
       "      <td>296.149994</td>\n",
       "      <td>329.899994</td>\n",
       "    </tr>\n",
       "    <tr>\n",
       "      <th>2</th>\n",
       "      <td>282.592104</td>\n",
       "      <td>267.600006</td>\n",
       "      <td>306.049988</td>\n",
       "    </tr>\n",
       "    <tr>\n",
       "      <th>3</th>\n",
       "      <td>251.665788</td>\n",
       "      <td>234.800003</td>\n",
       "      <td>263.500000</td>\n",
       "    </tr>\n",
       "    <tr>\n",
       "      <th>4</th>\n",
       "      <td>248.671426</td>\n",
       "      <td>233.199997</td>\n",
       "      <td>263.299988</td>\n",
       "    </tr>\n",
       "    <tr>\n",
       "      <th>5</th>\n",
       "      <td>252.909090</td>\n",
       "      <td>238.850006</td>\n",
       "      <td>272.049988</td>\n",
       "    </tr>\n",
       "    <tr>\n",
       "      <th>6</th>\n",
       "      <td>270.904763</td>\n",
       "      <td>257.000000</td>\n",
       "      <td>287.700012</td>\n",
       "    </tr>\n",
       "    <tr>\n",
       "      <th>7</th>\n",
       "      <td>266.120457</td>\n",
       "      <td>251.600006</td>\n",
       "      <td>297.399994</td>\n",
       "    </tr>\n",
       "    <tr>\n",
       "      <th>8</th>\n",
       "      <td>303.523812</td>\n",
       "      <td>292.700012</td>\n",
       "      <td>317.399994</td>\n",
       "    </tr>\n",
       "    <tr>\n",
       "      <th>9</th>\n",
       "      <td>281.219443</td>\n",
       "      <td>263.850006</td>\n",
       "      <td>306.350006</td>\n",
       "    </tr>\n",
       "    <tr>\n",
       "      <th>10</th>\n",
       "      <td>264.573810</td>\n",
       "      <td>248.100006</td>\n",
       "      <td>281.399994</td>\n",
       "    </tr>\n",
       "    <tr>\n",
       "      <th>11</th>\n",
       "      <td>285.554999</td>\n",
       "      <td>277.950012</td>\n",
       "      <td>294.950012</td>\n",
       "    </tr>\n",
       "    <tr>\n",
       "      <th>12</th>\n",
       "      <td>287.919997</td>\n",
       "      <td>274.200012</td>\n",
       "      <td>300.700012</td>\n",
       "    </tr>\n",
       "    <tr>\n",
       "      <th rowspan=\"12\" valign=\"top\">2019</th>\n",
       "      <th>1</th>\n",
       "      <td>294.830432</td>\n",
       "      <td>280.600006</td>\n",
       "      <td>305.549988</td>\n",
       "    </tr>\n",
       "    <tr>\n",
       "      <th>2</th>\n",
       "      <td>273.900000</td>\n",
       "      <td>259.950012</td>\n",
       "      <td>289.049988</td>\n",
       "    </tr>\n",
       "    <tr>\n",
       "      <th>3</th>\n",
       "      <td>293.183333</td>\n",
       "      <td>272.950012</td>\n",
       "      <td>319.000000</td>\n",
       "    </tr>\n",
       "    <tr>\n",
       "      <th>4</th>\n",
       "      <td>314.555261</td>\n",
       "      <td>305.250000</td>\n",
       "      <td>329.000000</td>\n",
       "    </tr>\n",
       "    <tr>\n",
       "      <th>5</th>\n",
       "      <td>327.452272</td>\n",
       "      <td>298.250000</td>\n",
       "      <td>361.700012</td>\n",
       "    </tr>\n",
       "    <tr>\n",
       "      <th>6</th>\n",
       "      <td>348.163155</td>\n",
       "      <td>336.899994</td>\n",
       "      <td>362.149994</td>\n",
       "    </tr>\n",
       "    <tr>\n",
       "      <th>7</th>\n",
       "      <td>354.895651</td>\n",
       "      <td>327.549988</td>\n",
       "      <td>372.399994</td>\n",
       "    </tr>\n",
       "    <tr>\n",
       "      <th>8</th>\n",
       "      <td>287.680002</td>\n",
       "      <td>268.549988</td>\n",
       "      <td>317.149994</td>\n",
       "    </tr>\n",
       "    <tr>\n",
       "      <th>9</th>\n",
       "      <td>283.052633</td>\n",
       "      <td>268.399994</td>\n",
       "      <td>313.750000</td>\n",
       "    </tr>\n",
       "    <tr>\n",
       "      <th>10</th>\n",
       "      <td>266.929999</td>\n",
       "      <td>249.100006</td>\n",
       "      <td>312.399994</td>\n",
       "    </tr>\n",
       "    <tr>\n",
       "      <th>11</th>\n",
       "      <td>325.147496</td>\n",
       "      <td>306.000000</td>\n",
       "      <td>349.299988</td>\n",
       "    </tr>\n",
       "    <tr>\n",
       "      <th>12</th>\n",
       "      <td>329.852382</td>\n",
       "      <td>312.799988</td>\n",
       "      <td>341.850006</td>\n",
       "    </tr>\n",
       "    <tr>\n",
       "      <th rowspan=\"12\" valign=\"top\">2020</th>\n",
       "      <th>1</th>\n",
       "      <td>322.582611</td>\n",
       "      <td>310.700012</td>\n",
       "      <td>339.299988</td>\n",
       "    </tr>\n",
       "    <tr>\n",
       "      <th>2</th>\n",
       "      <td>318.442108</td>\n",
       "      <td>298.100006</td>\n",
       "      <td>328.200012</td>\n",
       "    </tr>\n",
       "    <tr>\n",
       "      <th>3</th>\n",
       "      <td>227.097618</td>\n",
       "      <td>181.600006</td>\n",
       "      <td>289.850006</td>\n",
       "    </tr>\n",
       "    <tr>\n",
       "      <th>4</th>\n",
       "      <td>185.833333</td>\n",
       "      <td>175.500000</td>\n",
       "      <td>193.250000</td>\n",
       "    </tr>\n",
       "    <tr>\n",
       "      <th>5</th>\n",
       "      <td>162.755263</td>\n",
       "      <td>150.850006</td>\n",
       "      <td>178.850006</td>\n",
       "    </tr>\n",
       "    <tr>\n",
       "      <th>6</th>\n",
       "      <td>180.377271</td>\n",
       "      <td>170.050003</td>\n",
       "      <td>192.449997</td>\n",
       "    </tr>\n",
       "    <tr>\n",
       "      <th>7</th>\n",
       "      <td>189.928260</td>\n",
       "      <td>183.800003</td>\n",
       "      <td>199.100006</td>\n",
       "    </tr>\n",
       "    <tr>\n",
       "      <th>8</th>\n",
       "      <td>199.885715</td>\n",
       "      <td>190.649994</td>\n",
       "      <td>224.850006</td>\n",
       "    </tr>\n",
       "    <tr>\n",
       "      <th>9</th>\n",
       "      <td>196.304545</td>\n",
       "      <td>176.350006</td>\n",
       "      <td>218.100006</td>\n",
       "    </tr>\n",
       "    <tr>\n",
       "      <th>10</th>\n",
       "      <td>195.764286</td>\n",
       "      <td>188.699997</td>\n",
       "      <td>204.000000</td>\n",
       "    </tr>\n",
       "    <tr>\n",
       "      <th>11</th>\n",
       "      <td>230.344999</td>\n",
       "      <td>196.050003</td>\n",
       "      <td>252.000000</td>\n",
       "    </tr>\n",
       "    <tr>\n",
       "      <th>12</th>\n",
       "      <td>266.772729</td>\n",
       "      <td>246.949997</td>\n",
       "      <td>277.899994</td>\n",
       "    </tr>\n",
       "    <tr>\n",
       "      <th rowspan=\"12\" valign=\"top\">2021</th>\n",
       "      <th>1</th>\n",
       "      <td>289.452501</td>\n",
       "      <td>275.649994</td>\n",
       "      <td>307.250000</td>\n",
       "    </tr>\n",
       "    <tr>\n",
       "      <th>2</th>\n",
       "      <td>385.995001</td>\n",
       "      <td>310.700012</td>\n",
       "      <td>415.200012</td>\n",
       "    </tr>\n",
       "    <tr>\n",
       "      <th>3</th>\n",
       "      <td>377.400001</td>\n",
       "      <td>355.200012</td>\n",
       "      <td>405.049988</td>\n",
       "    </tr>\n",
       "    <tr>\n",
       "      <th>4</th>\n",
       "      <td>347.460523</td>\n",
       "      <td>328.850006</td>\n",
       "      <td>370.649994</td>\n",
       "    </tr>\n",
       "    <tr>\n",
       "      <th>5</th>\n",
       "      <td>383.542500</td>\n",
       "      <td>350.600006</td>\n",
       "      <td>425.200012</td>\n",
       "    </tr>\n",
       "    <tr>\n",
       "      <th>6</th>\n",
       "      <td>426.156820</td>\n",
       "      <td>412.899994</td>\n",
       "      <td>439.649994</td>\n",
       "    </tr>\n",
       "    <tr>\n",
       "      <th>7</th>\n",
       "      <td>428.066665</td>\n",
       "      <td>420.399994</td>\n",
       "      <td>441.549988</td>\n",
       "    </tr>\n",
       "    <tr>\n",
       "      <th>8</th>\n",
       "      <td>426.197622</td>\n",
       "      <td>406.700012</td>\n",
       "      <td>456.950012</td>\n",
       "    </tr>\n",
       "    <tr>\n",
       "      <th>9</th>\n",
       "      <td>440.595238</td>\n",
       "      <td>429.100006</td>\n",
       "      <td>463.700012</td>\n",
       "    </tr>\n",
       "    <tr>\n",
       "      <th>10</th>\n",
       "      <td>485.540004</td>\n",
       "      <td>451.649994</td>\n",
       "      <td>519.150024</td>\n",
       "    </tr>\n",
       "    <tr>\n",
       "      <th>11</th>\n",
       "      <td>502.807503</td>\n",
       "      <td>460.549988</td>\n",
       "      <td>530.450012</td>\n",
       "    </tr>\n",
       "    <tr>\n",
       "      <th>12</th>\n",
       "      <td>469.915216</td>\n",
       "      <td>446.000000</td>\n",
       "      <td>494.700012</td>\n",
       "    </tr>\n",
       "    <tr>\n",
       "      <th>2022</th>\n",
       "      <th>1</th>\n",
       "      <td>504.268423</td>\n",
       "      <td>470.799988</td>\n",
       "      <td>528.950012</td>\n",
       "    </tr>\n",
       "  </tbody>\n",
       "</table>\n",
       "</div>"
      ],
      "text/plain": [
       "                 Close                        \n",
       "                  mean         min         max\n",
       "year month                                    \n",
       "2018 1      307.663637  296.149994  329.899994\n",
       "     2      282.592104  267.600006  306.049988\n",
       "     3      251.665788  234.800003  263.500000\n",
       "     4      248.671426  233.199997  263.299988\n",
       "     5      252.909090  238.850006  272.049988\n",
       "     6      270.904763  257.000000  287.700012\n",
       "     7      266.120457  251.600006  297.399994\n",
       "     8      303.523812  292.700012  317.399994\n",
       "     9      281.219443  263.850006  306.350006\n",
       "     10     264.573810  248.100006  281.399994\n",
       "     11     285.554999  277.950012  294.950012\n",
       "     12     287.919997  274.200012  300.700012\n",
       "2019 1      294.830432  280.600006  305.549988\n",
       "     2      273.900000  259.950012  289.049988\n",
       "     3      293.183333  272.950012  319.000000\n",
       "     4      314.555261  305.250000  329.000000\n",
       "     5      327.452272  298.250000  361.700012\n",
       "     6      348.163155  336.899994  362.149994\n",
       "     7      354.895651  327.549988  372.399994\n",
       "     8      287.680002  268.549988  317.149994\n",
       "     9      283.052633  268.399994  313.750000\n",
       "     10     266.929999  249.100006  312.399994\n",
       "     11     325.147496  306.000000  349.299988\n",
       "     12     329.852382  312.799988  341.850006\n",
       "2020 1      322.582611  310.700012  339.299988\n",
       "     2      318.442108  298.100006  328.200012\n",
       "     3      227.097618  181.600006  289.850006\n",
       "     4      185.833333  175.500000  193.250000\n",
       "     5      162.755263  150.850006  178.850006\n",
       "     6      180.377271  170.050003  192.449997\n",
       "     7      189.928260  183.800003  199.100006\n",
       "     8      199.885715  190.649994  224.850006\n",
       "     9      196.304545  176.350006  218.100006\n",
       "     10     195.764286  188.699997  204.000000\n",
       "     11     230.344999  196.050003  252.000000\n",
       "     12     266.772729  246.949997  277.899994\n",
       "2021 1      289.452501  275.649994  307.250000\n",
       "     2      385.995001  310.700012  415.200012\n",
       "     3      377.400001  355.200012  405.049988\n",
       "     4      347.460523  328.850006  370.649994\n",
       "     5      383.542500  350.600006  425.200012\n",
       "     6      426.156820  412.899994  439.649994\n",
       "     7      428.066665  420.399994  441.549988\n",
       "     8      426.197622  406.700012  456.950012\n",
       "     9      440.595238  429.100006  463.700012\n",
       "     10     485.540004  451.649994  519.150024\n",
       "     11     502.807503  460.549988  530.450012\n",
       "     12     469.915216  446.000000  494.700012\n",
       "2022 1      504.268423  470.799988  528.950012"
      ]
     },
     "execution_count": 77,
     "metadata": {},
     "output_type": "execute_result"
    }
   ],
   "source": [
    "df2"
   ]
  },
  {
   "cell_type": "code",
   "execution_count": 78,
   "metadata": {
    "pycharm": {
     "name": "#%%\n"
    }
   },
   "outputs": [],
   "source": [
    "df = px.data.gapminder().query(\"continent=='Oceania'\")\n"
   ]
  },
  {
   "cell_type": "code",
   "execution_count": 47,
   "metadata": {},
   "outputs": [
    {
     "data": {
      "text/html": [
       "<div>\n",
       "<style scoped>\n",
       "    .dataframe tbody tr th:only-of-type {\n",
       "        vertical-align: middle;\n",
       "    }\n",
       "\n",
       "    .dataframe tbody tr th {\n",
       "        vertical-align: top;\n",
       "    }\n",
       "\n",
       "    .dataframe thead th {\n",
       "        text-align: right;\n",
       "    }\n",
       "</style>\n",
       "<table border=\"1\" class=\"dataframe\">\n",
       "  <thead>\n",
       "    <tr style=\"text-align: right;\">\n",
       "      <th></th>\n",
       "      <th>country</th>\n",
       "      <th>continent</th>\n",
       "      <th>year</th>\n",
       "      <th>lifeExp</th>\n",
       "      <th>pop</th>\n",
       "      <th>gdpPercap</th>\n",
       "      <th>iso_alpha</th>\n",
       "      <th>iso_num</th>\n",
       "    </tr>\n",
       "  </thead>\n",
       "  <tbody>\n",
       "    <tr>\n",
       "      <th>60</th>\n",
       "      <td>Australia</td>\n",
       "      <td>Oceania</td>\n",
       "      <td>1952</td>\n",
       "      <td>69.120</td>\n",
       "      <td>8691212</td>\n",
       "      <td>10039.59564</td>\n",
       "      <td>AUS</td>\n",
       "      <td>36</td>\n",
       "    </tr>\n",
       "    <tr>\n",
       "      <th>61</th>\n",
       "      <td>Australia</td>\n",
       "      <td>Oceania</td>\n",
       "      <td>1957</td>\n",
       "      <td>70.330</td>\n",
       "      <td>9712569</td>\n",
       "      <td>10949.64959</td>\n",
       "      <td>AUS</td>\n",
       "      <td>36</td>\n",
       "    </tr>\n",
       "    <tr>\n",
       "      <th>62</th>\n",
       "      <td>Australia</td>\n",
       "      <td>Oceania</td>\n",
       "      <td>1962</td>\n",
       "      <td>70.930</td>\n",
       "      <td>10794968</td>\n",
       "      <td>12217.22686</td>\n",
       "      <td>AUS</td>\n",
       "      <td>36</td>\n",
       "    </tr>\n",
       "    <tr>\n",
       "      <th>63</th>\n",
       "      <td>Australia</td>\n",
       "      <td>Oceania</td>\n",
       "      <td>1967</td>\n",
       "      <td>71.100</td>\n",
       "      <td>11872264</td>\n",
       "      <td>14526.12465</td>\n",
       "      <td>AUS</td>\n",
       "      <td>36</td>\n",
       "    </tr>\n",
       "    <tr>\n",
       "      <th>64</th>\n",
       "      <td>Australia</td>\n",
       "      <td>Oceania</td>\n",
       "      <td>1972</td>\n",
       "      <td>71.930</td>\n",
       "      <td>13177000</td>\n",
       "      <td>16788.62948</td>\n",
       "      <td>AUS</td>\n",
       "      <td>36</td>\n",
       "    </tr>\n",
       "    <tr>\n",
       "      <th>65</th>\n",
       "      <td>Australia</td>\n",
       "      <td>Oceania</td>\n",
       "      <td>1977</td>\n",
       "      <td>73.490</td>\n",
       "      <td>14074100</td>\n",
       "      <td>18334.19751</td>\n",
       "      <td>AUS</td>\n",
       "      <td>36</td>\n",
       "    </tr>\n",
       "    <tr>\n",
       "      <th>66</th>\n",
       "      <td>Australia</td>\n",
       "      <td>Oceania</td>\n",
       "      <td>1982</td>\n",
       "      <td>74.740</td>\n",
       "      <td>15184200</td>\n",
       "      <td>19477.00928</td>\n",
       "      <td>AUS</td>\n",
       "      <td>36</td>\n",
       "    </tr>\n",
       "    <tr>\n",
       "      <th>67</th>\n",
       "      <td>Australia</td>\n",
       "      <td>Oceania</td>\n",
       "      <td>1987</td>\n",
       "      <td>76.320</td>\n",
       "      <td>16257249</td>\n",
       "      <td>21888.88903</td>\n",
       "      <td>AUS</td>\n",
       "      <td>36</td>\n",
       "    </tr>\n",
       "    <tr>\n",
       "      <th>68</th>\n",
       "      <td>Australia</td>\n",
       "      <td>Oceania</td>\n",
       "      <td>1992</td>\n",
       "      <td>77.560</td>\n",
       "      <td>17481977</td>\n",
       "      <td>23424.76683</td>\n",
       "      <td>AUS</td>\n",
       "      <td>36</td>\n",
       "    </tr>\n",
       "    <tr>\n",
       "      <th>69</th>\n",
       "      <td>Australia</td>\n",
       "      <td>Oceania</td>\n",
       "      <td>1997</td>\n",
       "      <td>78.830</td>\n",
       "      <td>18565243</td>\n",
       "      <td>26997.93657</td>\n",
       "      <td>AUS</td>\n",
       "      <td>36</td>\n",
       "    </tr>\n",
       "    <tr>\n",
       "      <th>70</th>\n",
       "      <td>Australia</td>\n",
       "      <td>Oceania</td>\n",
       "      <td>2002</td>\n",
       "      <td>80.370</td>\n",
       "      <td>19546792</td>\n",
       "      <td>30687.75473</td>\n",
       "      <td>AUS</td>\n",
       "      <td>36</td>\n",
       "    </tr>\n",
       "    <tr>\n",
       "      <th>71</th>\n",
       "      <td>Australia</td>\n",
       "      <td>Oceania</td>\n",
       "      <td>2007</td>\n",
       "      <td>81.235</td>\n",
       "      <td>20434176</td>\n",
       "      <td>34435.36744</td>\n",
       "      <td>AUS</td>\n",
       "      <td>36</td>\n",
       "    </tr>\n",
       "    <tr>\n",
       "      <th>1092</th>\n",
       "      <td>New Zealand</td>\n",
       "      <td>Oceania</td>\n",
       "      <td>1952</td>\n",
       "      <td>69.390</td>\n",
       "      <td>1994794</td>\n",
       "      <td>10556.57566</td>\n",
       "      <td>NZL</td>\n",
       "      <td>554</td>\n",
       "    </tr>\n",
       "    <tr>\n",
       "      <th>1093</th>\n",
       "      <td>New Zealand</td>\n",
       "      <td>Oceania</td>\n",
       "      <td>1957</td>\n",
       "      <td>70.260</td>\n",
       "      <td>2229407</td>\n",
       "      <td>12247.39532</td>\n",
       "      <td>NZL</td>\n",
       "      <td>554</td>\n",
       "    </tr>\n",
       "    <tr>\n",
       "      <th>1094</th>\n",
       "      <td>New Zealand</td>\n",
       "      <td>Oceania</td>\n",
       "      <td>1962</td>\n",
       "      <td>71.240</td>\n",
       "      <td>2488550</td>\n",
       "      <td>13175.67800</td>\n",
       "      <td>NZL</td>\n",
       "      <td>554</td>\n",
       "    </tr>\n",
       "    <tr>\n",
       "      <th>1095</th>\n",
       "      <td>New Zealand</td>\n",
       "      <td>Oceania</td>\n",
       "      <td>1967</td>\n",
       "      <td>71.520</td>\n",
       "      <td>2728150</td>\n",
       "      <td>14463.91893</td>\n",
       "      <td>NZL</td>\n",
       "      <td>554</td>\n",
       "    </tr>\n",
       "    <tr>\n",
       "      <th>1096</th>\n",
       "      <td>New Zealand</td>\n",
       "      <td>Oceania</td>\n",
       "      <td>1972</td>\n",
       "      <td>71.890</td>\n",
       "      <td>2929100</td>\n",
       "      <td>16046.03728</td>\n",
       "      <td>NZL</td>\n",
       "      <td>554</td>\n",
       "    </tr>\n",
       "    <tr>\n",
       "      <th>1097</th>\n",
       "      <td>New Zealand</td>\n",
       "      <td>Oceania</td>\n",
       "      <td>1977</td>\n",
       "      <td>72.220</td>\n",
       "      <td>3164900</td>\n",
       "      <td>16233.71770</td>\n",
       "      <td>NZL</td>\n",
       "      <td>554</td>\n",
       "    </tr>\n",
       "    <tr>\n",
       "      <th>1098</th>\n",
       "      <td>New Zealand</td>\n",
       "      <td>Oceania</td>\n",
       "      <td>1982</td>\n",
       "      <td>73.840</td>\n",
       "      <td>3210650</td>\n",
       "      <td>17632.41040</td>\n",
       "      <td>NZL</td>\n",
       "      <td>554</td>\n",
       "    </tr>\n",
       "    <tr>\n",
       "      <th>1099</th>\n",
       "      <td>New Zealand</td>\n",
       "      <td>Oceania</td>\n",
       "      <td>1987</td>\n",
       "      <td>74.320</td>\n",
       "      <td>3317166</td>\n",
       "      <td>19007.19129</td>\n",
       "      <td>NZL</td>\n",
       "      <td>554</td>\n",
       "    </tr>\n",
       "    <tr>\n",
       "      <th>1100</th>\n",
       "      <td>New Zealand</td>\n",
       "      <td>Oceania</td>\n",
       "      <td>1992</td>\n",
       "      <td>76.330</td>\n",
       "      <td>3437674</td>\n",
       "      <td>18363.32494</td>\n",
       "      <td>NZL</td>\n",
       "      <td>554</td>\n",
       "    </tr>\n",
       "    <tr>\n",
       "      <th>1101</th>\n",
       "      <td>New Zealand</td>\n",
       "      <td>Oceania</td>\n",
       "      <td>1997</td>\n",
       "      <td>77.550</td>\n",
       "      <td>3676187</td>\n",
       "      <td>21050.41377</td>\n",
       "      <td>NZL</td>\n",
       "      <td>554</td>\n",
       "    </tr>\n",
       "    <tr>\n",
       "      <th>1102</th>\n",
       "      <td>New Zealand</td>\n",
       "      <td>Oceania</td>\n",
       "      <td>2002</td>\n",
       "      <td>79.110</td>\n",
       "      <td>3908037</td>\n",
       "      <td>23189.80135</td>\n",
       "      <td>NZL</td>\n",
       "      <td>554</td>\n",
       "    </tr>\n",
       "    <tr>\n",
       "      <th>1103</th>\n",
       "      <td>New Zealand</td>\n",
       "      <td>Oceania</td>\n",
       "      <td>2007</td>\n",
       "      <td>80.204</td>\n",
       "      <td>4115771</td>\n",
       "      <td>25185.00911</td>\n",
       "      <td>NZL</td>\n",
       "      <td>554</td>\n",
       "    </tr>\n",
       "  </tbody>\n",
       "</table>\n",
       "</div>"
      ],
      "text/plain": [
       "          country continent  year  lifeExp       pop    gdpPercap iso_alpha  \\\n",
       "60      Australia   Oceania  1952   69.120   8691212  10039.59564       AUS   \n",
       "61      Australia   Oceania  1957   70.330   9712569  10949.64959       AUS   \n",
       "62      Australia   Oceania  1962   70.930  10794968  12217.22686       AUS   \n",
       "63      Australia   Oceania  1967   71.100  11872264  14526.12465       AUS   \n",
       "64      Australia   Oceania  1972   71.930  13177000  16788.62948       AUS   \n",
       "65      Australia   Oceania  1977   73.490  14074100  18334.19751       AUS   \n",
       "66      Australia   Oceania  1982   74.740  15184200  19477.00928       AUS   \n",
       "67      Australia   Oceania  1987   76.320  16257249  21888.88903       AUS   \n",
       "68      Australia   Oceania  1992   77.560  17481977  23424.76683       AUS   \n",
       "69      Australia   Oceania  1997   78.830  18565243  26997.93657       AUS   \n",
       "70      Australia   Oceania  2002   80.370  19546792  30687.75473       AUS   \n",
       "71      Australia   Oceania  2007   81.235  20434176  34435.36744       AUS   \n",
       "1092  New Zealand   Oceania  1952   69.390   1994794  10556.57566       NZL   \n",
       "1093  New Zealand   Oceania  1957   70.260   2229407  12247.39532       NZL   \n",
       "1094  New Zealand   Oceania  1962   71.240   2488550  13175.67800       NZL   \n",
       "1095  New Zealand   Oceania  1967   71.520   2728150  14463.91893       NZL   \n",
       "1096  New Zealand   Oceania  1972   71.890   2929100  16046.03728       NZL   \n",
       "1097  New Zealand   Oceania  1977   72.220   3164900  16233.71770       NZL   \n",
       "1098  New Zealand   Oceania  1982   73.840   3210650  17632.41040       NZL   \n",
       "1099  New Zealand   Oceania  1987   74.320   3317166  19007.19129       NZL   \n",
       "1100  New Zealand   Oceania  1992   76.330   3437674  18363.32494       NZL   \n",
       "1101  New Zealand   Oceania  1997   77.550   3676187  21050.41377       NZL   \n",
       "1102  New Zealand   Oceania  2002   79.110   3908037  23189.80135       NZL   \n",
       "1103  New Zealand   Oceania  2007   80.204   4115771  25185.00911       NZL   \n",
       "\n",
       "      iso_num  \n",
       "60         36  \n",
       "61         36  \n",
       "62         36  \n",
       "63         36  \n",
       "64         36  \n",
       "65         36  \n",
       "66         36  \n",
       "67         36  \n",
       "68         36  \n",
       "69         36  \n",
       "70         36  \n",
       "71         36  \n",
       "1092      554  \n",
       "1093      554  \n",
       "1094      554  \n",
       "1095      554  \n",
       "1096      554  \n",
       "1097      554  \n",
       "1098      554  \n",
       "1099      554  \n",
       "1100      554  \n",
       "1101      554  \n",
       "1102      554  \n",
       "1103      554  "
      ]
     },
     "execution_count": 47,
     "metadata": {},
     "output_type": "execute_result"
    }
   ],
   "source": [
    "df"
   ]
  },
  {
   "cell_type": "code",
   "execution_count": 58,
   "metadata": {
    "scrolled": true
   },
   "outputs": [
    {
     "ename": "ValueError",
     "evalue": "The truth value of a DataFrame is ambiguous. Use a.empty, a.bool(), a.item(), a.any() or a.all().",
     "output_type": "error",
     "traceback": [
      "\u001B[0;31m---------------------------------------------------------------------------\u001B[0m",
      "\u001B[0;31mValueError\u001B[0m                                Traceback (most recent call last)",
      "\u001B[0;32m/var/folders/xm/04s2ld0n1jqbwfgytc7tjrf00000gn/T/ipykernel_73928/735826592.py\u001B[0m in \u001B[0;36m<module>\u001B[0;34m\u001B[0m\n\u001B[0;32m----> 1\u001B[0;31m \u001B[0mfig\u001B[0m \u001B[0;34m=\u001B[0m \u001B[0mpx\u001B[0m\u001B[0;34m.\u001B[0m\u001B[0mline\u001B[0m\u001B[0;34m(\u001B[0m\u001B[0mdf2\u001B[0m\u001B[0;34m,\u001B[0m \u001B[0mx\u001B[0m\u001B[0;34m=\u001B[0m\u001B[0;34m\"Close\"\u001B[0m\u001B[0;34m,\u001B[0m \u001B[0my\u001B[0m\u001B[0;34m=\u001B[0m\u001B[0;34m\"year\"\u001B[0m\u001B[0;34m,\u001B[0m \u001B[0mcolor\u001B[0m\u001B[0;34m=\u001B[0m\u001B[0;34m'Close'\u001B[0m\u001B[0;34m)\u001B[0m\u001B[0;34m\u001B[0m\u001B[0;34m\u001B[0m\u001B[0m\n\u001B[0m\u001B[1;32m      2\u001B[0m \u001B[0mfig\u001B[0m\u001B[0;34m.\u001B[0m\u001B[0mshow\u001B[0m\u001B[0;34m(\u001B[0m\u001B[0;34m)\u001B[0m\u001B[0;34m\u001B[0m\u001B[0;34m\u001B[0m\u001B[0m\n",
      "\u001B[0;32m~/opt/anaconda3/lib/python3.9/site-packages/plotly/express/_chart_types.py\u001B[0m in \u001B[0;36mline\u001B[0;34m(data_frame, x, y, line_group, color, line_dash, symbol, hover_name, hover_data, custom_data, text, facet_row, facet_col, facet_col_wrap, facet_row_spacing, facet_col_spacing, error_x, error_x_minus, error_y, error_y_minus, animation_frame, animation_group, category_orders, labels, orientation, color_discrete_sequence, color_discrete_map, line_dash_sequence, line_dash_map, symbol_sequence, symbol_map, markers, log_x, log_y, range_x, range_y, line_shape, render_mode, title, template, width, height)\u001B[0m\n\u001B[1;32m    260\u001B[0m     \u001B[0ma\u001B[0m \u001B[0mpolyline\u001B[0m \u001B[0mmark\u001B[0m \u001B[0;32min\u001B[0m \u001B[0;36m2\u001B[0m\u001B[0mD\u001B[0m \u001B[0mspace\u001B[0m\u001B[0;34m.\u001B[0m\u001B[0;34m\u001B[0m\u001B[0;34m\u001B[0m\u001B[0m\n\u001B[1;32m    261\u001B[0m     \"\"\"\n\u001B[0;32m--> 262\u001B[0;31m     \u001B[0;32mreturn\u001B[0m \u001B[0mmake_figure\u001B[0m\u001B[0;34m(\u001B[0m\u001B[0margs\u001B[0m\u001B[0;34m=\u001B[0m\u001B[0mlocals\u001B[0m\u001B[0;34m(\u001B[0m\u001B[0;34m)\u001B[0m\u001B[0;34m,\u001B[0m \u001B[0mconstructor\u001B[0m\u001B[0;34m=\u001B[0m\u001B[0mgo\u001B[0m\u001B[0;34m.\u001B[0m\u001B[0mScatter\u001B[0m\u001B[0;34m)\u001B[0m\u001B[0;34m\u001B[0m\u001B[0;34m\u001B[0m\u001B[0m\n\u001B[0m\u001B[1;32m    263\u001B[0m \u001B[0;34m\u001B[0m\u001B[0m\n\u001B[1;32m    264\u001B[0m \u001B[0;34m\u001B[0m\u001B[0m\n",
      "\u001B[0;32m~/opt/anaconda3/lib/python3.9/site-packages/plotly/express/_core.py\u001B[0m in \u001B[0;36mmake_figure\u001B[0;34m(args, constructor, trace_patch, layout_patch)\u001B[0m\n\u001B[1;32m   1943\u001B[0m     \u001B[0mapply_default_cascade\u001B[0m\u001B[0;34m(\u001B[0m\u001B[0margs\u001B[0m\u001B[0;34m)\u001B[0m\u001B[0;34m\u001B[0m\u001B[0;34m\u001B[0m\u001B[0m\n\u001B[1;32m   1944\u001B[0m \u001B[0;34m\u001B[0m\u001B[0m\n\u001B[0;32m-> 1945\u001B[0;31m     \u001B[0margs\u001B[0m \u001B[0;34m=\u001B[0m \u001B[0mbuild_dataframe\u001B[0m\u001B[0;34m(\u001B[0m\u001B[0margs\u001B[0m\u001B[0;34m,\u001B[0m \u001B[0mconstructor\u001B[0m\u001B[0;34m)\u001B[0m\u001B[0;34m\u001B[0m\u001B[0;34m\u001B[0m\u001B[0m\n\u001B[0m\u001B[1;32m   1946\u001B[0m     \u001B[0;32mif\u001B[0m \u001B[0mconstructor\u001B[0m \u001B[0;32min\u001B[0m \u001B[0;34m[\u001B[0m\u001B[0mgo\u001B[0m\u001B[0;34m.\u001B[0m\u001B[0mTreemap\u001B[0m\u001B[0;34m,\u001B[0m \u001B[0mgo\u001B[0m\u001B[0;34m.\u001B[0m\u001B[0mSunburst\u001B[0m\u001B[0;34m,\u001B[0m \u001B[0mgo\u001B[0m\u001B[0;34m.\u001B[0m\u001B[0mIcicle\u001B[0m\u001B[0;34m]\u001B[0m \u001B[0;32mand\u001B[0m \u001B[0margs\u001B[0m\u001B[0;34m[\u001B[0m\u001B[0;34m\"path\"\u001B[0m\u001B[0;34m]\u001B[0m \u001B[0;32mis\u001B[0m \u001B[0;32mnot\u001B[0m \u001B[0;32mNone\u001B[0m\u001B[0;34m:\u001B[0m\u001B[0;34m\u001B[0m\u001B[0;34m\u001B[0m\u001B[0m\n\u001B[1;32m   1947\u001B[0m         \u001B[0margs\u001B[0m \u001B[0;34m=\u001B[0m \u001B[0mprocess_dataframe_hierarchy\u001B[0m\u001B[0;34m(\u001B[0m\u001B[0margs\u001B[0m\u001B[0;34m)\u001B[0m\u001B[0;34m\u001B[0m\u001B[0;34m\u001B[0m\u001B[0m\n",
      "\u001B[0;32m~/opt/anaconda3/lib/python3.9/site-packages/plotly/express/_core.py\u001B[0m in \u001B[0;36mbuild_dataframe\u001B[0;34m(args, constructor)\u001B[0m\n\u001B[1;32m   1403\u001B[0m     \u001B[0;31m# now that things have been prepped, we do the systematic rewriting of `args`\u001B[0m\u001B[0;34m\u001B[0m\u001B[0;34m\u001B[0m\u001B[0m\n\u001B[1;32m   1404\u001B[0m \u001B[0;34m\u001B[0m\u001B[0m\n\u001B[0;32m-> 1405\u001B[0;31m     df_output, wide_id_vars = process_args_into_dataframe(\n\u001B[0m\u001B[1;32m   1406\u001B[0m         \u001B[0margs\u001B[0m\u001B[0;34m,\u001B[0m \u001B[0mwide_mode\u001B[0m\u001B[0;34m,\u001B[0m \u001B[0mvar_name\u001B[0m\u001B[0;34m,\u001B[0m \u001B[0mvalue_name\u001B[0m\u001B[0;34m\u001B[0m\u001B[0;34m\u001B[0m\u001B[0m\n\u001B[1;32m   1407\u001B[0m     )\n",
      "\u001B[0;32m~/opt/anaconda3/lib/python3.9/site-packages/plotly/express/_core.py\u001B[0m in \u001B[0;36mprocess_args_into_dataframe\u001B[0;34m(args, wide_mode, var_name, value_name)\u001B[0m\n\u001B[1;32m   1220\u001B[0m                 \u001B[0;32melse\u001B[0m\u001B[0;34m:\u001B[0m\u001B[0;34m\u001B[0m\u001B[0;34m\u001B[0m\u001B[0m\n\u001B[1;32m   1221\u001B[0m                     \u001B[0mcol_name\u001B[0m \u001B[0;34m=\u001B[0m \u001B[0mstr\u001B[0m\u001B[0;34m(\u001B[0m\u001B[0margument\u001B[0m\u001B[0;34m)\u001B[0m\u001B[0;34m\u001B[0m\u001B[0;34m\u001B[0m\u001B[0m\n\u001B[0;32m-> 1222\u001B[0;31m                     \u001B[0mdf_output\u001B[0m\u001B[0;34m[\u001B[0m\u001B[0mcol_name\u001B[0m\u001B[0;34m]\u001B[0m \u001B[0;34m=\u001B[0m \u001B[0mto_unindexed_series\u001B[0m\u001B[0;34m(\u001B[0m\u001B[0mdf_input\u001B[0m\u001B[0;34m[\u001B[0m\u001B[0margument\u001B[0m\u001B[0;34m]\u001B[0m\u001B[0;34m)\u001B[0m\u001B[0;34m\u001B[0m\u001B[0;34m\u001B[0m\u001B[0m\n\u001B[0m\u001B[1;32m   1223\u001B[0m             \u001B[0;31m# ----------------- argument is likely a column / array / list.... -------\u001B[0m\u001B[0;34m\u001B[0m\u001B[0;34m\u001B[0m\u001B[0m\n\u001B[1;32m   1224\u001B[0m             \u001B[0;32melse\u001B[0m\u001B[0;34m:\u001B[0m\u001B[0;34m\u001B[0m\u001B[0;34m\u001B[0m\u001B[0m\n",
      "\u001B[0;32m~/opt/anaconda3/lib/python3.9/site-packages/plotly/express/_core.py\u001B[0m in \u001B[0;36mto_unindexed_series\u001B[0;34m(x)\u001B[0m\n\u001B[1;32m   1071\u001B[0m     \u001B[0mrequired\u001B[0m \u001B[0mto\u001B[0m \u001B[0mget\u001B[0m \u001B[0mthings\u001B[0m \u001B[0mto\u001B[0m \u001B[0mmatch\u001B[0m \u001B[0mup\u001B[0m \u001B[0mright\u001B[0m \u001B[0;32min\u001B[0m \u001B[0mthe\u001B[0m \u001B[0mnew\u001B[0m \u001B[0mDataFrame\u001B[0m \u001B[0mwe\u001B[0m\u001B[0;31m'\u001B[0m\u001B[0mre\u001B[0m \u001B[0mbuilding\u001B[0m\u001B[0;34m\u001B[0m\u001B[0;34m\u001B[0m\u001B[0m\n\u001B[1;32m   1072\u001B[0m     \"\"\"\n\u001B[0;32m-> 1073\u001B[0;31m     \u001B[0;32mreturn\u001B[0m \u001B[0mpd\u001B[0m\u001B[0;34m.\u001B[0m\u001B[0mSeries\u001B[0m\u001B[0;34m(\u001B[0m\u001B[0mx\u001B[0m\u001B[0;34m)\u001B[0m\u001B[0;34m.\u001B[0m\u001B[0mreset_index\u001B[0m\u001B[0;34m(\u001B[0m\u001B[0mdrop\u001B[0m\u001B[0;34m=\u001B[0m\u001B[0;32mTrue\u001B[0m\u001B[0;34m)\u001B[0m\u001B[0;34m\u001B[0m\u001B[0;34m\u001B[0m\u001B[0m\n\u001B[0m\u001B[1;32m   1074\u001B[0m \u001B[0;34m\u001B[0m\u001B[0m\n\u001B[1;32m   1075\u001B[0m \u001B[0;34m\u001B[0m\u001B[0m\n",
      "\u001B[0;32m~/opt/anaconda3/lib/python3.9/site-packages/pandas/core/series.py\u001B[0m in \u001B[0;36m__init__\u001B[0;34m(self, data, index, dtype, name, copy, fastpath)\u001B[0m\n\u001B[1;32m    353\u001B[0m             \u001B[0mname\u001B[0m \u001B[0;34m=\u001B[0m \u001B[0mibase\u001B[0m\u001B[0;34m.\u001B[0m\u001B[0mmaybe_extract_name\u001B[0m\u001B[0;34m(\u001B[0m\u001B[0mname\u001B[0m\u001B[0;34m,\u001B[0m \u001B[0mdata\u001B[0m\u001B[0;34m,\u001B[0m \u001B[0mtype\u001B[0m\u001B[0;34m(\u001B[0m\u001B[0mself\u001B[0m\u001B[0;34m)\u001B[0m\u001B[0;34m)\u001B[0m\u001B[0;34m\u001B[0m\u001B[0;34m\u001B[0m\u001B[0m\n\u001B[1;32m    354\u001B[0m \u001B[0;34m\u001B[0m\u001B[0m\n\u001B[0;32m--> 355\u001B[0;31m             \u001B[0;32mif\u001B[0m \u001B[0mis_empty_data\u001B[0m\u001B[0;34m(\u001B[0m\u001B[0mdata\u001B[0m\u001B[0;34m)\u001B[0m \u001B[0;32mand\u001B[0m \u001B[0mdtype\u001B[0m \u001B[0;32mis\u001B[0m \u001B[0;32mNone\u001B[0m\u001B[0;34m:\u001B[0m\u001B[0;34m\u001B[0m\u001B[0;34m\u001B[0m\u001B[0m\n\u001B[0m\u001B[1;32m    356\u001B[0m                 \u001B[0;31m# gh-17261\u001B[0m\u001B[0;34m\u001B[0m\u001B[0;34m\u001B[0m\u001B[0m\n\u001B[1;32m    357\u001B[0m                 warnings.warn(\n",
      "\u001B[0;32m~/opt/anaconda3/lib/python3.9/site-packages/pandas/core/construction.py\u001B[0m in \u001B[0;36mis_empty_data\u001B[0;34m(data)\u001B[0m\n\u001B[1;32m    794\u001B[0m     \u001B[0mis_none\u001B[0m \u001B[0;34m=\u001B[0m \u001B[0mdata\u001B[0m \u001B[0;32mis\u001B[0m \u001B[0;32mNone\u001B[0m\u001B[0;34m\u001B[0m\u001B[0;34m\u001B[0m\u001B[0m\n\u001B[1;32m    795\u001B[0m     \u001B[0mis_list_like_without_dtype\u001B[0m \u001B[0;34m=\u001B[0m \u001B[0mis_list_like\u001B[0m\u001B[0;34m(\u001B[0m\u001B[0mdata\u001B[0m\u001B[0;34m)\u001B[0m \u001B[0;32mand\u001B[0m \u001B[0;32mnot\u001B[0m \u001B[0mhasattr\u001B[0m\u001B[0;34m(\u001B[0m\u001B[0mdata\u001B[0m\u001B[0;34m,\u001B[0m \u001B[0;34m\"dtype\"\u001B[0m\u001B[0;34m)\u001B[0m\u001B[0;34m\u001B[0m\u001B[0;34m\u001B[0m\u001B[0m\n\u001B[0;32m--> 796\u001B[0;31m     \u001B[0mis_simple_empty\u001B[0m \u001B[0;34m=\u001B[0m \u001B[0mis_list_like_without_dtype\u001B[0m \u001B[0;32mand\u001B[0m \u001B[0;32mnot\u001B[0m \u001B[0mdata\u001B[0m\u001B[0;34m\u001B[0m\u001B[0;34m\u001B[0m\u001B[0m\n\u001B[0m\u001B[1;32m    797\u001B[0m     \u001B[0;32mreturn\u001B[0m \u001B[0mis_none\u001B[0m \u001B[0;32mor\u001B[0m \u001B[0mis_simple_empty\u001B[0m\u001B[0;34m\u001B[0m\u001B[0;34m\u001B[0m\u001B[0m\n\u001B[1;32m    798\u001B[0m \u001B[0;34m\u001B[0m\u001B[0m\n",
      "\u001B[0;32m~/opt/anaconda3/lib/python3.9/site-packages/pandas/core/generic.py\u001B[0m in \u001B[0;36m__nonzero__\u001B[0;34m(self)\u001B[0m\n\u001B[1;32m   1535\u001B[0m     \u001B[0;34m@\u001B[0m\u001B[0mfinal\u001B[0m\u001B[0;34m\u001B[0m\u001B[0;34m\u001B[0m\u001B[0m\n\u001B[1;32m   1536\u001B[0m     \u001B[0;32mdef\u001B[0m \u001B[0m__nonzero__\u001B[0m\u001B[0;34m(\u001B[0m\u001B[0mself\u001B[0m\u001B[0;34m)\u001B[0m\u001B[0;34m:\u001B[0m\u001B[0;34m\u001B[0m\u001B[0;34m\u001B[0m\u001B[0m\n\u001B[0;32m-> 1537\u001B[0;31m         raise ValueError(\n\u001B[0m\u001B[1;32m   1538\u001B[0m             \u001B[0;34mf\"The truth value of a {type(self).__name__} is ambiguous. \"\u001B[0m\u001B[0;34m\u001B[0m\u001B[0;34m\u001B[0m\u001B[0m\n\u001B[1;32m   1539\u001B[0m             \u001B[0;34m\"Use a.empty, a.bool(), a.item(), a.any() or a.all().\"\u001B[0m\u001B[0;34m\u001B[0m\u001B[0;34m\u001B[0m\u001B[0m\n",
      "\u001B[0;31mValueError\u001B[0m: The truth value of a DataFrame is ambiguous. Use a.empty, a.bool(), a.item(), a.any() or a.all()."
     ]
    }
   ],
   "source": [
    "fig = px.line(df2, x=\"Close\", y=\"year\", color='Close')\n",
    "fig.show()"
   ]
  },
  {
   "cell_type": "code",
   "execution_count": null,
   "metadata": {},
   "outputs": [],
   "source": []
  }
 ],
 "metadata": {
  "colab": {
   "collapsed_sections": [],
   "name": "Linear Regression.ipynb",
   "provenance": []
  },
  "kernelspec": {
   "display_name": "Python 3 (ipykernel)",
   "language": "python",
   "name": "python3"
  },
  "language_info": {
   "codemirror_mode": {
    "name": "ipython",
    "version": 3
   },
   "file_extension": ".py",
   "mimetype": "text/x-python",
   "name": "python",
   "nbconvert_exporter": "python",
   "pygments_lexer": "ipython3",
   "version": "3.9.7"
  }
 },
 "nbformat": 4,
 "nbformat_minor": 1
}
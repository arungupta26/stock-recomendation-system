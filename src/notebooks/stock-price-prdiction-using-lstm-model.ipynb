{
 "cells": [
  {
   "cell_type": "code",
   "execution_count": 2,
   "metadata": {
    "pycharm": {
     "name": "#%%\n"
    }
   },
   "outputs": [
    {
     "name": "stdout",
     "output_type": "stream",
     "text": [
      "Requirement already satisfied: keras in /Users/arungupta/opt/anaconda3/lib/python3.9/site-packages (2.7.0)\r\n",
      "Requirement already satisfied: tensorflow in /Users/arungupta/opt/anaconda3/lib/python3.9/site-packages (2.7.0)\r\n",
      "Requirement already satisfied: pandas in /Users/arungupta/opt/anaconda3/lib/python3.9/site-packages (1.3.4)\r\n",
      "Requirement already satisfied: tensorboard~=2.6 in /Users/arungupta/opt/anaconda3/lib/python3.9/site-packages (from tensorflow) (2.7.0)\r\n",
      "Requirement already satisfied: astunparse>=1.6.0 in /Users/arungupta/opt/anaconda3/lib/python3.9/site-packages (from tensorflow) (1.6.3)\r\n",
      "Requirement already satisfied: wrapt>=1.11.0 in /Users/arungupta/opt/anaconda3/lib/python3.9/site-packages (from tensorflow) (1.12.1)\r\n",
      "Requirement already satisfied: h5py>=2.9.0 in /Users/arungupta/opt/anaconda3/lib/python3.9/site-packages (from tensorflow) (3.2.1)\r\n",
      "Requirement already satisfied: grpcio<2.0,>=1.24.3 in /Users/arungupta/opt/anaconda3/lib/python3.9/site-packages (from tensorflow) (1.42.0)\r\n",
      "Requirement already satisfied: flatbuffers<3.0,>=1.12 in /Users/arungupta/opt/anaconda3/lib/python3.9/site-packages (from tensorflow) (2.0)\r\n",
      "Requirement already satisfied: numpy>=1.14.5 in /Users/arungupta/opt/anaconda3/lib/python3.9/site-packages (from tensorflow) (1.20.3)\r\n",
      "Requirement already satisfied: libclang>=9.0.1 in /Users/arungupta/opt/anaconda3/lib/python3.9/site-packages (from tensorflow) (12.0.0)\r\n",
      "Requirement already satisfied: keras-preprocessing>=1.1.1 in /Users/arungupta/opt/anaconda3/lib/python3.9/site-packages (from tensorflow) (1.1.2)\r\n",
      "Requirement already satisfied: protobuf>=3.9.2 in /Users/arungupta/opt/anaconda3/lib/python3.9/site-packages (from tensorflow) (3.19.1)\r\n",
      "Requirement already satisfied: tensorflow-estimator<2.8,~=2.7.0rc0 in /Users/arungupta/opt/anaconda3/lib/python3.9/site-packages (from tensorflow) (2.7.0)\r\n",
      "Requirement already satisfied: absl-py>=0.4.0 in /Users/arungupta/opt/anaconda3/lib/python3.9/site-packages (from tensorflow) (1.0.0)\r\n",
      "Requirement already satisfied: wheel<1.0,>=0.32.0 in /Users/arungupta/opt/anaconda3/lib/python3.9/site-packages (from tensorflow) (0.37.0)\r\n",
      "Requirement already satisfied: opt-einsum>=2.3.2 in /Users/arungupta/opt/anaconda3/lib/python3.9/site-packages (from tensorflow) (3.3.0)\r\n",
      "Requirement already satisfied: six>=1.12.0 in /Users/arungupta/opt/anaconda3/lib/python3.9/site-packages (from tensorflow) (1.16.0)\r\n",
      "Requirement already satisfied: tensorflow-io-gcs-filesystem>=0.21.0 in /Users/arungupta/opt/anaconda3/lib/python3.9/site-packages (from tensorflow) (0.23.1)\r\n",
      "Requirement already satisfied: typing-extensions>=3.6.6 in /Users/arungupta/opt/anaconda3/lib/python3.9/site-packages (from tensorflow) (3.10.0.2)\r\n",
      "Requirement already satisfied: termcolor>=1.1.0 in /Users/arungupta/opt/anaconda3/lib/python3.9/site-packages (from tensorflow) (1.1.0)\r\n",
      "Requirement already satisfied: gast<0.5.0,>=0.2.1 in /Users/arungupta/opt/anaconda3/lib/python3.9/site-packages (from tensorflow) (0.4.0)\r\n",
      "Requirement already satisfied: google-pasta>=0.1.1 in /Users/arungupta/opt/anaconda3/lib/python3.9/site-packages (from tensorflow) (0.2.0)\r\n",
      "Requirement already satisfied: python-dateutil>=2.7.3 in /Users/arungupta/opt/anaconda3/lib/python3.9/site-packages (from pandas) (2.8.2)\r\n",
      "Requirement already satisfied: pytz>=2017.3 in /Users/arungupta/opt/anaconda3/lib/python3.9/site-packages (from pandas) (2021.3)\r\n",
      "Requirement already satisfied: requests<3,>=2.21.0 in /Users/arungupta/opt/anaconda3/lib/python3.9/site-packages (from tensorboard~=2.6->tensorflow) (2.26.0)\r\n",
      "Requirement already satisfied: werkzeug>=0.11.15 in /Users/arungupta/opt/anaconda3/lib/python3.9/site-packages (from tensorboard~=2.6->tensorflow) (2.0.2)\r\n",
      "Requirement already satisfied: google-auth<3,>=1.6.3 in /Users/arungupta/opt/anaconda3/lib/python3.9/site-packages (from tensorboard~=2.6->tensorflow) (2.3.3)\r\n",
      "Requirement already satisfied: markdown>=2.6.8 in /Users/arungupta/opt/anaconda3/lib/python3.9/site-packages (from tensorboard~=2.6->tensorflow) (3.3.6)\r\n",
      "Requirement already satisfied: tensorboard-plugin-wit>=1.6.0 in /Users/arungupta/opt/anaconda3/lib/python3.9/site-packages (from tensorboard~=2.6->tensorflow) (1.8.0)\r\n",
      "Requirement already satisfied: setuptools>=41.0.0 in /Users/arungupta/opt/anaconda3/lib/python3.9/site-packages (from tensorboard~=2.6->tensorflow) (58.0.4)\r\n",
      "Requirement already satisfied: google-auth-oauthlib<0.5,>=0.4.1 in /Users/arungupta/opt/anaconda3/lib/python3.9/site-packages (from tensorboard~=2.6->tensorflow) (0.4.6)\r\n",
      "Requirement already satisfied: tensorboard-data-server<0.7.0,>=0.6.0 in /Users/arungupta/opt/anaconda3/lib/python3.9/site-packages (from tensorboard~=2.6->tensorflow) (0.6.1)\r\n",
      "Requirement already satisfied: cachetools<5.0,>=2.0.0 in /Users/arungupta/opt/anaconda3/lib/python3.9/site-packages (from google-auth<3,>=1.6.3->tensorboard~=2.6->tensorflow) (4.2.4)\r\n",
      "Requirement already satisfied: rsa<5,>=3.1.4 in /Users/arungupta/opt/anaconda3/lib/python3.9/site-packages (from google-auth<3,>=1.6.3->tensorboard~=2.6->tensorflow) (4.8)\r\n",
      "Requirement already satisfied: pyasn1-modules>=0.2.1 in /Users/arungupta/opt/anaconda3/lib/python3.9/site-packages (from google-auth<3,>=1.6.3->tensorboard~=2.6->tensorflow) (0.2.8)\r\n",
      "Requirement already satisfied: requests-oauthlib>=0.7.0 in /Users/arungupta/opt/anaconda3/lib/python3.9/site-packages (from google-auth-oauthlib<0.5,>=0.4.1->tensorboard~=2.6->tensorflow) (1.3.0)\r\n",
      "Requirement already satisfied: importlib-metadata>=4.4 in /Users/arungupta/opt/anaconda3/lib/python3.9/site-packages (from markdown>=2.6.8->tensorboard~=2.6->tensorflow) (4.8.1)\r\n",
      "Requirement already satisfied: zipp>=0.5 in /Users/arungupta/opt/anaconda3/lib/python3.9/site-packages (from importlib-metadata>=4.4->markdown>=2.6.8->tensorboard~=2.6->tensorflow) (3.6.0)\r\n",
      "Requirement already satisfied: pyasn1<0.5.0,>=0.4.6 in /Users/arungupta/opt/anaconda3/lib/python3.9/site-packages (from pyasn1-modules>=0.2.1->google-auth<3,>=1.6.3->tensorboard~=2.6->tensorflow) (0.4.8)\r\n",
      "Requirement already satisfied: certifi>=2017.4.17 in /Users/arungupta/opt/anaconda3/lib/python3.9/site-packages (from requests<3,>=2.21.0->tensorboard~=2.6->tensorflow) (2021.10.8)\r\n",
      "Requirement already satisfied: urllib3<1.27,>=1.21.1 in /Users/arungupta/opt/anaconda3/lib/python3.9/site-packages (from requests<3,>=2.21.0->tensorboard~=2.6->tensorflow) (1.26.7)\r\n",
      "Requirement already satisfied: idna<4,>=2.5 in /Users/arungupta/opt/anaconda3/lib/python3.9/site-packages (from requests<3,>=2.21.0->tensorboard~=2.6->tensorflow) (3.2)\r\n",
      "Requirement already satisfied: charset-normalizer~=2.0.0 in /Users/arungupta/opt/anaconda3/lib/python3.9/site-packages (from requests<3,>=2.21.0->tensorboard~=2.6->tensorflow) (2.0.4)\r\n",
      "Requirement already satisfied: oauthlib>=3.0.0 in /Users/arungupta/opt/anaconda3/lib/python3.9/site-packages (from requests-oauthlib>=0.7.0->google-auth-oauthlib<0.5,>=0.4.1->tensorboard~=2.6->tensorflow) (3.1.1)\r\n"
     ]
    }
   ],
   "source": [
    "#!pip install keras tensorflow pandas"
   ]
  },
  {
   "cell_type": "code",
   "execution_count": 3,
   "metadata": {
    "collapsed": true
   },
   "outputs": [],
   "source": [
    "# from matplotlib.pylab import rcParams\n",
    "# rcParams['figure.figsize']=20,10\n",
    "# from keras.models import Sequential\n",
    "# from keras.layers import LSTM,Dropout,Dense"
   ]
  },
  {
   "cell_type": "code",
   "execution_count": null,
   "metadata": {
    "pycharm": {
     "is_executing": true,
     "name": "#%%\n"
    }
   },
   "outputs": [],
   "source": [
    "%matplotlib inline\n",
    "import matplotlib.pyplot as plt\n",
    "import numpy as np\n",
    "import pandas as pd\n",
    "from sklearn.preprocessing import MinMaxScaler\n",
    "\n",
    "from keras.models import Sequential"
   ]
  },
  {
   "cell_type": "code",
   "execution_count": 1,
   "metadata": {
    "pycharm": {
     "name": "#%%\n"
    }
   },
   "outputs": [
    {
     "ename": "NameError",
     "evalue": "name 'pd' is not defined",
     "output_type": "error",
     "traceback": [
      "\u001B[0;31m---------------------------------------------------------------------------\u001B[0m",
      "\u001B[0;31mNameError\u001B[0m                                 Traceback (most recent call last)",
      "\u001B[0;32m/var/folders/xm/04s2ld0n1jqbwfgytc7tjrf00000gn/T/ipykernel_4638/3621376080.py\u001B[0m in \u001B[0;36m<module>\u001B[0;34m\u001B[0m\n\u001B[0;32m----> 1\u001B[0;31m \u001B[0mdf\u001B[0m\u001B[0;34m=\u001B[0m\u001B[0mpd\u001B[0m\u001B[0;34m.\u001B[0m\u001B[0mread_csv\u001B[0m\u001B[0;34m(\u001B[0m\u001B[0;34m\"../../dataset-nifty50/ICICIBANK.csv\"\u001B[0m\u001B[0;34m)\u001B[0m\u001B[0;34m\u001B[0m\u001B[0;34m\u001B[0m\u001B[0m\n\u001B[0m\u001B[1;32m      2\u001B[0m \u001B[0mdf\u001B[0m\u001B[0;34m.\u001B[0m\u001B[0mhead\u001B[0m\u001B[0;34m(\u001B[0m\u001B[0;34m)\u001B[0m\u001B[0;34m\u001B[0m\u001B[0;34m\u001B[0m\u001B[0m\n",
      "\u001B[0;31mNameError\u001B[0m: name 'pd' is not defined"
     ]
    }
   ],
   "source": [
    "\n",
    "df=pd.read_csv(\"../../dataset-nifty50/ICICIBANK.csv\")\n",
    "df.head()"
   ]
  },
  {
   "cell_type": "code",
   "execution_count": 2,
   "metadata": {
    "pycharm": {
     "name": "#%%\n"
    }
   },
   "outputs": [
    {
     "ename": "NameError",
     "evalue": "name 'pd' is not defined",
     "output_type": "error",
     "traceback": [
      "\u001B[0;31m---------------------------------------------------------------------------\u001B[0m",
      "\u001B[0;31mNameError\u001B[0m                                 Traceback (most recent call last)",
      "\u001B[0;32m/var/folders/xm/04s2ld0n1jqbwfgytc7tjrf00000gn/T/ipykernel_81979/3404504681.py\u001B[0m in \u001B[0;36m<module>\u001B[0;34m\u001B[0m\n\u001B[0;32m----> 1\u001B[0;31m \u001B[0mdf\u001B[0m\u001B[0;34m[\u001B[0m\u001B[0;34m\"Date\"\u001B[0m\u001B[0;34m]\u001B[0m\u001B[0;34m=\u001B[0m\u001B[0mpd\u001B[0m\u001B[0;34m.\u001B[0m\u001B[0mto_datetime\u001B[0m\u001B[0;34m(\u001B[0m\u001B[0mdf\u001B[0m\u001B[0;34m.\u001B[0m\u001B[0mDate\u001B[0m\u001B[0;34m,\u001B[0m\u001B[0mformat\u001B[0m\u001B[0;34m=\u001B[0m\u001B[0;34m\"%Y-%m-%d\"\u001B[0m\u001B[0;34m)\u001B[0m\u001B[0;34m\u001B[0m\u001B[0;34m\u001B[0m\u001B[0m\n\u001B[0m\u001B[1;32m      2\u001B[0m \u001B[0mdf\u001B[0m\u001B[0;34m.\u001B[0m\u001B[0mindex\u001B[0m\u001B[0;34m=\u001B[0m\u001B[0mdf\u001B[0m\u001B[0;34m[\u001B[0m\u001B[0;34m'Date'\u001B[0m\u001B[0;34m]\u001B[0m\u001B[0;34m\u001B[0m\u001B[0;34m\u001B[0m\u001B[0m\n\u001B[1;32m      3\u001B[0m \u001B[0;34m\u001B[0m\u001B[0m\n\u001B[1;32m      4\u001B[0m \u001B[0;31m#print(df)\u001B[0m\u001B[0;34m\u001B[0m\u001B[0;34m\u001B[0m\u001B[0m\n\u001B[1;32m      5\u001B[0m \u001B[0mplt\u001B[0m\u001B[0;34m.\u001B[0m\u001B[0mfigure\u001B[0m\u001B[0;34m(\u001B[0m\u001B[0mfigsize\u001B[0m\u001B[0;34m=\u001B[0m\u001B[0;34m(\u001B[0m\u001B[0;36m16\u001B[0m\u001B[0;34m,\u001B[0m\u001B[0;36m8\u001B[0m\u001B[0;34m)\u001B[0m\u001B[0;34m)\u001B[0m\u001B[0;34m\u001B[0m\u001B[0;34m\u001B[0m\u001B[0m\n",
      "\u001B[0;31mNameError\u001B[0m: name 'pd' is not defined"
     ]
    }
   ],
   "source": [
    "df[\"Date\"]=pd.to_datetime(df.Date,format=\"%Y-%m-%d\")\n",
    "df.index=df['Date']\n",
    "\n",
    "#print(df)\n",
    "plt.figure(figsize=(16,8))\n",
    "plt.plot(df[\"Close\"],label='Close Price history')"
   ]
  },
  {
   "cell_type": "code",
   "execution_count": null,
   "metadata": {
    "pycharm": {
     "name": "#%%\n"
    }
   },
   "outputs": [],
   "source": [
    "data=df.sort_index(ascending=True,axis=0)\n",
    "new_dataset=pd.DataFrame(index=range(0,len(df)),columns=['Date','Close'])\n",
    "for i in range(0,len(data)):\n",
    "    new_dataset[\"Date\"][i]=data['Date'][i]\n",
    "    new_dataset[\"Close\"][i]=data[\"Close\"][i]\n",
    "\n",
    "print(new_dataset)"
   ]
  },
  {
   "cell_type": "code",
   "execution_count": null,
   "metadata": {
    "pycharm": {
     "name": "#%%\n"
    }
   },
   "outputs": [],
   "source": [
    "scaler=MinMaxScaler()\n",
    "final_dataset=new_dataset.values\n",
    "train_data=final_dataset[0:987,:]\n",
    "valid_data=final_dataset[987:,:]\n",
    "new_dataset.index = new_dataset[\"Date\"]\n",
    "\n",
    "#new_dataset.drop(\"Date\",axis=1,inplace=True)\n",
    "\n",
    "print(new_dataset)\n",
    "\n"
   ]
  },
  {
   "cell_type": "code",
   "execution_count": null,
   "metadata": {
    "pycharm": {
     "name": "#%%\n"
    }
   },
   "outputs": [],
   "source": [
    "scaled_data =final_dataset\n",
    "x_train_data,y_train_data=[],[]\n",
    "for i in range(60,len(train_data)):\n",
    "    x_train_data.append(scaled_data[i-60:i,0])\n",
    "    y_train_data.append(scaled_data[i,0])\n",
    "\n",
    "x_train_data,y_train_data=np.array(x_train_data),np.array(y_train_data)\n",
    "x_train_data=np.reshape(x_train_data,(x_train_data.shape[0],x_train_data.shape[1],1))\n",
    "\n",
    "x_train_data"
   ]
  },
  {
   "cell_type": "code",
   "execution_count": null,
   "metadata": {
    "pycharm": {
     "name": "#%%\n"
    }
   },
   "outputs": [],
   "source": []
  },
  {
   "cell_type": "code",
   "execution_count": null,
   "metadata": {
    "pycharm": {
     "name": "#%%\n"
    }
   },
   "outputs": [],
   "source": [
    "lstm_model=Sequential()\n",
    "lstm_model.add(LSTM(units=50,return_sequences=True,input_shape=(x_train_data.shape[1],1)))\n",
    "lstm_model.add(LSTM(units=50))\n",
    "lstm_model.add(Dense(1))\n",
    "inputs_data=new_dataset[len(new_dataset)-len(valid_data)-60:].values\n",
    "inputs_data=inputs_data.reshape(-1,1)\n",
    "inputs_data=scaler.transform(inputs_data)\n",
    "lstm_model.compile(loss='mean_squared_error',optimizer='adam')\n",
    "lstm_model.fit(x_train_data,y_train_data,epochs=1,batch_size=1,verbose=2)"
   ]
  },
  {
   "cell_type": "code",
   "execution_count": null,
   "metadata": {
    "pycharm": {
     "is_executing": true,
     "name": "#%%\n"
    }
   },
   "outputs": [],
   "source": []
  }
 ],
 "metadata": {
  "kernelspec": {
   "display_name": "Python 3 (ipykernel)",
   "language": "python",
   "name": "python3"
  },
  "language_info": {
   "codemirror_mode": {
    "name": "ipython",
    "version": 3
   },
   "file_extension": ".py",
   "mimetype": "text/x-python",
   "name": "python",
   "nbconvert_exporter": "python",
   "pygments_lexer": "ipython3",
   "version": "3.9.7"
  }
 },
 "nbformat": 4,
 "nbformat_minor": 1
}
{
 "cells": [
  {
   "cell_type": "code",
   "execution_count": 2,
   "id": "e688e774",
   "metadata": {},
   "outputs": [],
   "source": [
    "import numpy as np\n",
    "import pandas as pd\n",
    "import matplotlib.pyplot as plt\n",
    "import pandas_datareader as data"
   ]
  },
  {
   "cell_type": "code",
   "execution_count": 3,
   "id": "893adcaa",
   "metadata": {},
   "outputs": [
    {
     "data": {
      "text/html": [
       "<div>\n",
       "<style scoped>\n",
       "    .dataframe tbody tr th:only-of-type {\n",
       "        vertical-align: middle;\n",
       "    }\n",
       "\n",
       "    .dataframe tbody tr th {\n",
       "        vertical-align: top;\n",
       "    }\n",
       "\n",
       "    .dataframe thead th {\n",
       "        text-align: right;\n",
       "    }\n",
       "</style>\n",
       "<table border=\"1\" class=\"dataframe\">\n",
       "  <thead>\n",
       "    <tr style=\"text-align: right;\">\n",
       "      <th></th>\n",
       "      <th>High</th>\n",
       "      <th>Low</th>\n",
       "      <th>Open</th>\n",
       "      <th>Close</th>\n",
       "      <th>Volume</th>\n",
       "      <th>Adj Close</th>\n",
       "    </tr>\n",
       "    <tr>\n",
       "      <th>Date</th>\n",
       "      <th></th>\n",
       "      <th></th>\n",
       "      <th></th>\n",
       "      <th></th>\n",
       "      <th></th>\n",
       "      <th></th>\n",
       "    </tr>\n",
       "  </thead>\n",
       "  <tbody>\n",
       "    <tr>\n",
       "      <th>2002-07-01</th>\n",
       "      <td>25.818180</td>\n",
       "      <td>24.818180</td>\n",
       "      <td>25.418180</td>\n",
       "      <td>25.127272</td>\n",
       "      <td>2047540.0</td>\n",
       "      <td>18.292471</td>\n",
       "    </tr>\n",
       "    <tr>\n",
       "      <th>2002-07-02</th>\n",
       "      <td>27.636362</td>\n",
       "      <td>25.236362</td>\n",
       "      <td>25.454544</td>\n",
       "      <td>26.745455</td>\n",
       "      <td>5546354.0</td>\n",
       "      <td>19.470497</td>\n",
       "    </tr>\n",
       "    <tr>\n",
       "      <th>2002-07-03</th>\n",
       "      <td>28.181818</td>\n",
       "      <td>26.645454</td>\n",
       "      <td>26.727272</td>\n",
       "      <td>28.090908</td>\n",
       "      <td>5745267.0</td>\n",
       "      <td>20.449976</td>\n",
       "    </tr>\n",
       "    <tr>\n",
       "      <th>2002-07-04</th>\n",
       "      <td>28.799999</td>\n",
       "      <td>27.036364</td>\n",
       "      <td>28.181818</td>\n",
       "      <td>27.390909</td>\n",
       "      <td>3896601.0</td>\n",
       "      <td>19.940384</td>\n",
       "    </tr>\n",
       "    <tr>\n",
       "      <th>2002-07-05</th>\n",
       "      <td>27.863636</td>\n",
       "      <td>26.945454</td>\n",
       "      <td>27.090908</td>\n",
       "      <td>27.672728</td>\n",
       "      <td>3261038.0</td>\n",
       "      <td>20.145544</td>\n",
       "    </tr>\n",
       "  </tbody>\n",
       "</table>\n",
       "</div>"
      ],
      "text/plain": [
       "                 High        Low       Open      Close     Volume  Adj Close\n",
       "Date                                                                        \n",
       "2002-07-01  25.818180  24.818180  25.418180  25.127272  2047540.0  18.292471\n",
       "2002-07-02  27.636362  25.236362  25.454544  26.745455  5546354.0  19.470497\n",
       "2002-07-03  28.181818  26.645454  26.727272  28.090908  5745267.0  20.449976\n",
       "2002-07-04  28.799999  27.036364  28.181818  27.390909  3896601.0  19.940384\n",
       "2002-07-05  27.863636  26.945454  27.090908  27.672728  3261038.0  20.145544"
      ]
     },
     "execution_count": 3,
     "metadata": {},
     "output_type": "execute_result"
    }
   ],
   "source": [
    "start = '2000-01-01'\n",
    "end = '2022-01-11'\n",
    "\n",
    "df = data.DataReader('ICICIBANK.NS','yahoo',start,end)\n",
    "df.head()"
   ]
  },
  {
   "cell_type": "code",
   "execution_count": 4,
   "id": "03c91c25",
   "metadata": {},
   "outputs": [
    {
     "data": {
      "text/html": [
       "<div>\n",
       "<style scoped>\n",
       "    .dataframe tbody tr th:only-of-type {\n",
       "        vertical-align: middle;\n",
       "    }\n",
       "\n",
       "    .dataframe tbody tr th {\n",
       "        vertical-align: top;\n",
       "    }\n",
       "\n",
       "    .dataframe thead th {\n",
       "        text-align: right;\n",
       "    }\n",
       "</style>\n",
       "<table border=\"1\" class=\"dataframe\">\n",
       "  <thead>\n",
       "    <tr style=\"text-align: right;\">\n",
       "      <th></th>\n",
       "      <th>Date</th>\n",
       "      <th>High</th>\n",
       "      <th>Low</th>\n",
       "      <th>Open</th>\n",
       "      <th>Close</th>\n",
       "      <th>Volume</th>\n",
       "      <th>Adj Close</th>\n",
       "    </tr>\n",
       "  </thead>\n",
       "  <tbody>\n",
       "    <tr>\n",
       "      <th>0</th>\n",
       "      <td>2002-07-01</td>\n",
       "      <td>25.818180</td>\n",
       "      <td>24.818180</td>\n",
       "      <td>25.418180</td>\n",
       "      <td>25.127272</td>\n",
       "      <td>2047540.0</td>\n",
       "      <td>18.292471</td>\n",
       "    </tr>\n",
       "    <tr>\n",
       "      <th>1</th>\n",
       "      <td>2002-07-02</td>\n",
       "      <td>27.636362</td>\n",
       "      <td>25.236362</td>\n",
       "      <td>25.454544</td>\n",
       "      <td>26.745455</td>\n",
       "      <td>5546354.0</td>\n",
       "      <td>19.470497</td>\n",
       "    </tr>\n",
       "    <tr>\n",
       "      <th>2</th>\n",
       "      <td>2002-07-03</td>\n",
       "      <td>28.181818</td>\n",
       "      <td>26.645454</td>\n",
       "      <td>26.727272</td>\n",
       "      <td>28.090908</td>\n",
       "      <td>5745267.0</td>\n",
       "      <td>20.449976</td>\n",
       "    </tr>\n",
       "    <tr>\n",
       "      <th>3</th>\n",
       "      <td>2002-07-04</td>\n",
       "      <td>28.799999</td>\n",
       "      <td>27.036364</td>\n",
       "      <td>28.181818</td>\n",
       "      <td>27.390909</td>\n",
       "      <td>3896601.0</td>\n",
       "      <td>19.940384</td>\n",
       "    </tr>\n",
       "    <tr>\n",
       "      <th>4</th>\n",
       "      <td>2002-07-05</td>\n",
       "      <td>27.863636</td>\n",
       "      <td>26.945454</td>\n",
       "      <td>27.090908</td>\n",
       "      <td>27.672728</td>\n",
       "      <td>3261038.0</td>\n",
       "      <td>20.145544</td>\n",
       "    </tr>\n",
       "  </tbody>\n",
       "</table>\n",
       "</div>"
      ],
      "text/plain": [
       "        Date       High        Low       Open      Close     Volume  Adj Close\n",
       "0 2002-07-01  25.818180  24.818180  25.418180  25.127272  2047540.0  18.292471\n",
       "1 2002-07-02  27.636362  25.236362  25.454544  26.745455  5546354.0  19.470497\n",
       "2 2002-07-03  28.181818  26.645454  26.727272  28.090908  5745267.0  20.449976\n",
       "3 2002-07-04  28.799999  27.036364  28.181818  27.390909  3896601.0  19.940384\n",
       "4 2002-07-05  27.863636  26.945454  27.090908  27.672728  3261038.0  20.145544"
      ]
     },
     "execution_count": 4,
     "metadata": {},
     "output_type": "execute_result"
    }
   ],
   "source": [
    "df = df.reset_index()\n",
    "df.head()"
   ]
  },
  {
   "cell_type": "code",
   "execution_count": 5,
   "id": "481c959c",
   "metadata": {},
   "outputs": [
    {
     "data": {
      "text/html": [
       "<div>\n",
       "<style scoped>\n",
       "    .dataframe tbody tr th:only-of-type {\n",
       "        vertical-align: middle;\n",
       "    }\n",
       "\n",
       "    .dataframe tbody tr th {\n",
       "        vertical-align: top;\n",
       "    }\n",
       "\n",
       "    .dataframe thead th {\n",
       "        text-align: right;\n",
       "    }\n",
       "</style>\n",
       "<table border=\"1\" class=\"dataframe\">\n",
       "  <thead>\n",
       "    <tr style=\"text-align: right;\">\n",
       "      <th></th>\n",
       "      <th>High</th>\n",
       "      <th>Low</th>\n",
       "      <th>Open</th>\n",
       "      <th>Close</th>\n",
       "      <th>Volume</th>\n",
       "    </tr>\n",
       "  </thead>\n",
       "  <tbody>\n",
       "    <tr>\n",
       "      <th>0</th>\n",
       "      <td>25.818180</td>\n",
       "      <td>24.818180</td>\n",
       "      <td>25.418180</td>\n",
       "      <td>25.127272</td>\n",
       "      <td>2047540.0</td>\n",
       "    </tr>\n",
       "    <tr>\n",
       "      <th>1</th>\n",
       "      <td>27.636362</td>\n",
       "      <td>25.236362</td>\n",
       "      <td>25.454544</td>\n",
       "      <td>26.745455</td>\n",
       "      <td>5546354.0</td>\n",
       "    </tr>\n",
       "    <tr>\n",
       "      <th>2</th>\n",
       "      <td>28.181818</td>\n",
       "      <td>26.645454</td>\n",
       "      <td>26.727272</td>\n",
       "      <td>28.090908</td>\n",
       "      <td>5745267.0</td>\n",
       "    </tr>\n",
       "    <tr>\n",
       "      <th>3</th>\n",
       "      <td>28.799999</td>\n",
       "      <td>27.036364</td>\n",
       "      <td>28.181818</td>\n",
       "      <td>27.390909</td>\n",
       "      <td>3896601.0</td>\n",
       "    </tr>\n",
       "    <tr>\n",
       "      <th>4</th>\n",
       "      <td>27.863636</td>\n",
       "      <td>26.945454</td>\n",
       "      <td>27.090908</td>\n",
       "      <td>27.672728</td>\n",
       "      <td>3261038.0</td>\n",
       "    </tr>\n",
       "  </tbody>\n",
       "</table>\n",
       "</div>"
      ],
      "text/plain": [
       "        High        Low       Open      Close     Volume\n",
       "0  25.818180  24.818180  25.418180  25.127272  2047540.0\n",
       "1  27.636362  25.236362  25.454544  26.745455  5546354.0\n",
       "2  28.181818  26.645454  26.727272  28.090908  5745267.0\n",
       "3  28.799999  27.036364  28.181818  27.390909  3896601.0\n",
       "4  27.863636  26.945454  27.090908  27.672728  3261038.0"
      ]
     },
     "execution_count": 5,
     "metadata": {},
     "output_type": "execute_result"
    }
   ],
   "source": [
    "df = df.drop(['Date','Adj Close'], axis=1)\n",
    "df.head()"
   ]
  },
  {
   "cell_type": "code",
   "execution_count": 6,
   "id": "f1f4bc39",
   "metadata": {},
   "outputs": [
    {
     "data": {
      "text/plain": [
       "[<matplotlib.lines.Line2D at 0x7fe730019ac0>]"
      ]
     },
     "execution_count": 6,
     "metadata": {},
     "output_type": "execute_result"
    },
    {
     "data": {
      "image/png": "[encoded data removed]",
      "text/plain": [
       "<Figure size 432x288 with 1 Axes>"
      ]
     },
     "metadata": {
      "needs_background": "light"
     },
     "output_type": "display_data"
    }
   ],
   "source": [
    "plt.plot(df.Close)"
   ]
  },
  {
   "cell_type": "code",
   "execution_count": 7,
   "id": "b22b1fdc",
   "metadata": {},
   "outputs": [
    {
     "data": {
      "text/plain": [
       "0              NaN\n",
       "1              NaN\n",
       "2              NaN\n",
       "3              NaN\n",
       "4              NaN\n",
       "           ...    \n",
       "4849    735.725002\n",
       "4850    736.562002\n",
       "4851    737.446502\n",
       "4852    738.527502\n",
       "4853    739.622002\n",
       "Name: Close, Length: 4854, dtype: float64"
      ]
     },
     "execution_count": 7,
     "metadata": {},
     "output_type": "execute_result"
    }
   ],
   "source": [
    "ma100 = df.Close.rolling(100).mean()\n",
    "ma100"
   ]
  },
  {
   "cell_type": "code",
   "execution_count": 8,
   "id": "08efabe7",
   "metadata": {},
   "outputs": [
    {
     "data": {
      "text/plain": [
       "[<matplotlib.lines.Line2D at 0x7fe7798ace80>]"
      ]
     },
     "execution_count": 8,
     "metadata": {},
     "output_type": "execute_result"
    },
    {
     "data": {
      "image/png": "[encoded data removed]",
      "text/plain": [
       "<Figure size 864x432 with 1 Axes>"
      ]
     },
     "metadata": {
      "needs_background": "light"
     },
     "output_type": "display_data"
    }
   ],
   "source": [
    "plt.figure(figsize = (12,6))\n",
    "plt.plot(df.Close)\n",
    "plt.plot(ma100,'r')"
   ]
  },
  {
   "cell_type": "code",
   "execution_count": 9,
   "id": "a7a727e7",
   "metadata": {},
   "outputs": [
    {
     "data": {
      "text/plain": [
       "0              NaN\n",
       "1              NaN\n",
       "2              NaN\n",
       "3              NaN\n",
       "4              NaN\n",
       "           ...    \n",
       "4849    681.728251\n",
       "4850    682.706001\n",
       "4851    683.779251\n",
       "4852    684.899751\n",
       "4853    686.085751\n",
       "Name: Close, Length: 4854, dtype: float64"
      ]
     },
     "execution_count": 9,
     "metadata": {},
     "output_type": "execute_result"
    }
   ],
   "source": [
    "ma200 = df.Close.rolling(200).mean()\n",
    "ma200"
   ]
  },
  {
   "cell_type": "code",
   "execution_count": 10,
   "id": "41b32fbb",
   "metadata": {},
   "outputs": [
    {
     "data": {
      "text/plain": [
       "[<matplotlib.lines.Line2D at 0x7fe7884a7ee0>]"
      ]
     },
     "execution_count": 10,
     "metadata": {},
     "output_type": "execute_result"
    },
    {
     "data": {
      "image/png": "[encoded data removed]",
      "text/plain": [
       "<Figure size 1296x432 with 1 Axes>"
      ]
     },
     "metadata": {
      "needs_background": "light"
     },
     "output_type": "display_data"
    }
   ],
   "source": [
    "plt.figure(figsize = (18,6))\n",
    "plt.plot(df.Close)\n",
    "plt.plot(ma100,'r')\n",
    "plt.plot(ma200,'g')"
   ]
  },
  {
   "cell_type": "code",
   "execution_count": 11,
   "id": "52c5ec16",
   "metadata": {},
   "outputs": [
    {
     "data": {
      "text/plain": [
       "(4854, 5)"
      ]
     },
     "execution_count": 11,
     "metadata": {},
     "output_type": "execute_result"
    }
   ],
   "source": [
    "df.shape"
   ]
  },
  {
   "cell_type": "code",
   "execution_count": 12,
   "id": "839b5dad",
   "metadata": {},
   "outputs": [
    {
     "name": "stdout",
     "output_type": "stream",
     "text": [
      "(3397, 1)\n",
      "(1457, 1)\n"
     ]
    }
   ],
   "source": [
    "#spliting data into training and testing \n",
    "data_training = pd.DataFrame(df['Close'][0: int(len(df)*0.70)])\n",
    "data_testing = pd.DataFrame(df['Close'][int(len(df)*0.70) : int(len(df))])\n",
    "\n",
    "print(data_training.shape)\n",
    "print(data_testing.shape)"
   ]
  },
  {
   "cell_type": "code",
   "execution_count": 13,
   "id": "789e3614",
   "metadata": {},
   "outputs": [
    {
     "data": {
      "text/html": [
       "<div>\n",
       "<style scoped>\n",
       "    .dataframe tbody tr th:only-of-type {\n",
       "        vertical-align: middle;\n",
       "    }\n",
       "\n",
       "    .dataframe tbody tr th {\n",
       "        vertical-align: top;\n",
       "    }\n",
       "\n",
       "    .dataframe thead th {\n",
       "        text-align: right;\n",
       "    }\n",
       "</style>\n",
       "<table border=\"1\" class=\"dataframe\">\n",
       "  <thead>\n",
       "    <tr style=\"text-align: right;\">\n",
       "      <th></th>\n",
       "      <th>Close</th>\n",
       "    </tr>\n",
       "  </thead>\n",
       "  <tbody>\n",
       "    <tr>\n",
       "      <th>3392</th>\n",
       "      <td>188.409088</td>\n",
       "    </tr>\n",
       "    <tr>\n",
       "      <th>3393</th>\n",
       "      <td>181.136368</td>\n",
       "    </tr>\n",
       "    <tr>\n",
       "      <th>3394</th>\n",
       "      <td>175.954544</td>\n",
       "    </tr>\n",
       "    <tr>\n",
       "      <th>3395</th>\n",
       "      <td>185.000000</td>\n",
       "    </tr>\n",
       "    <tr>\n",
       "      <th>3396</th>\n",
       "      <td>178.727264</td>\n",
       "    </tr>\n",
       "  </tbody>\n",
       "</table>\n",
       "</div>"
      ],
      "text/plain": [
       "           Close\n",
       "3392  188.409088\n",
       "3393  181.136368\n",
       "3394  175.954544\n",
       "3395  185.000000\n",
       "3396  178.727264"
      ]
     },
     "execution_count": 13,
     "metadata": {},
     "output_type": "execute_result"
    }
   ],
   "source": [
    "data_training.tail()"
   ]
  },
  {
   "cell_type": "code",
   "execution_count": 14,
   "id": "6c0655db",
   "metadata": {},
   "outputs": [
    {
     "data": {
      "text/html": [
       "<div>\n",
       "<style scoped>\n",
       "    .dataframe tbody tr th:only-of-type {\n",
       "        vertical-align: middle;\n",
       "    }\n",
       "\n",
       "    .dataframe tbody tr th {\n",
       "        vertical-align: top;\n",
       "    }\n",
       "\n",
       "    .dataframe thead th {\n",
       "        text-align: right;\n",
       "    }\n",
       "</style>\n",
       "<table border=\"1\" class=\"dataframe\">\n",
       "  <thead>\n",
       "    <tr style=\"text-align: right;\">\n",
       "      <th></th>\n",
       "      <th>Close</th>\n",
       "    </tr>\n",
       "  </thead>\n",
       "  <tbody>\n",
       "    <tr>\n",
       "      <th>3397</th>\n",
       "      <td>173.409088</td>\n",
       "    </tr>\n",
       "    <tr>\n",
       "      <th>3398</th>\n",
       "      <td>178.318176</td>\n",
       "    </tr>\n",
       "    <tr>\n",
       "      <th>3399</th>\n",
       "      <td>180.727264</td>\n",
       "    </tr>\n",
       "    <tr>\n",
       "      <th>3400</th>\n",
       "      <td>180.409088</td>\n",
       "    </tr>\n",
       "    <tr>\n",
       "      <th>3401</th>\n",
       "      <td>174.545456</td>\n",
       "    </tr>\n",
       "  </tbody>\n",
       "</table>\n",
       "</div>"
      ],
      "text/plain": [
       "           Close\n",
       "3397  173.409088\n",
       "3398  178.318176\n",
       "3399  180.727264\n",
       "3400  180.409088\n",
       "3401  174.545456"
      ]
     },
     "execution_count": 14,
     "metadata": {},
     "output_type": "execute_result"
    }
   ],
   "source": [
    "data_testing.head()"
   ]
  },
  {
   "cell_type": "code",
   "execution_count": 15,
   "id": "57c15ffd",
   "metadata": {},
   "outputs": [],
   "source": [
    "#Scaling the data \n",
    "from sklearn.preprocessing import MinMaxScaler\n",
    "scaler = MinMaxScaler(feature_range=(0,1))"
   ]
  },
  {
   "cell_type": "code",
   "execution_count": 16,
   "id": "f6a67d64",
   "metadata": {},
   "outputs": [
    {
     "name": "stdout",
     "output_type": "stream",
     "text": [
      "[[0.01527877]\n",
      " [0.02019672]\n",
      " [0.02428579]\n",
      " ...\n",
      " [0.47366968]\n",
      " [0.50116043]\n",
      " [0.48209647]]\n"
     ]
    }
   ],
   "source": [
    "data_training_array = scaler.fit_transform(data_training)\n",
    "#data_testing_array = scaler.fit_transform(data_testing)\n",
    "\n",
    "print(data_training_array)\n",
    "#print(data_testing_array)"
   ]
  },
  {
   "cell_type": "code",
   "execution_count": 17,
   "id": "7c1ba068",
   "metadata": {},
   "outputs": [],
   "source": [
    "x_train = []\n",
    "y_train = []\n",
    "\n",
    "for i in range(100, data_training_array.shape[0]):\n",
    "    x_train.append(data_training_array[i-100:i])\n",
    "    y_train.append(data_training_array[i,0])\n",
    "    \n",
    "x_train,y_train = np.array(x_train) , np.array(y_train)"
   ]
  },
  {
   "cell_type": "code",
   "execution_count": null,
   "id": "317bb4a6",
   "metadata": {},
   "outputs": [],
   "source": [
    "#ML model\n",
    "\n",
    "from keras.models import load_model"
   ]
  },
  {
   "cell_type": "code",
   "execution_count": null,
   "id": "87190d9c",
   "metadata": {},
   "outputs": [],
   "source": [
    "mo"
   ]
  },
  {
   "cell_type": "code",
   "execution_count": null,
   "id": "5ad84c3f",
   "metadata": {},
   "outputs": [],
   "source": [
    "!pip install streamlit\n",
    "\n",
    "import streamlit as st"
   ]
  },
  {
   "cell_type": "code",
   "execution_count": null,
   "id": "cf0715f0",
   "metadata": {},
   "outputs": [],
   "source": [
    "!pip install keras tensorflow"
   ]
  },
  {
   "cell_type": "code",
   "execution_count": null,
   "id": "04d90463",
   "metadata": {},
   "outputs": [],
   "source": [
    "#from keras.models import load_model"
   ]
  },
  {
   "cell_type": "code",
   "execution_count": null,
   "id": "85ccf9c7",
   "metadata": {},
   "outputs": [],
   "source": []
  }
 ],
 "metadata": {
  "kernelspec": {
   "display_name": "Python 3 (ipykernel)",
   "language": "python",
   "name": "python3"
  },
  "language_info": {
   "codemirror_mode": {
    "name": "ipython",
    "version": 3
   },
   "file_extension": ".py",
   "mimetype": "text/x-python",
   "name": "python",
   "nbconvert_exporter": "python",
   "pygments_lexer": "ipython3",
   "version": "3.9.7"
  }
 },
 "nbformat": 4,
 "nbformat_minor": 5
}
